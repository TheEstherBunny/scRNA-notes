{
 "cells": [
  {
   "cell_type": "markdown",
   "metadata": {},
   "source": [
    "# Case study: Epithelial cells in different intestinal regions by 10x Chromium\n",
    "\n",
    "This ipython notebook is part of the Molecular Systems Biology submission 'Best practices in single-cell RNA-seq analysis: a tutorial'. \n",
    "\n",
    "Here, a data set of different regions of the mouse intestinal epithelium from (Haber et al. 2018) is analysed using a variety of tools. This notebook is intended to illustrate a typical single-cell RNA-seq analysis pipeline using current best practices and common tools. \n",
    "\n",
    "The data set contains ~13,000 cells of which approximately a third come from the duodenum, the jejunum, and the ileum. These are regions of the mouse intestinal epithelium (IE). The duodenum and the jejunum are in the proximal IE, while the ileum is the distal IE. "
   ]
  },
  {
   "cell_type": "markdown",
   "metadata": {},
   "source": [
    "If the relevant libraries and modules have been installed on the system, they must be loaded. The scanpy api gives access to all tools availalbe via the scanpy platform. Numpy and scipy are useful scientific computing libraries that are used by scanpy, and pandas is used to load in the data. Pandas is also the basis of the data structures used in scanpy (the Anndata module). Matplotlib and seaborn are used for plotting.\n",
    "\n",
    "R libraries that are used in this tutorial include:\n",
    "- scran for preprocessing\n",
    "- MAST for differential expression analysis\n",
    "- slingshot for pseudotime and trajectory inference\n",
    "- monocle2 for pseudotime and trajectory inference\n",
    "- gam for finding genes that change over pseudotime\n",
    "- RColorBrewer and clusterExperiment for visualization in R\n",
    "- ComplexHeatmap for heatmap plotting\n"
   ]
  },
  {
   "cell_type": "markdown",
   "metadata": {},
   "source": [
    "#### Timing\n",
    "The notebook takes approximately 2 hours and 9 minutes to run on a single core with sufficient RAM. The vast majority of this time is taken up by the trajectory inference and gene expression dynamics sections, which take over 1 hour and 40 minutes. Timings of the individual sections are given in the notebook. It should be expected that timings will vary in each run."
   ]
  },
  {
   "cell_type": "markdown",
   "metadata": {},
   "source": [
    "## Table of contents:\n",
    "\n",
    "  * <a href=#Reading>1 Reading in the data</a>\n",
    "  * <a href=#Preprocessing>2 Pre-processing and visualization</a>\n",
    "    * <a href=#QC>2.1 Quality Control</a>\n",
    "    * <a href=#Normalization>2.2 Normalization</a> \n",
    "    * <a href=#Batch>2.3 Batch correction</a>\n",
    "    * <a href=#HVG>2.4 Highly variable genes</a>\n",
    "    * <a href=#Visualization>2.5 Visualization</a>\n",
    "    * <a href=#CC>2.6 Cell cycle scoring</a>\n",
    "  * <a href=#Downstream>3 Downstream analysis</a>\n",
    "    * <a href=#Clustering>3.1 Clustering</a>\n",
    "    * <a href=#Markers>3.2 Marker genes & cluster annotation</a>\n",
    "    * <a href=#Subclustering>3.3 Subclustering</a>\n",
    "    * <a href=#Compositions>3.4 Compositional analysis</a>\n",
    "    * <a href=#TI>3.5 Trajectory inference</a>\n",
    "      * <a href=#Slingshot>3.5.1 Slingshot</a>\n",
    "      * <a href=#Slingshot_nbc>3.5.2 Slingshot (w/o batch correction)</a>\n",
    "      * <a href=#Monocle>3.5.3 Monocle</a>\n",
    "      * <a href=#DPT>3.5.4 Diffusion Pseudotime</a>\n",
    "    * <a href=#Gene_dynamics>3.6 Gene expression dynamics</a>\n",
    "    * <a href=#Metastable>3.7 Metastable states</a>\n",
    "    * <a href=#PAGA>3.8 Partition-based graph abstraction</a>\n",
    "    * <a href=#Gene-level>3.9 Gene-level analysis</a>\n",
    "      * <a href=#Diff_expr>3.9.1 Differential expression</a>\n",
    "      * <a href=#Gene_set>3.9.2 Gene set analysis</a>\n",
    "    * <a href=#Write>3.10 Writing to file</a>\n",
    "  * <a href=#Summary>4 Summary</a>\n",
    "    * <a href=#Comparison>4.1 Comparison with published results</a>"
   ]
  },
  {
   "cell_type": "markdown",
   "metadata": {},
   "source": [
    "# 0. Loading the libraries"
   ]
  },
  {
   "cell_type": "code",
   "execution_count": 1,
   "metadata": {
    "scrolled": false
   },
   "outputs": [],
   "source": [
    "import scanpy as sc\n",
    "import numpy as np\n",
    "import scipy as sp\n",
    "import pandas as pd\n",
    "import matplotlib.pyplot as plt\n",
    "from matplotlib import rcParams\n",
    "from matplotlib import colors\n",
    "import seaborn as sb\n",
    "from gprofiler import GProfiler\n",
    "\n",
    "import rpy2.rinterface_lib.callbacks\n",
    "import logging\n",
    "\n",
    "from rpy2.robjects import pandas2ri\n",
    "import anndata2ri"
   ]
  },
  {
   "cell_type": "code",
   "execution_count": 2,
   "metadata": {},
   "outputs": [
    {
     "name": "stdout",
     "output_type": "stream",
     "text": [
      "scanpy==1.4.3+115.g1aecabf anndata==0.6.22.post1 umap==0.3.9 numpy==1.16.4 scipy==1.3.0 pandas==0.24.2 scikit-learn==0.21.2 statsmodels==0.10.0 python-igraph==0.7.1 louvain==0.6.1\n"
     ]
    }
   ],
   "source": [
    "# Ignore R warning messages\n",
    "#Note: this can be commented out to get more verbose R output\n",
    "rpy2.rinterface_lib.callbacks.logger.setLevel(logging.ERROR)\n",
    "\n",
    "# Automatically convert rpy2 outputs to pandas dataframes\n",
    "pandas2ri.activate()\n",
    "anndata2ri.activate()\n",
    "%reload_ext rpy2.ipython\n",
    "\n",
    "plt.rcParams['figure.figsize']=(8,8) #rescale figures\n",
    "sc.settings.verbosity = 3\n",
    "#sc.set_figure_params(dpi=200, dpi_save=300)\n",
    "sc.logging.print_versions()"
   ]
  },
  {
   "cell_type": "code",
   "execution_count": 3,
   "metadata": {},
   "outputs": [],
   "source": [
    "%%R\n",
    "# Load libraries from correct lib Paths for my environment - ignore this!\n",
    ".libPaths(.libPaths()[c(3,2,1)])\n",
    "\n",
    "# Load all the R libraries we will be using in the notebook\n",
    "library(scran)\n",
    "library(RColorBrewer)\n",
    "library(slingshot)\n",
    "library(monocle)\n",
    "library(gam)\n",
    "library(clusterExperiment)\n",
    "library(ggplot2)\n",
    "library(plyr)\n",
    "library(MAST)"
   ]
  },
  {
   "cell_type": "markdown",
   "metadata": {},
   "source": [
    "<a id=\"Reading\"></a>"
   ]
  },
  {
   "cell_type": "markdown",
   "metadata": {},
   "source": [
    "# 1. Reading in the data\n",
    "\n",
    "The Haber et al. data set was retrieved from the Gene Expression Omnibus (GEO) via the ID GSE92332. The regional single cell expression data sets were extracted from the GSE92332_RAW.tar file (https://www.ncbi.nlm.nih.gov/geo/download/?acc=GSE92332&format=file) and are loaded by scanpy's read function. Note that single cell data exists in many formats and loading data may therefore require preprocessing. Packages like Scanpy and Seurat facilitate the data loading process by supporting several sparse and dense data formats in their read functions. When adapting the tutorial code to your own dataset, you will likely have to make changes to this section to match to the format of your data.\n",
    "\n",
    "Here, we are reading in sparse count matrices, but are immediately converting these to dense representation with the .toarray() function. We create dense matrices as our batch correction method outputs a dense expression matrix, and the data transfer between R and python is currently limited to dense matrices. When sparse batch correction methods are available, and rpy2 is extended to sparse matrices, it is more memory-efficient to keep the data in a sparse format.\n",
    "\n",
    "It should also be noted that the conventions for storing single cell data differ between R (Seurat, or Scater) and python platforms (Scanpy). Scanpy expects the data to be stored in the format cells x genes, while R platforms expect the transpose. As data is typically stored in the format genes x cells in the GEO, we must transpose the data before using it.\n",
    "\n",
    "Finally, the `Macosko_cell_cycle_genes.txt` contains a list of marker genes for different cell cycle phases. It can be ignored for now. We come back to this file in the <a href=#CC>Cell cycle scoring</a> section.\n",
    "\n",
    "[Timing: 18.7s reading from cache]"
   ]
  },
  {
   "cell_type": "code",
   "execution_count": 4,
   "metadata": {},
   "outputs": [],
   "source": [
    "# Set up data loading\n",
    "\n",
    "#Data files\n",
    "sample_strings = ['Duo_M1', 'Duo_M2', 'Jej_M1', 'Jej_M2', 'Il_M1', 'Il_M2']\n",
    "sample_id_strings = ['3', '4', '5', '6', '7', '8']\n",
    "file_base = '../data/Haber-et-al_mouse-intestinal-epithelium/GSE92332_RAW/GSM283657'\n",
    "exp_string = '_Regional_'\n",
    "data_file_end = '_matrix.mtx'\n",
    "barcode_file_end = '_barcodes.tsv'\n",
    "gene_file_end = '_genes.tsv'\n",
    "cc_genes_file = '../Macosko_cell_cycle_genes.txt'"
   ]
  },
  {
   "cell_type": "code",
   "execution_count": 5,
   "metadata": {
    "scrolled": true
   },
   "outputs": [
    {
     "name": "stdout",
     "output_type": "stream",
     "text": [
      "... reading from cache file cache/..-data-Haber-et-al_mouse-intestinal-epithelium-GSE92332_RAW-GSM2836573_Regional_Duo_M1_matrix.h5ad\n",
      "['Duo_M1']\n",
      "                  sample region donor\n",
      "barcode                              \n",
      "AAACATACAGCGGA-1  Duo_M1    Duo    M1\n",
      "AAACATACCTTACT-1  Duo_M1    Duo    M1\n",
      "AAACATACTTTGCT-1  Duo_M1    Duo    M1\n",
      "AAACCGTGCAGTCA-1  Duo_M1    Duo    M1\n",
      "AAACGCTGCAGTCA-1  Duo_M1    Duo    M1\n",
      "AAACGCTGCGTGAT-1  Duo_M1    Duo    M1\n",
      "AAACGCTGTCCAGA-1  Duo_M1    Duo    M1\n",
      "AAACGCTGTTCACT-1  Duo_M1    Duo    M1\n",
      "AAACGGCTACACTG-1  Duo_M1    Duo    M1\n",
      "AAACGGCTCAACCA-1  Duo_M1    Duo    M1\n",
      "AAACGGCTCTAAGC-1  Duo_M1    Duo    M1\n",
      "AAACGGCTGTTGCA-1  Duo_M1    Duo    M1\n",
      "AAAGACGAACGTTG-1  Duo_M1    Duo    M1\n",
      "AAAGAGACGGCATT-1  Duo_M1    Duo    M1\n",
      "AAAGATCTTAACGC-1  Duo_M1    Duo    M1\n",
      "AAAGCAGAACGCAT-1  Duo_M1    Duo    M1\n",
      "AAAGCAGAGCGTTA-1  Duo_M1    Duo    M1\n",
      "AAAGGCCTGAGGCA-1  Duo_M1    Duo    M1\n",
      "AAAGGCCTGGAACG-1  Duo_M1    Duo    M1\n",
      "AAAGTTTGCCATAG-1  Duo_M1    Duo    M1\n",
      "AAATACTGCGTACA-1  Duo_M1    Duo    M1\n",
      "AAATACTGGGTGAG-1  Duo_M1    Duo    M1\n",
      "AAATCCCTAAGCCT-1  Duo_M1    Duo    M1\n",
      "AAATCTGAACGGGA-1  Duo_M1    Duo    M1\n",
      "AAATCTGACGGAGA-1  Duo_M1    Duo    M1\n",
      "AAATTCGATCGTAG-1  Duo_M1    Duo    M1\n",
      "AAATTCGATTATCC-1  Duo_M1    Duo    M1\n",
      "AAATTGACATCGTG-1  Duo_M1    Duo    M1\n",
      "AACAATACAGGCGA-1  Duo_M1    Duo    M1\n",
      "AACAATACCTGAAC-1  Duo_M1    Duo    M1\n",
      "...                  ...    ...   ...\n",
      "TTGATCTGGCAAGG-1  Duo_M1    Duo    M1\n",
      "TTGATCTGGTGCAT-1  Duo_M1    Duo    M1\n",
      "TTGCATTGCCTACC-1  Duo_M1    Duo    M1\n",
      "TTGCATTGGTTCTT-1  Duo_M1    Duo    M1\n",
      "TTGCTATGTTCTGT-1  Duo_M1    Duo    M1\n",
      "TTGGAGACGGTACT-1  Duo_M1    Duo    M1\n",
      "TTGGAGTGATTCCT-1  Duo_M1    Duo    M1\n",
      "TTGGAGTGCTTCGC-1  Duo_M1    Duo    M1\n",
      "TTGGAGTGGGGTGA-1  Duo_M1    Duo    M1\n",
      "TTGGGAACCAGAGG-1  Duo_M1    Duo    M1\n",
      "TTGGGAACGAAAGT-1  Duo_M1    Duo    M1\n",
      "TTGGTACTACCAAC-1  Duo_M1    Duo    M1\n",
      "TTGGTACTTCTTTG-1  Duo_M1    Duo    M1\n",
      "TTGTACACTTGTGG-1  Duo_M1    Duo    M1\n",
      "TTGTAGCTATCTCT-1  Duo_M1    Duo    M1\n",
      "TTGTCATGAGGTCT-1  Duo_M1    Duo    M1\n",
      "TTGTCATGGCGTAT-1  Duo_M1    Duo    M1\n",
      "TTGTCATGTCGTGA-1  Duo_M1    Duo    M1\n",
      "TTTAGAGAAGAGAT-1  Duo_M1    Duo    M1\n",
      "TTTAGCTGCTACTT-1  Duo_M1    Duo    M1\n",
      "TTTAGCTGTCGCTC-1  Duo_M1    Duo    M1\n",
      "TTTAGCTGTCTACT-1  Duo_M1    Duo    M1\n",
      "TTTAGGCTCTAGCA-1  Duo_M1    Duo    M1\n",
      "TTTAGGCTTAGCCA-1  Duo_M1    Duo    M1\n",
      "TTTAGGCTTATGCG-1  Duo_M1    Duo    M1\n",
      "TTTATCCTATGACC-1  Duo_M1    Duo    M1\n",
      "TTTATCCTTCTCGC-1  Duo_M1    Duo    M1\n",
      "TTTCACGAAACGTC-1  Duo_M1    Duo    M1\n",
      "TTTCTACTACTGGT-1  Duo_M1    Duo    M1\n",
      "TTTGACTGCGGAGA-1  Duo_M1    Duo    M1\n",
      "\n",
      "[2348 rows x 3 columns]\n"
     ]
    }
   ],
   "source": [
    "# First data set load & annotation\n",
    "#Parse Filenames\n",
    "sample = sample_strings.pop(0)\n",
    "sample_id = sample_id_strings.pop(0)\n",
    "data_file = file_base+sample_id+exp_string+sample+data_file_end\n",
    "barcode_file = file_base+sample_id+exp_string+sample+barcode_file_end\n",
    "gene_file = file_base+sample_id+exp_string+sample+gene_file_end\n",
    "\n",
    "#Load data\n",
    "adata = sc.read(data_file, cache=True)\n",
    "adata = adata.transpose()\n",
    "adata.X = adata.X.toarray()\n",
    "\n",
    "barcodes = pd.read_csv(barcode_file, header=None, sep='\\t')\n",
    "genes = pd.read_csv(gene_file, header=None, sep='\\t')\n",
    "\n",
    "#Annotate data\n",
    "barcodes.rename(columns={0:'barcode'}, inplace=True)\n",
    "barcodes.set_index('barcode', inplace=True)\n",
    "adata.obs = barcodes\n",
    "print([sample])\n",
    "adata.obs['sample'] = [sample]*adata.n_obs\n",
    "adata.obs['region'] = [sample.split(\"_\")[0]]*adata.n_obs\n",
    "adata.obs['donor'] = [sample.split(\"_\")[1]]*adata.n_obs\n",
    "\n",
    "genes.rename(columns={0:'gene_id', 1:'gene_symbol'}, inplace=True)\n",
    "genes.set_index('gene_symbol', inplace=True)\n",
    "adata.var = genes\n",
    "print(adata.obs)"
   ]
  },
  {
   "cell_type": "code",
   "execution_count": 6,
   "metadata": {},
   "outputs": [
    {
     "name": "stdout",
     "output_type": "stream",
     "text": [
      "barcode\n",
      "AAACATACAGCGGA-1    Duo_M1\n",
      "AAACATACCTTACT-1    Duo_M1\n",
      "AAACATACTTTGCT-1    Duo_M1\n",
      "AAACCGTGCAGTCA-1    Duo_M1\n",
      "AAACGCTGCAGTCA-1    Duo_M1\n",
      "AAACGCTGCGTGAT-1    Duo_M1\n",
      "AAACGCTGTCCAGA-1    Duo_M1\n",
      "AAACGCTGTTCACT-1    Duo_M1\n",
      "AAACGGCTACACTG-1    Duo_M1\n",
      "AAACGGCTCAACCA-1    Duo_M1\n",
      "AAACGGCTCTAAGC-1    Duo_M1\n",
      "AAACGGCTGTTGCA-1    Duo_M1\n",
      "AAAGACGAACGTTG-1    Duo_M1\n",
      "AAAGAGACGGCATT-1    Duo_M1\n",
      "AAAGATCTTAACGC-1    Duo_M1\n",
      "AAAGCAGAACGCAT-1    Duo_M1\n",
      "AAAGCAGAGCGTTA-1    Duo_M1\n",
      "AAAGGCCTGAGGCA-1    Duo_M1\n",
      "AAAGGCCTGGAACG-1    Duo_M1\n",
      "AAAGTTTGCCATAG-1    Duo_M1\n",
      "AAATACTGCGTACA-1    Duo_M1\n",
      "AAATACTGGGTGAG-1    Duo_M1\n",
      "AAATCCCTAAGCCT-1    Duo_M1\n",
      "AAATCTGAACGGGA-1    Duo_M1\n",
      "AAATCTGACGGAGA-1    Duo_M1\n",
      "AAATTCGATCGTAG-1    Duo_M1\n",
      "AAATTCGATTATCC-1    Duo_M1\n",
      "AAATTGACATCGTG-1    Duo_M1\n",
      "AACAATACAGGCGA-1    Duo_M1\n",
      "AACAATACCTGAAC-1    Duo_M1\n",
      "                     ...  \n",
      "TTGATCTGGCAAGG-1    Duo_M1\n",
      "TTGATCTGGTGCAT-1    Duo_M1\n",
      "TTGCATTGCCTACC-1    Duo_M1\n",
      "TTGCATTGGTTCTT-1    Duo_M1\n",
      "TTGCTATGTTCTGT-1    Duo_M1\n",
      "TTGGAGACGGTACT-1    Duo_M1\n",
      "TTGGAGTGATTCCT-1    Duo_M1\n",
      "TTGGAGTGCTTCGC-1    Duo_M1\n",
      "TTGGAGTGGGGTGA-1    Duo_M1\n",
      "TTGGGAACCAGAGG-1    Duo_M1\n",
      "TTGGGAACGAAAGT-1    Duo_M1\n",
      "TTGGTACTACCAAC-1    Duo_M1\n",
      "TTGGTACTTCTTTG-1    Duo_M1\n",
      "TTGTACACTTGTGG-1    Duo_M1\n",
      "TTGTAGCTATCTCT-1    Duo_M1\n",
      "TTGTCATGAGGTCT-1    Duo_M1\n",
      "TTGTCATGGCGTAT-1    Duo_M1\n",
      "TTGTCATGTCGTGA-1    Duo_M1\n",
      "TTTAGAGAAGAGAT-1    Duo_M1\n",
      "TTTAGCTGCTACTT-1    Duo_M1\n",
      "TTTAGCTGTCGCTC-1    Duo_M1\n",
      "TTTAGCTGTCTACT-1    Duo_M1\n",
      "TTTAGGCTCTAGCA-1    Duo_M1\n",
      "TTTAGGCTTAGCCA-1    Duo_M1\n",
      "TTTAGGCTTATGCG-1    Duo_M1\n",
      "TTTATCCTATGACC-1    Duo_M1\n",
      "TTTATCCTTCTCGC-1    Duo_M1\n",
      "TTTCACGAAACGTC-1    Duo_M1\n",
      "TTTCTACTACTGGT-1    Duo_M1\n",
      "TTTGACTGCGGAGA-1    Duo_M1\n",
      "Name: sample, Length: 2348, dtype: object\n"
     ]
    }
   ],
   "source": [
    "print(adata.obs['sample'])"
   ]
  },
  {
   "cell_type": "code",
   "execution_count": 7,
   "metadata": {},
   "outputs": [
    {
     "name": "stdout",
     "output_type": "stream",
     "text": [
      "... reading from cache file cache/..-data-Haber-et-al_mouse-intestinal-epithelium-GSE92332_RAW-GSM2836574_Regional_Duo_M2_matrix.h5ad\n"
     ]
    },
    {
     "name": "stderr",
     "output_type": "stream",
     "text": [
      "Making variable names unique for controlled concatenation.\n",
      "Observation names are not unique. To make them unique, call `.obs_names_make_unique`.\n"
     ]
    },
    {
     "name": "stdout",
     "output_type": "stream",
     "text": [
      "... reading from cache file cache/..-data-Haber-et-al_mouse-intestinal-epithelium-GSE92332_RAW-GSM2836575_Regional_Jej_M1_matrix.h5ad\n"
     ]
    },
    {
     "name": "stderr",
     "output_type": "stream",
     "text": [
      "Observation names are not unique. To make them unique, call `.obs_names_make_unique`.\n"
     ]
    },
    {
     "name": "stdout",
     "output_type": "stream",
     "text": [
      "... reading from cache file cache/..-data-Haber-et-al_mouse-intestinal-epithelium-GSE92332_RAW-GSM2836576_Regional_Jej_M2_matrix.h5ad\n"
     ]
    },
    {
     "name": "stderr",
     "output_type": "stream",
     "text": [
      "Observation names are not unique. To make them unique, call `.obs_names_make_unique`.\n"
     ]
    },
    {
     "name": "stdout",
     "output_type": "stream",
     "text": [
      "... reading from cache file cache/..-data-Haber-et-al_mouse-intestinal-epithelium-GSE92332_RAW-GSM2836577_Regional_Il_M1_matrix.h5ad\n"
     ]
    },
    {
     "name": "stderr",
     "output_type": "stream",
     "text": [
      "Observation names are not unique. To make them unique, call `.obs_names_make_unique`.\n"
     ]
    },
    {
     "name": "stdout",
     "output_type": "stream",
     "text": [
      "... reading from cache file cache/..-data-Haber-et-al_mouse-intestinal-epithelium-GSE92332_RAW-GSM2836578_Regional_Il_M2_matrix.h5ad\n"
     ]
    },
    {
     "name": "stderr",
     "output_type": "stream",
     "text": [
      "Observation names are not unique. To make them unique, call `.obs_names_make_unique`.\n"
     ]
    },
    {
     "name": "stdout",
     "output_type": "stream",
     "text": [
      "AAACATACAGCGGA      Duo_M1\n",
      "AAACATACCTTACT      Duo_M1\n",
      "AAACATACTTTGCT      Duo_M1\n",
      "AAACCGTGCAGTCA      Duo_M1\n",
      "AAACGCTGCAGTCA      Duo_M1\n",
      "AAACGCTGCGTGAT      Duo_M1\n",
      "AAACGCTGTCCAGA      Duo_M1\n",
      "AAACGCTGTTCACT      Duo_M1\n",
      "AAACGGCTACACTG      Duo_M1\n",
      "AAACGGCTCAACCA      Duo_M1\n",
      "AAACGGCTCTAAGC      Duo_M1\n",
      "AAACGGCTGTTGCA      Duo_M1\n",
      "AAAGACGAACGTTG      Duo_M1\n",
      "AAAGAGACGGCATT      Duo_M1\n",
      "AAAGATCTTAACGC      Duo_M1\n",
      "AAAGCAGAACGCAT      Duo_M1\n",
      "AAAGCAGAGCGTTA      Duo_M1\n",
      "AAAGGCCTGAGGCA      Duo_M1\n",
      "AAAGGCCTGGAACG      Duo_M1\n",
      "AAAGTTTGCCATAG      Duo_M1\n",
      "AAATACTGCGTACA      Duo_M1\n",
      "AAATACTGGGTGAG      Duo_M1\n",
      "AAATCCCTAAGCCT      Duo_M1\n",
      "AAATCTGAACGGGA      Duo_M1\n",
      "AAATCTGACGGAGA      Duo_M1\n",
      "AAATTCGATCGTAG      Duo_M1\n",
      "AAATTCGATTATCC      Duo_M1\n",
      "AAATTGACATCGTG      Duo_M1\n",
      "AACAATACAGGCGA      Duo_M1\n",
      "AACAATACCTGAAC      Duo_M1\n",
      "                     ...  \n",
      "TTGAGGTGCTCCCA       Il_M2\n",
      "TTGATCTGAGACTC       Il_M2\n",
      "TTGCATTGGGTGAG_1     Il_M2\n",
      "TTGCTAACAAGGCG       Il_M2\n",
      "TTGCTAACGCCCTT       Il_M2\n",
      "TTGCTATGATGCCA       Il_M2\n",
      "TTGCTATGCCTAAG       Il_M2\n",
      "TTGCTATGCCTGTC       Il_M2\n",
      "TTGCTATGTAGTCG       Il_M2\n",
      "TTGCTATGTGGTGT       Il_M2\n",
      "TTGGAGACTTGGTG       Il_M2\n",
      "TTGGTACTAGCCTA       Il_M2\n",
      "TTGGTACTATCTCT       Il_M2\n",
      "TTGGTACTTCGCTC       Il_M2\n",
      "TTGTACACGCAGAG       Il_M2\n",
      "TTGTAGCTTAGAAG       Il_M2\n",
      "TTGTAGCTTGGAAA       Il_M2\n",
      "TTGTCATGTGCTAG       Il_M2\n",
      "TTTAGAGATAGTCG       Il_M2\n",
      "TTTAGAGATCTACT       Il_M2\n",
      "TTTAGCTGAGATGA       Il_M2\n",
      "TTTATCCTAACCTG       Il_M2\n",
      "TTTATCCTTGCAGT       Il_M2\n",
      "TTTCACGATATGGC       Il_M2\n",
      "TTTCAGTGACCAGT       Il_M2\n",
      "TTTCGAACAGAACA       Il_M2\n",
      "TTTCGAACCAGTCA       Il_M2\n",
      "TTTCTACTGCTCCT       Il_M2\n",
      "TTTGACTGCGCCTT       Il_M2\n",
      "TTTGCATGGAGGAC       Il_M2\n",
      "Name: sample, Length: 13353, dtype: object\n"
     ]
    }
   ],
   "source": [
    "# Loop to load rest of data sets\n",
    "for i in range(len(sample_strings)):\n",
    "    #Parse Filenames\n",
    "    sample = sample_strings[i]\n",
    "    sample_id = sample_id_strings[i]\n",
    "    data_file = file_base+sample_id+exp_string+sample+data_file_end\n",
    "    barcode_file = file_base+sample_id+exp_string+sample+barcode_file_end\n",
    "    gene_file = file_base+sample_id+exp_string+sample+gene_file_end\n",
    "    \n",
    "    #Load data\n",
    "    adata_tmp = sc.read(data_file, cache=True)\n",
    "    adata_tmp = adata_tmp.transpose()\n",
    "    adata_tmp.X = adata_tmp.X.toarray()\n",
    "\n",
    "    barcodes_tmp = pd.read_csv(barcode_file, header=None, sep='\\t')\n",
    "    genes_tmp = pd.read_csv(gene_file, header=None, sep='\\t')\n",
    "    \n",
    "    #Annotate data\n",
    "    barcodes_tmp.rename(columns={0:'barcode'}, inplace=True)\n",
    "    barcodes_tmp.set_index('barcode', inplace=True)\n",
    "    adata_tmp.obs = barcodes_tmp\n",
    "    adata_tmp.obs['sample'] = [sample]*adata_tmp.n_obs\n",
    "    adata_tmp.obs['region'] = [sample.split(\"_\")[0]]*adata_tmp.n_obs\n",
    "    adata_tmp.obs['donor'] = [sample.split(\"_\")[1]]*adata_tmp.n_obs\n",
    "    \n",
    "    genes_tmp.rename(columns={0:'gene_id', 1:'gene_symbol'}, inplace=True)\n",
    "    genes_tmp.set_index('gene_symbol', inplace=True)\n",
    "    adata_tmp.var = genes_tmp\n",
    "    adata_tmp.var_names_make_unique()\n",
    "\n",
    "    # Concatenate to main adata object\n",
    "    adata = adata.concatenate(adata_tmp, batch_key='sample_id')\n",
    "    #adata.var['gene_id'] = adata.var['gene_id-1']\n",
    "    #adata.var.drop(columns = ['gene_id-1', 'gene_id-0'], inplace=True)\n",
    "    adata.obs.drop(columns=['sample_id'], inplace=True)\n",
    "    adata.obs_names = [c.split(\"-\")[0] for c in adata.obs_names]\n",
    "    adata.obs_names_make_unique(join='_')\n",
    "print(adata.obs['sample'])"
   ]
  },
  {
   "cell_type": "markdown",
   "metadata": {},
   "source": [
    "Note that this next line just cleans up the variable names which are stored as `mm10_` + MGI gene symbol in this dataset."
   ]
  },
  {
   "cell_type": "code",
   "execution_count": 8,
   "metadata": {
    "scrolled": true
   },
   "outputs": [
    {
     "name": "stdout",
     "output_type": "stream",
     "text": [
      "mm10_Xkr4              mm10_ENSMUSG00000051951\n",
      "mm10_Gm1992            mm10_ENSMUSG00000089699\n",
      "mm10_Gm37381           mm10_ENSMUSG00000102343\n",
      "mm10_Rp1               mm10_ENSMUSG00000025900\n",
      "mm10_Rp1-1             mm10_ENSMUSG00000109048\n",
      "mm10_Sox17             mm10_ENSMUSG00000025902\n",
      "mm10_Gm37323           mm10_ENSMUSG00000104328\n",
      "mm10_Mrpl15            mm10_ENSMUSG00000033845\n",
      "mm10_Lypla1            mm10_ENSMUSG00000025903\n",
      "mm10_Gm37988           mm10_ENSMUSG00000104217\n",
      "mm10_Tcea1             mm10_ENSMUSG00000033813\n",
      "mm10_Rgs20             mm10_ENSMUSG00000002459\n",
      "mm10_Gm16041           mm10_ENSMUSG00000085623\n",
      "mm10_Atp6v1h           mm10_ENSMUSG00000033793\n",
      "mm10_Oprk1             mm10_ENSMUSG00000025905\n",
      "mm10_Npbwr1            mm10_ENSMUSG00000033774\n",
      "mm10_Rb1cc1            mm10_ENSMUSG00000025907\n",
      "mm10_4732440D04Rik     mm10_ENSMUSG00000090031\n",
      "mm10_Fam150a           mm10_ENSMUSG00000087247\n",
      "mm10_St18              mm10_ENSMUSG00000033740\n",
      "mm10_Pcmtd1            mm10_ENSMUSG00000051285\n",
      "mm10_Gm26901           mm10_ENSMUSG00000097797\n",
      "mm10_Gm30414           mm10_ENSMUSG00000103067\n",
      "mm10_Sntg1             mm10_ENSMUSG00000025909\n",
      "mm10_Rrs1              mm10_ENSMUSG00000061024\n",
      "mm10_Adhfe1            mm10_ENSMUSG00000025911\n",
      "mm10_3110035E14Rik     mm10_ENSMUSG00000067879\n",
      "mm10_Gm29520           mm10_ENSMUSG00000099827\n",
      "mm10_Mybl1             mm10_ENSMUSG00000025912\n",
      "mm10_Vcpip1            mm10_ENSMUSG00000045210\n",
      "                                ...           \n",
      "mm10_AC164084.3        mm10_ENSMUSG00000096680\n",
      "mm10_AC164084.1        mm10_ENSMUSG00000095505\n",
      "mm10_AC140325.2        mm10_ENSMUSG00000094741\n",
      "mm10_AC140325.1        mm10_ENSMUSG00000074720\n",
      "mm10_Gm3286-1          mm10_ENSMUSG00000094337\n",
      "mm10_AC140325.3        mm10_ENSMUSG00000095570\n",
      "mm10_AC140325.4        mm10_ENSMUSG00000096728\n",
      "mm10_Ccl27a-2          mm10_ENSMUSG00000093828\n",
      "mm10_Il11ra2-2         mm10_ENSMUSG00000095623\n",
      "mm10_Ccl19-1           mm10_ENSMUSG00000094661\n",
      "mm10_Ccl21a-1          mm10_ENSMUSG00000095320\n",
      "mm10_Gm10931           mm10_ENSMUSG00000094350\n",
      "mm10_CT868723.1        mm10_ENSMUSG00000096237\n",
      "mm10_AC125178.1        mm10_ENSMUSG00000094722\n",
      "mm10_AC125178.3        mm10_ENSMUSG00000095728\n",
      "mm10_AC125178.2        mm10_ENSMUSG00000095076\n",
      "mm10_Vmn1r186          mm10_ENSMUSG00000096776\n",
      "mm10_AC102264.1        mm10_ENSMUSG00000096244\n",
      "mm10_AC125149.3        mm10_ENSMUSG00000079800\n",
      "mm10_AC125149.5        mm10_ENSMUSG00000095092\n",
      "mm10_AC125149.1        mm10_ENSMUSG00000079192\n",
      "mm10_AC125149.2        mm10_ENSMUSG00000079794\n",
      "mm10_AC125149.4        mm10_ENSMUSG00000094799\n",
      "mm10_AC234645.1        mm10_ENSMUSG00000095019\n",
      "mm10_AC168977.2        mm10_ENSMUSG00000094915\n",
      "mm10_AC168977.1        mm10_ENSMUSG00000079808\n",
      "mm10_PISD              mm10_ENSMUSG00000095041\n",
      "mm10_DHRSX             mm10_ENSMUSG00000063897\n",
      "mm10_Vmn2r122          mm10_ENSMUSG00000096730\n",
      "mm10_CAAA01147332.1    mm10_ENSMUSG00000095742\n",
      "Name: gene_id, Length: 27998, dtype: object\n",
      "AnnData object with n_obs × n_vars = 13353 × 27998 \n",
      "    obs: 'donor', 'region', 'sample'\n",
      "    var: 'gene_id'\n"
     ]
    }
   ],
   "source": [
    "#Assign variable names and gene id columns\n",
    "#adata.var_names = [g.split(\"_\")[1] for g in adata.var_names]\n",
    "#adata.var['gene_id'] = [g.split(\"_\")[1] for g in adata.var['gene_id']]\n",
    "print(adata.var['gene_id'])\n",
    "print(adata)"
   ]
  },
  {
   "cell_type": "markdown",
   "metadata": {},
   "source": [
    "Once the data is read in and annotated, we test whether we have the expected number of cells for each region, mouse (donor), and sample."
   ]
  },
  {
   "cell_type": "code",
   "execution_count": 9,
   "metadata": {
    "scrolled": true
   },
   "outputs": [
    {
     "name": "stdout",
     "output_type": "stream",
     "text": [
      "Duo    4554\n",
      "Jej    4496\n",
      "Il     4303\n",
      "Name: region, dtype: int64\n",
      "\n",
      "M2    6711\n",
      "M1    6642\n",
      "Name: donor, dtype: int64\n",
      "\n",
      "Jej_M2    2668\n",
      "Il_M1     2466\n",
      "Duo_M1    2348\n",
      "Duo_M2    2206\n",
      "Il_M2     1837\n",
      "Jej_M1    1828\n",
      "Name: sample, dtype: int64\n",
      "                 donor region  sample\n",
      "AAACATACAGCGGA      M1    Duo  Duo_M1\n",
      "AAACATACCTTACT      M1    Duo  Duo_M1\n",
      "AAACATACTTTGCT      M1    Duo  Duo_M1\n",
      "AAACCGTGCAGTCA      M1    Duo  Duo_M1\n",
      "AAACGCTGCAGTCA      M1    Duo  Duo_M1\n",
      "AAACGCTGCGTGAT      M1    Duo  Duo_M1\n",
      "AAACGCTGTCCAGA      M1    Duo  Duo_M1\n",
      "AAACGCTGTTCACT      M1    Duo  Duo_M1\n",
      "AAACGGCTACACTG      M1    Duo  Duo_M1\n",
      "AAACGGCTCAACCA      M1    Duo  Duo_M1\n",
      "AAACGGCTCTAAGC      M1    Duo  Duo_M1\n",
      "AAACGGCTGTTGCA      M1    Duo  Duo_M1\n",
      "AAAGACGAACGTTG      M1    Duo  Duo_M1\n",
      "AAAGAGACGGCATT      M1    Duo  Duo_M1\n",
      "AAAGATCTTAACGC      M1    Duo  Duo_M1\n",
      "AAAGCAGAACGCAT      M1    Duo  Duo_M1\n",
      "AAAGCAGAGCGTTA      M1    Duo  Duo_M1\n",
      "AAAGGCCTGAGGCA      M1    Duo  Duo_M1\n",
      "AAAGGCCTGGAACG      M1    Duo  Duo_M1\n",
      "AAAGTTTGCCATAG      M1    Duo  Duo_M1\n",
      "AAATACTGCGTACA      M1    Duo  Duo_M1\n",
      "AAATACTGGGTGAG      M1    Duo  Duo_M1\n",
      "AAATCCCTAAGCCT      M1    Duo  Duo_M1\n",
      "AAATCTGAACGGGA      M1    Duo  Duo_M1\n",
      "AAATCTGACGGAGA      M1    Duo  Duo_M1\n",
      "AAATTCGATCGTAG      M1    Duo  Duo_M1\n",
      "AAATTCGATTATCC      M1    Duo  Duo_M1\n",
      "AAATTGACATCGTG      M1    Duo  Duo_M1\n",
      "AACAATACAGGCGA      M1    Duo  Duo_M1\n",
      "AACAATACCTGAAC      M1    Duo  Duo_M1\n",
      "...                ...    ...     ...\n",
      "TTGAGGTGCTCCCA      M2     Il   Il_M2\n",
      "TTGATCTGAGACTC      M2     Il   Il_M2\n",
      "TTGCATTGGGTGAG_1    M2     Il   Il_M2\n",
      "TTGCTAACAAGGCG      M2     Il   Il_M2\n",
      "TTGCTAACGCCCTT      M2     Il   Il_M2\n",
      "TTGCTATGATGCCA      M2     Il   Il_M2\n",
      "TTGCTATGCCTAAG      M2     Il   Il_M2\n",
      "TTGCTATGCCTGTC      M2     Il   Il_M2\n",
      "TTGCTATGTAGTCG      M2     Il   Il_M2\n",
      "TTGCTATGTGGTGT      M2     Il   Il_M2\n",
      "TTGGAGACTTGGTG      M2     Il   Il_M2\n",
      "TTGGTACTAGCCTA      M2     Il   Il_M2\n",
      "TTGGTACTATCTCT      M2     Il   Il_M2\n",
      "TTGGTACTTCGCTC      M2     Il   Il_M2\n",
      "TTGTACACGCAGAG      M2     Il   Il_M2\n",
      "TTGTAGCTTAGAAG      M2     Il   Il_M2\n",
      "TTGTAGCTTGGAAA      M2     Il   Il_M2\n",
      "TTGTCATGTGCTAG      M2     Il   Il_M2\n",
      "TTTAGAGATAGTCG      M2     Il   Il_M2\n",
      "TTTAGAGATCTACT      M2     Il   Il_M2\n",
      "TTTAGCTGAGATGA      M2     Il   Il_M2\n",
      "TTTATCCTAACCTG      M2     Il   Il_M2\n",
      "TTTATCCTTGCAGT      M2     Il   Il_M2\n",
      "TTTCACGATATGGC      M2     Il   Il_M2\n",
      "TTTCAGTGACCAGT      M2     Il   Il_M2\n",
      "TTTCGAACAGAACA      M2     Il   Il_M2\n",
      "TTTCGAACCAGTCA      M2     Il   Il_M2\n",
      "TTTCTACTGCTCCT      M2     Il   Il_M2\n",
      "TTTGACTGCGCCTT      M2     Il   Il_M2\n",
      "TTTGCATGGAGGAC      M2     Il   Il_M2\n",
      "\n",
      "[13353 rows x 3 columns]\n"
     ]
    }
   ],
   "source": [
    "# Annotate the data sets\n",
    "print(adata.obs['region'].value_counts())\n",
    "print('')\n",
    "print(adata.obs['donor'].value_counts())\n",
    "print('')\n",
    "print(adata.obs['sample'].value_counts())\n",
    "print(adata.obs)"
   ]
  },
  {
   "cell_type": "markdown",
   "metadata": {},
   "source": [
    "We have 4554, 4496, and 4303 cells from the Duodenum, Jejunum, and Ileum respectively."
   ]
  },
  {
   "cell_type": "code",
   "execution_count": 10,
   "metadata": {
    "scrolled": false
   },
   "outputs": [
    {
     "data": {
      "text/plain": [
       "(13353, 27998)"
      ]
     },
     "execution_count": 10,
     "metadata": {},
     "output_type": "execute_result"
    }
   ],
   "source": [
    "# Checking the total size of the data set\n",
    "adata.shape"
   ]
  },
  {
   "cell_type": "markdown",
   "metadata": {},
   "source": [
    "We have 13,353 cells and 27,998 genes in the dataset."
   ]
  },
  {
   "cell_type": "markdown",
   "metadata": {},
   "source": [
    "<a id=\"Preprocessing\"></a>"
   ]
  },
  {
   "cell_type": "markdown",
   "metadata": {},
   "source": [
    "# 2 Pre-processing and visualization"
   ]
  },
  {
   "cell_type": "markdown",
   "metadata": {},
   "source": [
    "<a id=\"QC\"></a>"
   ]
  },
  {
   "cell_type": "markdown",
   "metadata": {},
   "source": [
    "## 2.1 Quality control\n",
    "\n",
    "Data quality control can be split into cell QC and gene QC. Typical quality measures for assessing the quality of a cell include the number of molecule counts (UMIs), the number of expressed genes, and the fraction of counts that are mitochondrial. A high fraction of mitochondrial reads being picked up can indicate cell stress, as there is a low proportion of nuclear mRNA in the cell. It should be noted that high mitochondrial RNA fractions can also be biological signals indicating elevated respiration.\n",
    "\n",
    "[Timing: 39.9s]"
   ]
  },
  {
   "cell_type": "code",
   "execution_count": 11,
   "metadata": {
    "scrolled": true
   },
   "outputs": [],
   "source": [
    "# Quality control - calculate QC covariates\n",
    "adata.obs['n_counts'] = adata.X.sum(1)\n",
    "adata.obs['log_counts'] = np.log(adata.obs['n_counts'])\n",
    "adata.obs['n_genes'] = (adata.X > 0).sum(1)\n",
    "\n",
    "mt_gene_mask = [gene.startswith('mt-') for gene in adata.var_names]\n",
    "adata.obs['mt_frac'] = adata.X[:, mt_gene_mask].sum(1)/adata.obs['n_counts']"
   ]
  },
  {
   "cell_type": "code",
   "execution_count": 12,
   "metadata": {
    "scrolled": false
   },
   "outputs": [
    {
     "name": "stderr",
     "output_type": "stream",
     "text": [
      "... storing 'donor' as categorical\n",
      "... storing 'region' as categorical\n",
      "... storing 'sample' as categorical\n"
     ]
    },
    {
     "data": {
      "image/png": "[encoded data removed]",
      "text/plain": [
       "<Figure size 744.048x576 with 1 Axes>"
      ]
     },
     "metadata": {
      "needs_background": "light"
     },
     "output_type": "display_data"
    },
    {
     "data": {
      "image/png": "[encoded data removed]",
      "text/plain": [
       "<Figure size 744.048x576 with 1 Axes>"
      ]
     },
     "metadata": {
      "needs_background": "light"
     },
     "output_type": "display_data"
    }
   ],
   "source": [
    "# Quality control - plot QC metrics\n",
    "#Sample quality plots\n",
    "t1 = sc.pl.violin(adata, 'n_counts', groupby='sample', size=2, log=True, cut=0)\n",
    "t2 = sc.pl.violin(adata, 'mt_frac', groupby='sample')"
   ]
  },
  {
   "cell_type": "markdown",
   "metadata": {
    "collapsed": true
   },
   "source": [
    "The plots show that the Jej_M2 sample has the poorest quality in comparison. The counts per cell are still sufficiently high to process these cells, and the fraction of mitochondrial reads (MT frac) for most cells are still far below 20-25%, which are the typical filtering thresholds.\n",
    "\n",
    "We could perform QC filtering per sample here to address this issue, yet the mode of the distributions look similar to other samples (e.g., 'Il_M1'). It may be worth keeping in mind that one sample has a few poorer quality cells though."
   ]
  },
  {
   "cell_type": "code",
   "execution_count": 13,
   "metadata": {
    "scrolled": false
   },
   "outputs": [
    {
     "data": {
      "image/png": "[encoded data removed]",
      "text/plain": [
       "<Figure size 749.218x576 with 2 Axes>"
      ]
     },
     "metadata": {
      "needs_background": "light"
     },
     "output_type": "display_data"
    },
    {
     "data": {
      "image/png": "[encoded data removed]",
      "text/plain": [
       "<Figure size 749.218x576 with 2 Axes>"
      ]
     },
     "metadata": {
      "needs_background": "light"
     },
     "output_type": "display_data"
    }
   ],
   "source": [
    "#Data quality summary plots\n",
    "p1 = sc.pl.scatter(adata, 'n_counts', 'n_genes', color='mt_frac')\n",
    "p2 = sc.pl.scatter(adata[adata.obs['n_counts']<10000], 'n_counts', 'n_genes', color='mt_frac')"
   ]
  },
  {
   "cell_type": "markdown",
   "metadata": {},
   "source": [
    "By looking at plots of the number of genes versus the number of counts with MT fraction information, we can assess whether there are cells with unexpected summary statistics. It is important here to look at these statistics jointly. For example, there is a cloud of points with many counts, but few genes. Our first instinct would be to filter out these as \"dying\" outliers, however they don't seem to show high MT fraction. We should probably still filter out some cells with very few genes as these may be difficult to annotate later. This will be true for the initial cellular density between 1000-4000 counts and < ~500 genes.\n",
    "\n",
    "Furthermore it can be seen in the main cloud of data points, that cells with lower counts and genes tend to have a higher fraction of mitochondrial counts. These cells are likely under stress or are dying. When apoptotic cells are sequenced, there is less mRNA to be captured in the nucleus, and therefore fewer counts overall, and thus a higher fraction of counts fall upon mitochondrial RNA. If cells with high mitochondrial activity were found at higher counts/genes per cell, this would indicate biologically relevant mitochondrial activity."
   ]
  },
  {
   "cell_type": "code",
   "execution_count": 14,
   "metadata": {
    "scrolled": true
   },
   "outputs": [
    {
     "data": {
      "image/png": "[encoded data removed]",
      "text/plain": [
       "<Figure size 576x576 with 1 Axes>"
      ]
     },
     "metadata": {
      "needs_background": "light"
     },
     "output_type": "display_data"
    },
    {
     "data": {
      "image/png": "[encoded data removed]",
      "text/plain": [
       "<Figure size 576x576 with 1 Axes>"
      ]
     },
     "metadata": {
      "needs_background": "light"
     },
     "output_type": "display_data"
    },
    {
     "data": {
      "image/png": "[encoded data removed]",
      "text/plain": [
       "<Figure size 576x576 with 1 Axes>"
      ]
     },
     "metadata": {
      "needs_background": "light"
     },
     "output_type": "display_data"
    }
   ],
   "source": [
    "#Thresholding decision: counts\n",
    "p3 = sb.distplot(adata.obs['n_counts'], kde=False)\n",
    "plt.show()\n",
    "\n",
    "p4 = sb.distplot(adata.obs['n_counts'][adata.obs['n_counts']<4000], kde=False, bins=60)\n",
    "plt.show()\n",
    "\n",
    "p5 = sb.distplot(adata.obs['n_counts'][adata.obs['n_counts']>10000], kde=False, bins=60)\n",
    "plt.show()"
   ]
  },
  {
   "cell_type": "markdown",
   "metadata": {},
   "source": [
    "Histograms of the number of counts per cell show that there are two small peaks of groups of cells with fewer than 1500 counts. which are likely uninformative given the overall distribution of counts. This may be cellular debris found in droplets.\n",
    "\n",
    "On the upper end of counts, we see a population of cells with high counts shown as a broad peak at 20,000 counts. We estimate this population to range until 40,000 counts. This estimation is performed by visually tracing a Gaussian around the population."
   ]
  },
  {
   "cell_type": "code",
   "execution_count": 15,
   "metadata": {
    "scrolled": false
   },
   "outputs": [
    {
     "data": {
      "image/png": "[encoded data removed]",
      "text/plain": [
       "<Figure size 576x576 with 1 Axes>"
      ]
     },
     "metadata": {
      "needs_background": "light"
     },
     "output_type": "display_data"
    },
    {
     "data": {
      "image/png": "[encoded data removed]",
      "text/plain": [
       "<Figure size 576x576 with 1 Axes>"
      ]
     },
     "metadata": {
      "needs_background": "light"
     },
     "output_type": "display_data"
    }
   ],
   "source": [
    "#Thresholding decision: genes\n",
    "p6 = sb.distplot(adata.obs['n_genes'], kde=False, bins=60)\n",
    "plt.show()\n",
    "\n",
    "p7 = sb.distplot(adata.obs['n_genes'][adata.obs['n_genes']<1000], kde=False, bins=60)\n",
    "plt.show()\n"
   ]
  },
  {
   "cell_type": "markdown",
   "metadata": {},
   "source": [
    "Two populations of cells with low gene counts can be seen in the above plots. Given these plots, and the plot of genes vs counts above, we decide to filter out cells with fewer than 700 genes expressed. Below this we are likely to find dying cells or empty droplets with ambient RNA. Looking above at the joint plots, we see that we filter out the main density of low gene cells with this threshold.\n",
    "\n",
    "In general it is a good idea to be permissive in the early filtering steps, and then come back to filter out more stringently when a clear picture is available of what would be filtered out. This is available after visualization/clustering. For demonstration purposes we stick to a simple (and slightly more stringent) filtering here."
   ]
  },
  {
   "cell_type": "code",
   "execution_count": 16,
   "metadata": {
    "scrolled": true
   },
   "outputs": [
    {
     "name": "stdout",
     "output_type": "stream",
     "text": [
      "Total number of cells: 13353\n",
      "filtered out 479 cells that haveless than 1500 counts\n",
      "Number of cells after min count filter: 12874\n",
      "filtered out 16 cells that havemore than 40000 counts\n",
      "Number of cells after max count filter: 12858\n",
      "Number of cells after MT filter: 12858\n",
      "filtered out 401 cells that haveless than 700 genes expressed\n"
     ]
    },
    {
     "name": "stderr",
     "output_type": "stream",
     "text": [
      "Trying to set attribute `.obs` of view, making a copy.\n"
     ]
    },
    {
     "name": "stdout",
     "output_type": "stream",
     "text": [
      "Number of cells after gene filter: 12457\n"
     ]
    }
   ],
   "source": [
    "# Filter cells according to identified QC thresholds:\n",
    "print('Total number of cells: {:d}'.format(adata.n_obs))\n",
    "\n",
    "sc.pp.filter_cells(adata, min_counts = 1500)\n",
    "print('Number of cells after min count filter: {:d}'.format(adata.n_obs))\n",
    "\n",
    "sc.pp.filter_cells(adata, max_counts = 40000)\n",
    "print('Number of cells after max count filter: {:d}'.format(adata.n_obs))\n",
    "\n",
    "adata = adata[adata.obs['mt_frac'] < 0.2]\n",
    "print('Number of cells after MT filter: {:d}'.format(adata.n_obs))\n",
    "\n",
    "sc.pp.filter_cells(adata, min_genes = 700)\n",
    "print('Number of cells after gene filter: {:d}'.format(adata.n_obs))\n",
    "\n",
    "\n"
   ]
  },
  {
   "cell_type": "code",
   "execution_count": 17,
   "metadata": {},
   "outputs": [
    {
     "name": "stdout",
     "output_type": "stream",
     "text": [
      "Total number of genes: 27998\n",
      "filtered out 15180 genes that are detectedin less than 20 cells\n",
      "Number of genes after cell filter: 12818\n"
     ]
    }
   ],
   "source": [
    "#Filter genes:\n",
    "print('Total number of genes: {:d}'.format(adata.n_vars))\n",
    "\n",
    "# Min 20 cells - filters out 0 count genes\n",
    "sc.pp.filter_genes(adata, min_cells=20)\n",
    "print('Number of genes after cell filter: {:d}'.format(adata.n_vars))"
   ]
  },
  {
   "cell_type": "markdown",
   "metadata": {},
   "source": [
    "The filtering is performed based on the thresholds we identified from the QC plots. Genes are also filtered if they are not detected in at least 20 cells. This reduces the dimensions of the matrix by removing 0 count genes and genes which are not sufficiently informative of the dataset. "
   ]
  },
  {
   "cell_type": "markdown",
   "metadata": {},
   "source": [
    "<a id=\"Normalization\"></a>"
   ]
  },
  {
   "cell_type": "markdown",
   "metadata": {},
   "source": [
    "## 2.2 Normalization"
   ]
  },
  {
   "cell_type": "markdown",
   "metadata": {},
   "source": [
    "Up to this point the data is only available as a count matrix. Counts are representative of molecules that were captured in the scRNA-seq experiment. As not all mRNA molecules in a cell are captured, there is a variability in the total number of counts detected between cells that results from both the number of molecules that were in the cells, and the sampling. As we cannot assume that all cells contain an equal number of molecules (cell sizes can differ substantially), we have to estimate the number of molecules that were initially in the cells. In fact, we don't estimate the exact number of molecules, but instead estimate cell-specific factors that should be proportional to the true number of molecules. These are called size factors. Normalized expression values are calculated by dividing the measured counts by the size factor for the cell.\n",
    "\n",
    "Based on comparisons of normalization methods for differential testing (personal communication from Beathe Vieth), and batch correction [Buettner et al., 2019], the normalization method implemented in the scran package performs best. This method requires a coarse clustering input to improve size factor esimation performance. Thus, we use a simple preprocessing approach and cluster the data at a low resolution to get an input for the size factor estimation. The basic preprocessing includes assuming all size factors are equal (library size normalization to counts per million - CPM) and log-transforming the count data.\n",
    "\n",
    "[Timing: 2min 46.73s; 2min 22s of which in scran R code]"
   ]
  },
  {
   "cell_type": "code",
   "execution_count": 18,
   "metadata": {},
   "outputs": [
    {
     "name": "stdout",
     "output_type": "stream",
     "text": [
      "normalizing by total count per cell\n",
      "    finished (0:00:00): normalized adata.X and added    'n_counts', counts per cell before normalization (adata.obs)\n",
      "Note that scikit-learn's randomized PCA might not be exactly reproducible across different computational platforms. For exact reproducibility, choose `svd_solver='arpack'.` This will likely become the Scanpy default in the future.\n",
      "computing PCA with n_comps = 15\n",
      "    finished (0:00:09)\n",
      "computing neighbors\n",
      "    using 'X_pca' with n_pcs = 15\n"
     ]
    },
    {
     "name": "stderr",
     "output_type": "stream",
     "text": [
      "/home/hunge/anaconda3/envs/sc-tutorial/lib/python3.7/site-packages/umap/rp_tree.py:450: NumbaWarning: \n",
      "Compilation is falling back to object mode WITH looplifting enabled because Function \"make_euclidean_tree\" failed type inference due to: Cannot unify RandomProjectionTreeNode(array(int64, 1d, C), bool, none, none, none, none) and RandomProjectionTreeNode(none, bool, array(float32, 1d, C), float64, RandomProjectionTreeNode(array(int64, 1d, C), bool, none, none, none, none), RandomProjectionTreeNode(array(int64, 1d, C), bool, none, none, none, none)) for '$14.16', defined at /home/hunge/anaconda3/envs/sc-tutorial/lib/python3.7/site-packages/umap/rp_tree.py (457)\n",
      "\n",
      "File \"../../anaconda3/envs/sc-tutorial/lib/python3.7/site-packages/umap/rp_tree.py\", line 457:\n",
      "def make_euclidean_tree(data, indices, rng_state, leaf_size=30):\n",
      "    <source elided>\n",
      "\n",
      "        left_node = make_euclidean_tree(data, left_indices, rng_state, leaf_size)\n",
      "        ^\n",
      "\n",
      "[1] During: resolving callee type: recursive(type(CPUDispatcher(<function make_euclidean_tree at 0x7f37cf08e9d8>)))\n",
      "[2] During: typing of call at /home/hunge/anaconda3/envs/sc-tutorial/lib/python3.7/site-packages/umap/rp_tree.py (457)\n",
      "\n",
      "\n",
      "File \"../../anaconda3/envs/sc-tutorial/lib/python3.7/site-packages/umap/rp_tree.py\", line 457:\n",
      "def make_euclidean_tree(data, indices, rng_state, leaf_size=30):\n",
      "    <source elided>\n",
      "\n",
      "        left_node = make_euclidean_tree(data, left_indices, rng_state, leaf_size)\n",
      "        ^\n",
      "\n",
      "  @numba.jit()\n",
      "/home/hunge/anaconda3/envs/sc-tutorial/lib/python3.7/site-packages/numba/compiler.py:725: NumbaWarning: Function \"make_euclidean_tree\" was compiled in object mode without forceobj=True.\n",
      "\n",
      "File \"../../anaconda3/envs/sc-tutorial/lib/python3.7/site-packages/umap/rp_tree.py\", line 451:\n",
      "@numba.jit()\n",
      "def make_euclidean_tree(data, indices, rng_state, leaf_size=30):\n",
      "^\n",
      "\n",
      "  self.func_ir.loc))\n",
      "/home/hunge/anaconda3/envs/sc-tutorial/lib/python3.7/site-packages/numba/compiler.py:734: NumbaDeprecationWarning: \n",
      "Fall-back from the nopython compilation path to the object mode compilation path has been detected, this is deprecated behaviour.\n",
      "\n",
      "For more information visit http://numba.pydata.org/numba-doc/latest/reference/deprecation.html#deprecation-of-object-mode-fall-back-behaviour-when-using-jit\n",
      "\n",
      "File \"../../anaconda3/envs/sc-tutorial/lib/python3.7/site-packages/umap/rp_tree.py\", line 451:\n",
      "@numba.jit()\n",
      "def make_euclidean_tree(data, indices, rng_state, leaf_size=30):\n",
      "^\n",
      "\n",
      "  warnings.warn(errors.NumbaDeprecationWarning(msg, self.func_ir.loc))\n",
      "/home/hunge/anaconda3/envs/sc-tutorial/lib/python3.7/site-packages/umap/nndescent.py:92: NumbaPerformanceWarning: \n",
      "The keyword argument 'parallel=True' was specified but no transformation for parallel execution was possible.\n",
      "\n",
      "To find out why, try turning on parallel diagnostics, see http://numba.pydata.org/numba-doc/latest/user/parallel.html#diagnostics for help.\n",
      "\n",
      "File \"../../anaconda3/envs/sc-tutorial/lib/python3.7/site-packages/umap/utils.py\", line 409:\n",
      "@numba.njit(parallel=True)\n",
      "def build_candidates(current_graph, n_vertices, n_neighbors, max_candidates, rng_state):\n",
      "^\n",
      "\n",
      "  current_graph, n_vertices, n_neighbors, max_candidates, rng_state\n",
      "/home/hunge/anaconda3/envs/sc-tutorial/lib/python3.7/site-packages/numba/compiler.py:588: NumbaPerformanceWarning: \n",
      "The keyword argument 'parallel=True' was specified but no transformation for parallel execution was possible.\n",
      "\n",
      "To find out why, try turning on parallel diagnostics, see http://numba.pydata.org/numba-doc/latest/user/parallel.html#diagnostics for help.\n",
      "\n",
      "File \"../../anaconda3/envs/sc-tutorial/lib/python3.7/site-packages/umap/nndescent.py\", line 47:\n",
      "    @numba.njit(parallel=True)\n",
      "    def nn_descent(\n",
      "    ^\n",
      "\n",
      "  self.func_ir.loc))\n",
      "/home/hunge/anaconda3/envs/sc-tutorial/lib/python3.7/site-packages/umap/umap_.py:349: NumbaWarning: \n",
      "Compilation is falling back to object mode WITH looplifting enabled because Function \"fuzzy_simplicial_set\" failed type inference due to: Untyped global name 'nearest_neighbors': cannot determine Numba type of <class 'function'>\n",
      "\n",
      "File \"../../anaconda3/envs/sc-tutorial/lib/python3.7/site-packages/umap/umap_.py\", line 467:\n",
      "def fuzzy_simplicial_set(\n",
      "    <source elided>\n",
      "    if knn_indices is None or knn_dists is None:\n",
      "        knn_indices, knn_dists, _ = nearest_neighbors(\n",
      "        ^\n",
      "\n",
      "  @numba.jit()\n",
      "/home/hunge/anaconda3/envs/sc-tutorial/lib/python3.7/site-packages/numba/compiler.py:725: NumbaWarning: Function \"fuzzy_simplicial_set\" was compiled in object mode without forceobj=True.\n",
      "\n",
      "File \"../../anaconda3/envs/sc-tutorial/lib/python3.7/site-packages/umap/umap_.py\", line 350:\n",
      "@numba.jit()\n",
      "def fuzzy_simplicial_set(\n",
      "^\n",
      "\n",
      "  self.func_ir.loc))\n",
      "/home/hunge/anaconda3/envs/sc-tutorial/lib/python3.7/site-packages/numba/compiler.py:734: NumbaDeprecationWarning: \n",
      "Fall-back from the nopython compilation path to the object mode compilation path has been detected, this is deprecated behaviour.\n",
      "\n",
      "For more information visit http://numba.pydata.org/numba-doc/latest/reference/deprecation.html#deprecation-of-object-mode-fall-back-behaviour-when-using-jit\n",
      "\n",
      "File \"../../anaconda3/envs/sc-tutorial/lib/python3.7/site-packages/umap/umap_.py\", line 350:\n",
      "@numba.jit()\n",
      "def fuzzy_simplicial_set(\n",
      "^\n",
      "\n",
      "  warnings.warn(errors.NumbaDeprecationWarning(msg, self.func_ir.loc))\n"
     ]
    },
    {
     "name": "stdout",
     "output_type": "stream",
     "text": [
      "    finished (0:00:14)\n",
      "running Louvain clustering\n",
      "    using the \"louvain\" package of Traag (2017)\n",
      "    finished (0:00:02)\n"
     ]
    }
   ],
   "source": [
    "#Perform a clustering for scran normalization in clusters\n",
    "adata_pp = adata.copy()\n",
    "sc.pp.normalize_per_cell(adata_pp, counts_per_cell_after=1e6)\n",
    "sc.pp.log1p(adata_pp)\n",
    "sc.pp.pca(adata_pp, n_comps=15)\n",
    "sc.pp.neighbors(adata_pp)\n",
    "sc.tl.louvain(adata_pp, key_added='groups', resolution=0.5)"
   ]
  },
  {
   "cell_type": "code",
   "execution_count": 19,
   "metadata": {},
   "outputs": [],
   "source": [
    "#Preprocess variables for scran normalization\n",
    "input_groups = adata_pp.obs['groups']\n",
    "data_mat = adata.X.T"
   ]
  },
  {
   "cell_type": "code",
   "execution_count": 20,
   "metadata": {
    "scrolled": true
   },
   "outputs": [],
   "source": [
    "%%R -i data_mat -i input_groups -o size_factors\n",
    "\n",
    "size_factors = computeSumFactors(data_mat, clusters=input_groups, min.mean=0.1)"
   ]
  },
  {
   "cell_type": "code",
   "execution_count": 21,
   "metadata": {},
   "outputs": [],
   "source": [
    "#Delete adata_pp\n",
    "del adata_pp"
   ]
  },
  {
   "cell_type": "code",
   "execution_count": 22,
   "metadata": {
    "scrolled": false
   },
   "outputs": [
    {
     "data": {
      "image/png": "[encoded data removed]",
      "text/plain": [
       "<Figure size 671.674x576 with 1 Axes>"
      ]
     },
     "metadata": {
      "needs_background": "light"
     },
     "output_type": "display_data"
    },
    {
     "data": {
      "image/png": "[encoded data removed]",
      "text/plain": [
       "<Figure size 671.674x576 with 1 Axes>"
      ]
     },
     "metadata": {
      "needs_background": "light"
     },
     "output_type": "display_data"
    },
    {
     "data": {
      "image/png": "[encoded data removed]",
      "text/plain": [
       "<Figure size 576x576 with 1 Axes>"
      ]
     },
     "metadata": {
      "needs_background": "light"
     },
     "output_type": "display_data"
    }
   ],
   "source": [
    "# Visualize the estimated size factors\n",
    "adata.obs['size_factors'] = size_factors\n",
    "\n",
    "sc.pl.scatter(adata, 'size_factors', 'n_counts')\n",
    "sc.pl.scatter(adata, 'size_factors', 'n_genes')\n",
    "\n",
    "sb.distplot(size_factors, bins=50, kde=False)\n",
    "plt.show()"
   ]
  },
  {
   "cell_type": "markdown",
   "metadata": {},
   "source": [
    "We plot the size factors to show they are non-negative and related to the number of counts and genes per cell as expected."
   ]
  },
  {
   "cell_type": "markdown",
   "metadata": {},
   "source": [
    "Before normalizing the data, we ensure that a copy of the raw count data is kept in a separate AnnData object. This allows us to use methods downstream that require this data as input."
   ]
  },
  {
   "cell_type": "code",
   "execution_count": 23,
   "metadata": {},
   "outputs": [],
   "source": [
    "#Keep the count data in a counts layer\n",
    "adata.layers[\"counts\"] = adata.X.copy()"
   ]
  },
  {
   "cell_type": "code",
   "execution_count": 24,
   "metadata": {},
   "outputs": [],
   "source": [
    "#Normalize adata \n",
    "adata.X /= adata.obs['size_factors'].values[:,None]\n",
    "sc.pp.log1p(adata)"
   ]
  },
  {
   "cell_type": "code",
   "execution_count": 25,
   "metadata": {},
   "outputs": [],
   "source": [
    "# Store the full data set in 'raw' as log-normalised data for statistical testing\n",
    "adata.raw = adata"
   ]
  },
  {
   "cell_type": "markdown",
   "metadata": {},
   "source": [
    "The count data has been normalized and log-transformed with an offset of 1. The latter is performed to normalize the data distributions. The offset of 1 ensures that zero counts map to zeros. We keep this data in the '.raw' part of the AnnData object as it will be used to visualize gene expression and perform statistical tests such as computing marker genes for clusters."
   ]
  },
  {
   "cell_type": "markdown",
   "metadata": {},
   "source": [
    "<a id=\"Batch\"></a>"
   ]
  },
  {
   "cell_type": "markdown",
   "metadata": {},
   "source": [
    "## 2.3 Batch Correction"
   ]
  },
  {
   "cell_type": "markdown",
   "metadata": {},
   "source": [
    "Batch correction is performed to adjust for batch effects from the 6 samples that were loaded. As the batch effect from samples and from epithelium regions are overlapping, correcting for this batch effect will also partially regress out differences between regions. We allow for this to optimally cluster the data. This approach can also be helpful to find differentiation trajectories, but we revert back to non-batch-corrected data for differential testing and computing marker genes.\n",
    "\n",
    "Note that ComBat batch correction requires a dense matrix format as input (which is already the case in this example).\n",
    "\n",
    "[Timing: 1min 34s]"
   ]
  },
  {
   "cell_type": "code",
   "execution_count": 26,
   "metadata": {
    "scrolled": true
   },
   "outputs": [
    {
     "name": "stdout",
     "output_type": "stream",
     "text": [
      "Standardizing Data across genes.\n",
      "\n",
      "Found 6 batches\n",
      "\n",
      "Found 0 numerical variables:\n",
      "\t\n",
      "\n"
     ]
    },
    {
     "ename": "MemoryError",
     "evalue": "",
     "output_type": "error",
     "traceback": [
      "\u001b[0;31m---------------------------------------------------------------------------\u001b[0m",
      "\u001b[0;31mMemoryError\u001b[0m                               Traceback (most recent call last)",
      "\u001b[0;32m<ipython-input-26-350690ae55dc>\u001b[0m in \u001b[0;36m<module>\u001b[0;34m\u001b[0m\n\u001b[1;32m      1\u001b[0m \u001b[0;31m# ComBat batch correction\u001b[0m\u001b[0;34m\u001b[0m\u001b[0;34m\u001b[0m\u001b[0;34m\u001b[0m\u001b[0m\n\u001b[0;32m----> 2\u001b[0;31m \u001b[0msc\u001b[0m\u001b[0;34m.\u001b[0m\u001b[0mpp\u001b[0m\u001b[0;34m.\u001b[0m\u001b[0mcombat\u001b[0m\u001b[0;34m(\u001b[0m\u001b[0madata\u001b[0m\u001b[0;34m,\u001b[0m \u001b[0mkey\u001b[0m\u001b[0;34m=\u001b[0m\u001b[0;34m'sample'\u001b[0m\u001b[0;34m)\u001b[0m\u001b[0;34m\u001b[0m\u001b[0;34m\u001b[0m\u001b[0m\n\u001b[0m",
      "\u001b[0;32m~/anaconda3/envs/sc-tutorial/lib/python3.7/site-packages/scanpy/preprocessing/_combat.py\u001b[0m in \u001b[0;36mcombat\u001b[0;34m(adata, key, covariates, inplace)\u001b[0m\n\u001b[1;32m    198\u001b[0m     \u001b[0;31m# standardize across genes using a pooled variance estimator\u001b[0m\u001b[0;34m\u001b[0m\u001b[0;34m\u001b[0m\u001b[0;34m\u001b[0m\u001b[0m\n\u001b[1;32m    199\u001b[0m     \u001b[0mlogg\u001b[0m\u001b[0;34m.\u001b[0m\u001b[0minfo\u001b[0m\u001b[0;34m(\u001b[0m\u001b[0;34m\"Standardizing Data across genes.\\n\"\u001b[0m\u001b[0;34m)\u001b[0m\u001b[0;34m\u001b[0m\u001b[0;34m\u001b[0m\u001b[0m\n\u001b[0;32m--> 200\u001b[0;31m     \u001b[0ms_data\u001b[0m\u001b[0;34m,\u001b[0m \u001b[0mdesign\u001b[0m\u001b[0;34m,\u001b[0m \u001b[0mvar_pooled\u001b[0m\u001b[0;34m,\u001b[0m \u001b[0mstand_mean\u001b[0m \u001b[0;34m=\u001b[0m \u001b[0m_standardize_data\u001b[0m\u001b[0;34m(\u001b[0m\u001b[0mmodel\u001b[0m\u001b[0;34m,\u001b[0m \u001b[0mdata\u001b[0m\u001b[0;34m,\u001b[0m \u001b[0mkey\u001b[0m\u001b[0;34m)\u001b[0m\u001b[0;34m\u001b[0m\u001b[0;34m\u001b[0m\u001b[0m\n\u001b[0m\u001b[1;32m    201\u001b[0m \u001b[0;34m\u001b[0m\u001b[0m\n\u001b[1;32m    202\u001b[0m     \u001b[0;31m# fitting the parameters on the standardized data\u001b[0m\u001b[0;34m\u001b[0m\u001b[0;34m\u001b[0m\u001b[0;34m\u001b[0m\u001b[0m\n",
      "\u001b[0;32m~/anaconda3/envs/sc-tutorial/lib/python3.7/site-packages/scanpy/preprocessing/_combat.py\u001b[0m in \u001b[0;36m_standardize_data\u001b[0;34m(model, data, batch_key)\u001b[0m\n\u001b[1;32m    109\u001b[0m     \u001b[0mB_hat\u001b[0m \u001b[0;34m=\u001b[0m \u001b[0mnp\u001b[0m\u001b[0;34m.\u001b[0m\u001b[0mdot\u001b[0m\u001b[0;34m(\u001b[0m\u001b[0mnp\u001b[0m\u001b[0;34m.\u001b[0m\u001b[0mdot\u001b[0m\u001b[0;34m(\u001b[0m\u001b[0mla\u001b[0m\u001b[0;34m.\u001b[0m\u001b[0minv\u001b[0m\u001b[0;34m(\u001b[0m\u001b[0mnp\u001b[0m\u001b[0;34m.\u001b[0m\u001b[0mdot\u001b[0m\u001b[0;34m(\u001b[0m\u001b[0mdesign\u001b[0m\u001b[0;34m.\u001b[0m\u001b[0mT\u001b[0m\u001b[0;34m,\u001b[0m \u001b[0mdesign\u001b[0m\u001b[0;34m)\u001b[0m\u001b[0;34m)\u001b[0m\u001b[0;34m,\u001b[0m \u001b[0mdesign\u001b[0m\u001b[0;34m.\u001b[0m\u001b[0mT\u001b[0m\u001b[0;34m)\u001b[0m\u001b[0;34m,\u001b[0m \u001b[0mdata\u001b[0m\u001b[0;34m.\u001b[0m\u001b[0mT\u001b[0m\u001b[0;34m)\u001b[0m\u001b[0;34m\u001b[0m\u001b[0;34m\u001b[0m\u001b[0m\n\u001b[1;32m    110\u001b[0m     \u001b[0mgrand_mean\u001b[0m \u001b[0;34m=\u001b[0m \u001b[0mnp\u001b[0m\u001b[0;34m.\u001b[0m\u001b[0mdot\u001b[0m\u001b[0;34m(\u001b[0m\u001b[0;34m(\u001b[0m\u001b[0mn_batches\u001b[0m \u001b[0;34m/\u001b[0m \u001b[0mn_array\u001b[0m\u001b[0;34m)\u001b[0m\u001b[0;34m.\u001b[0m\u001b[0mT\u001b[0m\u001b[0;34m,\u001b[0m \u001b[0mB_hat\u001b[0m\u001b[0;34m[\u001b[0m\u001b[0;34m:\u001b[0m\u001b[0mn_batch\u001b[0m\u001b[0;34m,\u001b[0m \u001b[0;34m:\u001b[0m\u001b[0;34m]\u001b[0m\u001b[0;34m)\u001b[0m\u001b[0;34m\u001b[0m\u001b[0;34m\u001b[0m\u001b[0m\n\u001b[0;32m--> 111\u001b[0;31m     \u001b[0mvar_pooled\u001b[0m \u001b[0;34m=\u001b[0m \u001b[0;34m(\u001b[0m\u001b[0mdata\u001b[0m \u001b[0;34m-\u001b[0m \u001b[0mnp\u001b[0m\u001b[0;34m.\u001b[0m\u001b[0mdot\u001b[0m\u001b[0;34m(\u001b[0m\u001b[0mdesign\u001b[0m\u001b[0;34m,\u001b[0m \u001b[0mB_hat\u001b[0m\u001b[0;34m)\u001b[0m\u001b[0;34m.\u001b[0m\u001b[0mT\u001b[0m\u001b[0;34m)\u001b[0m\u001b[0;34m**\u001b[0m\u001b[0;36m2\u001b[0m\u001b[0;34m\u001b[0m\u001b[0;34m\u001b[0m\u001b[0m\n\u001b[0m\u001b[1;32m    112\u001b[0m     \u001b[0mvar_pooled\u001b[0m \u001b[0;34m=\u001b[0m \u001b[0mnp\u001b[0m\u001b[0;34m.\u001b[0m\u001b[0mdot\u001b[0m\u001b[0;34m(\u001b[0m\u001b[0mvar_pooled\u001b[0m\u001b[0;34m,\u001b[0m \u001b[0mnp\u001b[0m\u001b[0;34m.\u001b[0m\u001b[0mones\u001b[0m\u001b[0;34m(\u001b[0m\u001b[0;34m(\u001b[0m\u001b[0mint\u001b[0m\u001b[0;34m(\u001b[0m\u001b[0mn_array\u001b[0m\u001b[0;34m)\u001b[0m\u001b[0;34m,\u001b[0m \u001b[0;36m1\u001b[0m\u001b[0;34m)\u001b[0m\u001b[0;34m)\u001b[0m \u001b[0;34m/\u001b[0m \u001b[0mint\u001b[0m\u001b[0;34m(\u001b[0m\u001b[0mn_array\u001b[0m\u001b[0;34m)\u001b[0m\u001b[0;34m)\u001b[0m\u001b[0;34m\u001b[0m\u001b[0;34m\u001b[0m\u001b[0m\n\u001b[1;32m    113\u001b[0m \u001b[0;34m\u001b[0m\u001b[0m\n",
      "\u001b[0;32m~/anaconda3/envs/sc-tutorial/lib/python3.7/site-packages/pandas/core/ops.py\u001b[0m in \u001b[0;36mf\u001b[0;34m(self, other, axis, level, fill_value)\u001b[0m\n\u001b[1;32m   2021\u001b[0m             \u001b[0;31m# Another DataFrame\u001b[0m\u001b[0;34m\u001b[0m\u001b[0;34m\u001b[0m\u001b[0;34m\u001b[0m\u001b[0m\n\u001b[1;32m   2022\u001b[0m             \u001b[0mpass_op\u001b[0m \u001b[0;34m=\u001b[0m \u001b[0mop\u001b[0m \u001b[0;32mif\u001b[0m \u001b[0mshould_series_dispatch\u001b[0m\u001b[0;34m(\u001b[0m\u001b[0mself\u001b[0m\u001b[0;34m,\u001b[0m \u001b[0mother\u001b[0m\u001b[0;34m,\u001b[0m \u001b[0mop\u001b[0m\u001b[0;34m)\u001b[0m \u001b[0;32melse\u001b[0m \u001b[0mna_op\u001b[0m\u001b[0;34m\u001b[0m\u001b[0;34m\u001b[0m\u001b[0m\n\u001b[0;32m-> 2023\u001b[0;31m             \u001b[0;32mreturn\u001b[0m \u001b[0mself\u001b[0m\u001b[0;34m.\u001b[0m\u001b[0m_combine_frame\u001b[0m\u001b[0;34m(\u001b[0m\u001b[0mother\u001b[0m\u001b[0;34m,\u001b[0m \u001b[0mpass_op\u001b[0m\u001b[0;34m,\u001b[0m \u001b[0mfill_value\u001b[0m\u001b[0;34m,\u001b[0m \u001b[0mlevel\u001b[0m\u001b[0;34m)\u001b[0m\u001b[0;34m\u001b[0m\u001b[0;34m\u001b[0m\u001b[0m\n\u001b[0m\u001b[1;32m   2024\u001b[0m         \u001b[0;32melif\u001b[0m \u001b[0misinstance\u001b[0m\u001b[0;34m(\u001b[0m\u001b[0mother\u001b[0m\u001b[0;34m,\u001b[0m \u001b[0mABCSeries\u001b[0m\u001b[0;34m)\u001b[0m\u001b[0;34m:\u001b[0m\u001b[0;34m\u001b[0m\u001b[0;34m\u001b[0m\u001b[0m\n\u001b[1;32m   2025\u001b[0m             \u001b[0;31m# For these values of `axis`, we end up dispatching to Series op,\u001b[0m\u001b[0;34m\u001b[0m\u001b[0;34m\u001b[0m\u001b[0;34m\u001b[0m\u001b[0m\n",
      "\u001b[0;32m~/anaconda3/envs/sc-tutorial/lib/python3.7/site-packages/pandas/core/frame.py\u001b[0m in \u001b[0;36m_combine_frame\u001b[0;34m(self, other, func, fill_value, level)\u001b[0m\n\u001b[1;32m   5088\u001b[0m             \u001b[0;32mreturn\u001b[0m \u001b[0mops\u001b[0m\u001b[0;34m.\u001b[0m\u001b[0mdispatch_to_series\u001b[0m\u001b[0;34m(\u001b[0m\u001b[0mthis\u001b[0m\u001b[0;34m,\u001b[0m \u001b[0mother\u001b[0m\u001b[0;34m,\u001b[0m \u001b[0m_arith_op\u001b[0m\u001b[0;34m)\u001b[0m\u001b[0;34m\u001b[0m\u001b[0;34m\u001b[0m\u001b[0m\n\u001b[1;32m   5089\u001b[0m         \u001b[0;32melse\u001b[0m\u001b[0;34m:\u001b[0m\u001b[0;34m\u001b[0m\u001b[0;34m\u001b[0m\u001b[0m\n\u001b[0;32m-> 5090\u001b[0;31m             \u001b[0mresult\u001b[0m \u001b[0;34m=\u001b[0m \u001b[0m_arith_op\u001b[0m\u001b[0;34m(\u001b[0m\u001b[0mthis\u001b[0m\u001b[0;34m.\u001b[0m\u001b[0mvalues\u001b[0m\u001b[0;34m,\u001b[0m \u001b[0mother\u001b[0m\u001b[0;34m.\u001b[0m\u001b[0mvalues\u001b[0m\u001b[0;34m)\u001b[0m\u001b[0;34m\u001b[0m\u001b[0;34m\u001b[0m\u001b[0m\n\u001b[0m\u001b[1;32m   5091\u001b[0m             return self._constructor(result,\n\u001b[1;32m   5092\u001b[0m                                      \u001b[0mindex\u001b[0m\u001b[0;34m=\u001b[0m\u001b[0mnew_index\u001b[0m\u001b[0;34m,\u001b[0m \u001b[0mcolumns\u001b[0m\u001b[0;34m=\u001b[0m\u001b[0mnew_columns\u001b[0m\u001b[0;34m,\u001b[0m\u001b[0;34m\u001b[0m\u001b[0;34m\u001b[0m\u001b[0m\n",
      "\u001b[0;32m~/anaconda3/envs/sc-tutorial/lib/python3.7/site-packages/pandas/core/frame.py\u001b[0m in \u001b[0;36m_arith_op\u001b[0;34m(left, right)\u001b[0m\n\u001b[1;32m   5082\u001b[0m             \u001b[0;31m# left._binop(right, func, fill_value=fill_value)\u001b[0m\u001b[0;34m\u001b[0m\u001b[0;34m\u001b[0m\u001b[0;34m\u001b[0m\u001b[0m\n\u001b[1;32m   5083\u001b[0m             \u001b[0mleft\u001b[0m\u001b[0;34m,\u001b[0m \u001b[0mright\u001b[0m \u001b[0;34m=\u001b[0m \u001b[0mops\u001b[0m\u001b[0;34m.\u001b[0m\u001b[0mfill_binop\u001b[0m\u001b[0;34m(\u001b[0m\u001b[0mleft\u001b[0m\u001b[0;34m,\u001b[0m \u001b[0mright\u001b[0m\u001b[0;34m,\u001b[0m \u001b[0mfill_value\u001b[0m\u001b[0;34m)\u001b[0m\u001b[0;34m\u001b[0m\u001b[0;34m\u001b[0m\u001b[0m\n\u001b[0;32m-> 5084\u001b[0;31m             \u001b[0;32mreturn\u001b[0m \u001b[0mfunc\u001b[0m\u001b[0;34m(\u001b[0m\u001b[0mleft\u001b[0m\u001b[0;34m,\u001b[0m \u001b[0mright\u001b[0m\u001b[0;34m)\u001b[0m\u001b[0;34m\u001b[0m\u001b[0;34m\u001b[0m\u001b[0m\n\u001b[0m\u001b[1;32m   5085\u001b[0m \u001b[0;34m\u001b[0m\u001b[0m\n\u001b[1;32m   5086\u001b[0m         \u001b[0;32mif\u001b[0m \u001b[0mops\u001b[0m\u001b[0;34m.\u001b[0m\u001b[0mshould_series_dispatch\u001b[0m\u001b[0;34m(\u001b[0m\u001b[0mthis\u001b[0m\u001b[0;34m,\u001b[0m \u001b[0mother\u001b[0m\u001b[0;34m,\u001b[0m \u001b[0mfunc\u001b[0m\u001b[0;34m)\u001b[0m\u001b[0;34m:\u001b[0m\u001b[0;34m\u001b[0m\u001b[0;34m\u001b[0m\u001b[0m\n",
      "\u001b[0;32m~/anaconda3/envs/sc-tutorial/lib/python3.7/site-packages/pandas/core/ops.py\u001b[0m in \u001b[0;36mna_op\u001b[0;34m(x, y)\u001b[0m\n\u001b[1;32m   1999\u001b[0m \u001b[0;34m\u001b[0m\u001b[0m\n\u001b[1;32m   2000\u001b[0m         \u001b[0;32mtry\u001b[0m\u001b[0;34m:\u001b[0m\u001b[0;34m\u001b[0m\u001b[0;34m\u001b[0m\u001b[0m\n\u001b[0;32m-> 2001\u001b[0;31m             \u001b[0mresult\u001b[0m \u001b[0;34m=\u001b[0m \u001b[0mexpressions\u001b[0m\u001b[0;34m.\u001b[0m\u001b[0mevaluate\u001b[0m\u001b[0;34m(\u001b[0m\u001b[0mop\u001b[0m\u001b[0;34m,\u001b[0m \u001b[0mstr_rep\u001b[0m\u001b[0;34m,\u001b[0m \u001b[0mx\u001b[0m\u001b[0;34m,\u001b[0m \u001b[0my\u001b[0m\u001b[0;34m,\u001b[0m \u001b[0;34m**\u001b[0m\u001b[0meval_kwargs\u001b[0m\u001b[0;34m)\u001b[0m\u001b[0;34m\u001b[0m\u001b[0;34m\u001b[0m\u001b[0m\n\u001b[0m\u001b[1;32m   2002\u001b[0m         \u001b[0;32mexcept\u001b[0m \u001b[0mTypeError\u001b[0m\u001b[0;34m:\u001b[0m\u001b[0;34m\u001b[0m\u001b[0;34m\u001b[0m\u001b[0m\n\u001b[1;32m   2003\u001b[0m             \u001b[0mresult\u001b[0m \u001b[0;34m=\u001b[0m \u001b[0mmasked_arith_op\u001b[0m\u001b[0;34m(\u001b[0m\u001b[0mx\u001b[0m\u001b[0;34m,\u001b[0m \u001b[0my\u001b[0m\u001b[0;34m,\u001b[0m \u001b[0mop\u001b[0m\u001b[0;34m)\u001b[0m\u001b[0;34m\u001b[0m\u001b[0;34m\u001b[0m\u001b[0m\n",
      "\u001b[0;32m~/anaconda3/envs/sc-tutorial/lib/python3.7/site-packages/pandas/core/computation/expressions.py\u001b[0m in \u001b[0;36mevaluate\u001b[0;34m(op, op_str, a, b, use_numexpr, **eval_kwargs)\u001b[0m\n\u001b[1;32m    206\u001b[0m     \u001b[0muse_numexpr\u001b[0m \u001b[0;34m=\u001b[0m \u001b[0muse_numexpr\u001b[0m \u001b[0;32mand\u001b[0m \u001b[0m_bool_arith_check\u001b[0m\u001b[0;34m(\u001b[0m\u001b[0mop_str\u001b[0m\u001b[0;34m,\u001b[0m \u001b[0ma\u001b[0m\u001b[0;34m,\u001b[0m \u001b[0mb\u001b[0m\u001b[0;34m)\u001b[0m\u001b[0;34m\u001b[0m\u001b[0;34m\u001b[0m\u001b[0m\n\u001b[1;32m    207\u001b[0m     \u001b[0;32mif\u001b[0m \u001b[0muse_numexpr\u001b[0m\u001b[0;34m:\u001b[0m\u001b[0;34m\u001b[0m\u001b[0;34m\u001b[0m\u001b[0m\n\u001b[0;32m--> 208\u001b[0;31m         \u001b[0;32mreturn\u001b[0m \u001b[0m_evaluate\u001b[0m\u001b[0;34m(\u001b[0m\u001b[0mop\u001b[0m\u001b[0;34m,\u001b[0m \u001b[0mop_str\u001b[0m\u001b[0;34m,\u001b[0m \u001b[0ma\u001b[0m\u001b[0;34m,\u001b[0m \u001b[0mb\u001b[0m\u001b[0;34m,\u001b[0m \u001b[0;34m**\u001b[0m\u001b[0meval_kwargs\u001b[0m\u001b[0;34m)\u001b[0m\u001b[0;34m\u001b[0m\u001b[0;34m\u001b[0m\u001b[0m\n\u001b[0m\u001b[1;32m    209\u001b[0m     \u001b[0;32mreturn\u001b[0m \u001b[0m_evaluate_standard\u001b[0m\u001b[0;34m(\u001b[0m\u001b[0mop\u001b[0m\u001b[0;34m,\u001b[0m \u001b[0mop_str\u001b[0m\u001b[0;34m,\u001b[0m \u001b[0ma\u001b[0m\u001b[0;34m,\u001b[0m \u001b[0mb\u001b[0m\u001b[0;34m)\u001b[0m\u001b[0;34m\u001b[0m\u001b[0;34m\u001b[0m\u001b[0m\n\u001b[1;32m    210\u001b[0m \u001b[0;34m\u001b[0m\u001b[0m\n",
      "\u001b[0;32m~/anaconda3/envs/sc-tutorial/lib/python3.7/site-packages/pandas/core/computation/expressions.py\u001b[0m in \u001b[0;36m_evaluate_numexpr\u001b[0;34m(op, op_str, a, b, truediv, reversed, **eval_kwargs)\u001b[0m\n\u001b[1;32m    112\u001b[0m                                              'b_value': b_value},\n\u001b[1;32m    113\u001b[0m                                  \u001b[0mcasting\u001b[0m\u001b[0;34m=\u001b[0m\u001b[0;34m'safe'\u001b[0m\u001b[0;34m,\u001b[0m \u001b[0mtruediv\u001b[0m\u001b[0;34m=\u001b[0m\u001b[0mtruediv\u001b[0m\u001b[0;34m,\u001b[0m\u001b[0;34m\u001b[0m\u001b[0;34m\u001b[0m\u001b[0m\n\u001b[0;32m--> 114\u001b[0;31m                                  **eval_kwargs)\n\u001b[0m\u001b[1;32m    115\u001b[0m         \u001b[0;32mexcept\u001b[0m \u001b[0mValueError\u001b[0m \u001b[0;32mas\u001b[0m \u001b[0mdetail\u001b[0m\u001b[0;34m:\u001b[0m\u001b[0;34m\u001b[0m\u001b[0;34m\u001b[0m\u001b[0m\n\u001b[1;32m    116\u001b[0m             \u001b[0;32mif\u001b[0m \u001b[0;34m'unknown type object'\u001b[0m \u001b[0;32min\u001b[0m \u001b[0mstr\u001b[0m\u001b[0;34m(\u001b[0m\u001b[0mdetail\u001b[0m\u001b[0;34m)\u001b[0m\u001b[0;34m:\u001b[0m\u001b[0;34m\u001b[0m\u001b[0;34m\u001b[0m\u001b[0m\n",
      "\u001b[0;32m~/anaconda3/envs/sc-tutorial/lib/python3.7/site-packages/numexpr/necompiler.py\u001b[0m in \u001b[0;36mevaluate\u001b[0;34m(ex, local_dict, global_dict, out, order, casting, **kwargs)\u001b[0m\n\u001b[1;32m    832\u001b[0m     \u001b[0m_numexpr_last\u001b[0m \u001b[0;34m=\u001b[0m \u001b[0mdict\u001b[0m\u001b[0;34m(\u001b[0m\u001b[0mex\u001b[0m\u001b[0;34m=\u001b[0m\u001b[0mcompiled_ex\u001b[0m\u001b[0;34m,\u001b[0m \u001b[0margnames\u001b[0m\u001b[0;34m=\u001b[0m\u001b[0mnames\u001b[0m\u001b[0;34m,\u001b[0m \u001b[0mkwargs\u001b[0m\u001b[0;34m=\u001b[0m\u001b[0mkwargs\u001b[0m\u001b[0;34m)\u001b[0m\u001b[0;34m\u001b[0m\u001b[0;34m\u001b[0m\u001b[0m\n\u001b[1;32m    833\u001b[0m     \u001b[0;32mwith\u001b[0m \u001b[0mevaluate_lock\u001b[0m\u001b[0;34m:\u001b[0m\u001b[0;34m\u001b[0m\u001b[0;34m\u001b[0m\u001b[0m\n\u001b[0;32m--> 834\u001b[0;31m         \u001b[0;32mreturn\u001b[0m \u001b[0mcompiled_ex\u001b[0m\u001b[0;34m(\u001b[0m\u001b[0;34m*\u001b[0m\u001b[0marguments\u001b[0m\u001b[0;34m,\u001b[0m \u001b[0;34m**\u001b[0m\u001b[0mkwargs\u001b[0m\u001b[0;34m)\u001b[0m\u001b[0;34m\u001b[0m\u001b[0;34m\u001b[0m\u001b[0m\n\u001b[0m\u001b[1;32m    835\u001b[0m \u001b[0;34m\u001b[0m\u001b[0m\n\u001b[1;32m    836\u001b[0m \u001b[0;34m\u001b[0m\u001b[0m\n",
      "\u001b[0;31mMemoryError\u001b[0m: "
     ]
    }
   ],
   "source": [
    "# ComBat batch correction\n",
    "sc.pp.combat(adata, key='sample')"
   ]
  },
  {
   "cell_type": "markdown",
   "metadata": {},
   "source": [
    "Note ComBat batch correction can produce negative expression values. One can either set all negative values to 0 or force zeros pre-batch-correction to remain zero post-batch-correction. For simplicity we opt not to do this here."
   ]
  },
  {
   "cell_type": "markdown",
   "metadata": {},
   "source": [
    "<a id=\"HVG\"></a>"
   ]
  },
  {
   "cell_type": "markdown",
   "metadata": {},
   "source": [
    "## 2.4 Highly Variable Genes"
   ]
  },
  {
   "cell_type": "markdown",
   "metadata": {},
   "source": [
    "We extract highly variable genes (HVGs) to further reduce the dimensionality of the dataset and include only the most informative genes. Genes that vary substantially across the dataset are informative of the underlying biological variation in the data. As we only want to capture biological variation in these genes, we select highly variable genes after normalization and batch correction. HVGs are used for clustering, trajectory inference, and dimensionality reduction/visualization, while the full data set is used for computing marker genes, differential testing, cell cycle scoring, and visualizing expression values on the data.\n",
    "\n",
    "Here we use a standard technique for the extraction of highly variable genes from the 10X genomics preprocessing software CellRanger. Typically between 1000 and 5000 genes are selected. Here, we extract the top 4000 most variable genes for further processing. If particular genes of importance are known, one could assess how many highly variable genes are necessary to include all, or the majority, of these.\n",
    "\n",
    "[Timing: 6.61s]"
   ]
  },
  {
   "cell_type": "code",
   "execution_count": null,
   "metadata": {
    "scrolled": true
   },
   "outputs": [],
   "source": [
    "sc.pp.highly_variable_genes(adata, flavor='cell_ranger', n_top_genes=4000)\n",
    "print('\\n','Number of highly variable genes: {:d}'.format(np.sum(adata.var['highly_variable'])))"
   ]
  },
  {
   "cell_type": "code",
   "execution_count": null,
   "metadata": {},
   "outputs": [],
   "source": [
    "sc.pl.highly_variable_genes(adata)"
   ]
  },
  {
   "cell_type": "markdown",
   "metadata": {},
   "source": [
    "The plots show how the data was normalized to select highly variable genes irrespective of the mean expression of the genes. This is achieved by using the index of dispersion which divides by mean expression, and subsequently binning the data by mean expression and selecting the most variable genes within each bin."
   ]
  },
  {
   "cell_type": "markdown",
   "metadata": {},
   "source": [
    "Highly variable gene information is stored automatically in the adata.var['highly_variable'] field. The dataset now contains:\n",
    "- a 'counts' layer with count data\n",
    "- log-normalized data in adata.raw\n",
    "- batch corrected data in adata.X\n",
    "- highly variable gene annotations in adata.var['highly_variable']\n",
    "\n",
    "The HVG labels will be used to subselect genes for clustering and trajectory analysis."
   ]
  },
  {
   "cell_type": "markdown",
   "metadata": {},
   "source": [
    "<a id=\"Visualization\"></a>"
   ]
  },
  {
   "cell_type": "markdown",
   "metadata": {},
   "source": [
    "## 2.5 Visualization"
   ]
  },
  {
   "cell_type": "markdown",
   "metadata": {},
   "source": [
    "Visualizing scRNA-seq data is the process of projecting a high-dimensional matrix of cells and genes into a few coordinates such that every cell is meaningfully represented in a two-dimensional graph. However, the visualization of scRNA-seq data is an active area of research and each method defines 'meaningful' in its own way. Thus, it is a good idea to look at several visualizations and decide which visualization best represents the aspect of the data that is being investigated. \n",
    "\n",
    "Overall t-SNE visualizations have been very popular in the community, however the recent UMAP algorithm has been shown to better represent the topology of the data.\n",
    "\n",
    "Note that we do not scale the genes to have zero mean and unit variance. A lack of rescaling is equivalent to giving genes with a higher mean expression a higher weight in dimensionality reduction (despite correcting for mean offsets in PCA, due to the mean-variance relationship). We argue that this weighting based on mean expression being a biologically relevant signal. However, rescaling HVG expression is also common, and the number of publications that use this approach suggests that scaling is at least not detrimental to downstream scRNA-seq analysis.\n",
    "\n",
    "[Timing: 6min 54s; 03min 46s of which are spent on t-SNE calculation, and 2min 7s on draw_graph]"
   ]
  },
  {
   "cell_type": "code",
   "execution_count": null,
   "metadata": {
    "scrolled": false
   },
   "outputs": [],
   "source": [
    "# Calculate the visualizations\n",
    "sc.pp.pca(adata, n_comps=50, use_highly_variable=True, svd_solver='arpack')\n",
    "sc.pp.neighbors(adata)\n",
    "\n",
    "sc.tl.tsne(adata, n_jobs=12) #Note n_jobs works for MulticoreTSNE, but not regular implementation)\n",
    "sc.tl.umap(adata)\n",
    "sc.tl.diffmap(adata)\n",
    "sc.tl.draw_graph(adata)"
   ]
  },
  {
   "cell_type": "code",
   "execution_count": null,
   "metadata": {
    "scrolled": false
   },
   "outputs": [],
   "source": [
    "sc.pl.pca_scatter(adata, color='n_counts')\n",
    "sc.pl.tsne(adata, color='n_counts')\n",
    "sc.pl.umap(adata, color='n_counts')\n",
    "sc.pl.diffmap(adata, color='n_counts', components=['1,2','1,3'])\n",
    "sc.pl.draw_graph(adata, color='n_counts')"
   ]
  },
  {
   "cell_type": "markdown",
   "metadata": {},
   "source": [
    "PCA:\n",
    "- Unsurprisingly, the first principle component captures variation in count depth between cells, and is thus only marginally informative\n",
    "- The plot does not show the expected clustering of the data in two dimensions\n",
    "\n",
    "t-SNE:\n",
    "- Shows several distinct clusters with clear subcluster structure\n",
    "- Connections between clusters are difficult to interpret visually\n",
    "\n",
    "UMAP:\n",
    "- Data points are spread out on the plot showing several clusters\n",
    "- Connections between clusters can be readily identified\n",
    "\n",
    "Diffusion Maps:\n",
    "- Shows connections between regions of higher density\n",
    "- Very clear trajectories are suggested, but clusters are less clear\n",
    "- Each diffusion component extracts heterogeneity in a different part of the data\n",
    "\n",
    "Graph:\n",
    "- Shows a central cluster and several outer clusters\n",
    "- Shows clear connections from the central cluster (likely stem cells) to outer clusters"
   ]
  },
  {
   "cell_type": "markdown",
   "metadata": {},
   "source": [
    "The strengths and weaknesses of the visualizations can readily be identified in the above plots. While t-SNE exaggerates differences, diffusion maps exaggerate transitions. Overall UMAP and force-directed graph drawings show the best compromise of the two aspects, however UMAP is much faster to compute (8s vs 114s here). UMAP has furthermore been shown to more accurately display the structure in the data."
   ]
  },
  {
   "cell_type": "markdown",
   "metadata": {},
   "source": [
    "<a id=\"CC\"></a>"
   ]
  },
  {
   "cell_type": "markdown",
   "metadata": {},
   "source": [
    "## 2.6 Cell cycle scoring"
   ]
  },
  {
   "cell_type": "markdown",
   "metadata": {},
   "source": [
    "Known sources of technical variation in the data have been investigated and corrected for (e.g. batch, count depth). A known source of biological variation that can explain the data is the cell cycle. Here, a gene list from Macosko et al., Cell 161 (2015) is used to score the cell cycle effect in the data and classify cells by cell cycle phase. The file can be found on the single-cell-tutorial github repository, or be taken from the supplementary material of the paper.\n",
    "\n",
    "Please note, that s the gene list was generated for human HeLa cells, the gene names are put into lower case with a leading capital letter to map to the respective mouse genes. When adapting this script to your own data, this must be taken into account for data from species other than mouse.\n",
    "\n",
    "We perform cell cycle scoring on the full batch-corrected data set in adata.\n",
    "\n",
    "[Timing: 10.7s]"
   ]
  },
  {
   "cell_type": "code",
   "execution_count": null,
   "metadata": {},
   "outputs": [],
   "source": [
    "#Score cell cycle and visualize the effect:\n",
    "cc_genes = pd.read_table(cc_genes_file, delimiter='\\t')\n",
    "s_genes = cc_genes['S'].dropna()\n",
    "g2m_genes = cc_genes['G2.M'].dropna()\n",
    "\n",
    "s_genes_mm = [gene.lower().capitalize() for gene in s_genes]\n",
    "g2m_genes_mm = [gene.lower().capitalize() for gene in g2m_genes]\n",
    "\n",
    "s_genes_mm_ens = adata.var_names[np.in1d(adata.var_names, s_genes_mm)]\n",
    "g2m_genes_mm_ens = adata.var_names[np.in1d(adata.var_names, g2m_genes_mm)]\n",
    "\n",
    "sc.tl.score_genes_cell_cycle(adata, s_genes=s_genes_mm_ens, g2m_genes=g2m_genes_mm_ens)"
   ]
  },
  {
   "cell_type": "code",
   "execution_count": null,
   "metadata": {
    "scrolled": false
   },
   "outputs": [],
   "source": [
    "sc.pl.umap(adata, color=['S_score', 'G2M_score'], use_raw=False)\n",
    "sc.pl.umap(adata, color='phase', use_raw=False)"
   ]
  },
  {
   "cell_type": "markdown",
   "metadata": {},
   "source": [
    "Cell cycle scoring shows a pronounced proliferation signal in the largest central cluster in the Umap representation. This suggests a proliferation phenotype in these cells. Other clusters also show less pronouced cell cycle structure."
   ]
  },
  {
   "cell_type": "markdown",
   "metadata": {},
   "source": [
    "<a id=\"Downstream\"></a>"
   ]
  },
  {
   "cell_type": "markdown",
   "metadata": {},
   "source": [
    "# 3 Downstream analysis"
   ]
  },
  {
   "cell_type": "markdown",
   "metadata": {},
   "source": [
    "<a id=\"Clustering\"></a>"
   ]
  },
  {
   "cell_type": "markdown",
   "metadata": {},
   "source": [
    "## 3.1 Clustering"
   ]
  },
  {
   "cell_type": "markdown",
   "metadata": {},
   "source": [
    "Clustering is a central component of the scRNA-seq analysis pipeline. To understand the data, we must identify cell types and states present. The first step of doing so is clustering. Performing Modularity optimization by Louvain community detection on the k-nearest-neighbour graph of cells has become an established practice in scRNA-seq analysis. Thus, this is the method of choice in this tutorial as well."
   ]
  },
  {
   "cell_type": "markdown",
   "metadata": {},
   "source": [
    "Here, we perform clustering at two resolutions. Investigating several resolutions allows us to select a clustering that appears to capture the main clusters in the visualization and can provide a good baseline for further subclustering of the data to identify more specific substructure.\n",
    "\n",
    "Clustering is performed on the highly variable gene data, dimensionality reduced by PCA, and embedded into a KNN graph. (see `sc.pp.pca()` and `sc.pp.neighbors()` functions used in the visualization section.\n",
    "\n",
    "[Timing: 8.08s]"
   ]
  },
  {
   "cell_type": "markdown",
   "metadata": {},
   "source": [
    "Update notice (24.06.2019):\n",
    "\n",
    "Modularity optimization via louvain has a stochastic element to it. This stochasticity typically does not affect the biological interpretation of the data, but can change the details of analysis scripts. Normally scanpy fixes the random seed to 0 to make scripts exactly reproducible. \n",
    "\n",
    "In our latest update, we have used a random seed of 10 as this best reproduced the clustering in the previous notebook with the default random seed of 0. This is purely done for consistency between versions. The best approach would of course be a consensus clustering across many random seeds. This is left for a future update."
   ]
  },
  {
   "cell_type": "code",
   "execution_count": null,
   "metadata": {},
   "outputs": [],
   "source": [
    "# Perform clustering - using highly variable genes\n",
    "sc.tl.louvain(adata, key_added='louvain_r1')\n",
    "sc.tl.louvain(adata, resolution=0.5, key_added='louvain_r0.5', random_state=10)"
   ]
  },
  {
   "cell_type": "code",
   "execution_count": null,
   "metadata": {},
   "outputs": [],
   "source": [
    "adata.obs['louvain_r0.5'].value_counts()"
   ]
  },
  {
   "cell_type": "code",
   "execution_count": null,
   "metadata": {},
   "outputs": [],
   "source": [
    "#Visualize the clustering and how this is reflected by different technical covariates\n",
    "sc.pl.umap(adata, color=['louvain_r1', 'louvain_r0.5'], palette=sc.pl.palettes.default_64)\n",
    "sc.pl.umap(adata, color=['region', 'n_counts'])\n",
    "sc.pl.umap(adata, color=['log_counts', 'mt_frac'])"
   ]
  },
  {
   "cell_type": "markdown",
   "metadata": {},
   "source": [
    "At a resolution of 0.5 the broad clusters in the visualization are captured well in the data. The covariate plots show that clusters 0 and 6 in this data set are characterized by low and high counts respectively. In the case of cluster 6 this may be biologically relevant, while cluster 0 is also characterized by higher mitochondrial read fractions. This indicates cell stress.\n",
    "\n",
    "The variation captured by the clustering is not related to the intestinal epithelium regions. This suggests we are detecting cell types across regions as intended."
   ]
  },
  {
   "cell_type": "markdown",
   "metadata": {},
   "source": [
    "<a id=\"Markers\"></a>"
   ]
  },
  {
   "cell_type": "markdown",
   "metadata": {},
   "source": [
    "## 3.2 Marker genes & cluster annotation"
   ]
  },
  {
   "cell_type": "markdown",
   "metadata": {},
   "source": [
    "To annotate the clusters we obtained, we find genes that are up-regulated in the cluster compared to all other clusters (marker genes). This differential expression test is performed by a Welch t-test with overestimated variance to be conservative. This is the default in scanpy. The test is automatically performed on the `.raw` data set, which is uncorrected and contains all genes. All genes are taken into account, as any gene may be an informative marker.\n",
    "\n",
    "As we are using the relevant mouse gut atlas from the literature in this case study, there is no other reference atlas which we use to annotate the cells by automated annotation. Thus, we do not use scmap or garnett here.\n",
    "\n",
    "[Timing: 25.1s]"
   ]
  },
  {
   "cell_type": "code",
   "execution_count": null,
   "metadata": {
    "scrolled": true
   },
   "outputs": [],
   "source": [
    "#Calculate marker genes\n",
    "sc.tl.rank_genes_groups(adata, groupby='louvain_r0.5', key_added='rank_genes_r0.5')"
   ]
  },
  {
   "cell_type": "code",
   "execution_count": null,
   "metadata": {
    "scrolled": false
   },
   "outputs": [],
   "source": [
    "#Plot marker genes\n",
    "sc.pl.rank_genes_groups(adata, key='rank_genes_r0.5', groups=['0','1','2'], fontsize=12)\n",
    "sc.pl.rank_genes_groups(adata, key='rank_genes_r0.5', groups=['3','4','5'], fontsize=12)\n",
    "sc.pl.rank_genes_groups(adata, key='rank_genes_r0.5', groups=['6', '7', '8'], fontsize=12)"
   ]
  },
  {
   "cell_type": "markdown",
   "metadata": {},
   "source": [
    "First inspection of the marker gene plots shows that cluster 4 is indeed characterized by high expression of mitochondrial genes. Together with the low counts this suggests a 'stressed' phenotype."
   ]
  },
  {
   "cell_type": "markdown",
   "metadata": {},
   "source": [
    "To further identify the clusters in our data set, we look at the overlap with a list of known marker genes. Here, these marker genes were taken from the publication from which the data was obtained (Haber et al, 2018). \n",
    "\n",
    "In practice marker gene sets can be obtained from public databases such as Linnarson's mouse brain atlas, various Human Cell Atlas datasets, and other published reference atlases. It should be noted that marker genes may not always overlap as expected given that atlases tend to be investigated under wild-type conditions."
   ]
  },
  {
   "cell_type": "code",
   "execution_count": null,
   "metadata": {},
   "outputs": [],
   "source": [
    "#Known marker genes:\n",
    "marker_genes = dict()\n",
    "marker_genes['Stem'] = ['Lgr5', 'Ascl2', 'Slc12a2', 'Axin2', 'Olfm4', 'Gkn3']\n",
    "marker_genes['Enterocyte (Proximal)'] = ['Gsta1','Rbp2','Adh6a','Apoa4','Reg3a','Creb3l3','Cyp3a13','Cyp2d26','Ms4a10','Ace','Aldh1a1','Rdh7','H2-Q2', 'Hsd17b6','Gstm3','Gda','Apoc3','Gpd1','Fabp1','Slc5a1','Mme','Cox7a1','Gsta4','Lct','Khk','Mttp','Xdh','Sult1b1', 'Treh','Lpgat1','Dhrs1','Cyp2c66','Ephx2','Cyp2c65','Cyp3a25','Slc2a2','Ugdh','Gstm6','Retsat','Ppap2a','Acsl5', 'Cyb5r3','Cyb5b','Ckmt1','Aldob','Ckb','Scp2','Prap1']\n",
    "marker_genes['Enterocyte (Distal)'] = ['Tmigd1','Fabp6','Slc51b','Slc51a','Mep1a','Fam151a','Naaladl1','Slc34a2','Plb1','Nudt4','Dpep1','Pmp22','Xpnpep2','Muc3','Neu1','Clec2h','Phgr1','2200002D01Rik','Prss30','Cubn','Plec','Fgf15','Crip1','Krt20','Dhcr24','Myo15b','Amn','Enpep','Anpep','Slc7a9','Ocm','Anxa2','Aoc1','Ceacam20','Arf6','Abcb1a','Xpnpep1','Vnn1','Cndp2','Nostrin','Slc13a1','Aspa','Maf','Myh14']\n",
    "marker_genes['Goblet'] = ['Agr2', 'Fcgbp', 'Tff3', 'Clca1', 'Zg16', 'Tpsg1', 'Muc2', 'Galnt12', 'Atoh1', 'Rep15', 'S100a6', 'Pdia5', 'Klk1', 'Pla2g10', 'Spdef', 'Lrrc26', 'Ccl9', 'Bace2', 'Bcas1', 'Slc12a8', 'Smim14', 'Tspan13', 'Txndc5', 'Creb3l4', 'C1galt1c1', 'Creb3l1', 'Qsox1', 'Guca2a', 'Scin', 'Ern2', 'AW112010', 'Fkbp11', 'Capn9', 'Stard3nl', 'Slc50a1', 'Sdf2l1', 'Hgfa', 'Galnt7', 'Hpd', 'Ttc39a', 'Tmed3', 'Pdia6', 'Uap1', 'Gcnt3', 'Tnfaip8', 'Dnajc10', 'Ergic1', 'Tsta3', 'Kdelr3', 'Foxa3', 'Tpd52', 'Tmed9', 'Spink4', 'Nans', 'Cmtm7', 'Creld2', 'Tm9sf3', 'Wars', 'Smim6', 'Manf', 'Oit1', 'Tram1', 'Kdelr2', 'Xbp1', 'Serp1', 'Vimp', 'Guk1', 'Sh3bgrl3', 'Cmpk1', 'Tmsb10', 'Dap', 'Ostc', 'Ssr4', 'Sec61b', 'Pdia3', 'Gale', 'Klf4', 'Krtcap2', 'Arf4', 'Sep15', 'Ssr2', 'Ramp1', 'Calr', 'Ddost']\n",
    "marker_genes['Paneth'] = ['Gm15284', 'AY761184', 'Defa17', 'Gm14851', 'Defa22', 'Defa-rs1', 'Defa3', 'Defa24', 'Defa26', 'Defa21', 'Lyz1', 'Gm15292', 'Mptx2', 'Ang4']\n",
    "marker_genes['Enteroendocrine'] = ['Chgb', 'Gfra3', 'Cck', 'Vwa5b2', 'Neurod1', 'Fev', 'Aplp1', 'Scgn', 'Neurog3', 'Resp18', 'Trp53i11', 'Bex2', 'Rph3al', 'Scg5', 'Pcsk1', 'Isl1', 'Maged1', 'Fabp5', 'Celf3', 'Pcsk1n', 'Fam183b', 'Prnp', 'Tac1', 'Gpx3', 'Cplx2', 'Nkx2-2', 'Olfm1', 'Vim', 'Rimbp2', 'Anxa6', 'Scg3', 'Ngfrap1', 'Insm1', 'Gng4', 'Pax6', 'Cnot6l', 'Cacna2d1', 'Tox3', 'Slc39a2', 'Riiad1']\n",
    "marker_genes['Tuft'] = ['Alox5ap', 'Lrmp', 'Hck', 'Avil', 'Rgs13', 'Ltc4s', 'Trpm5', 'Dclk1', 'Spib', 'Fyb', 'Ptpn6', 'Matk', 'Snrnp25', 'Sh2d7', 'Ly6g6f', 'Kctd12', '1810046K07Rik', 'Hpgds', 'Tuba1a', 'Pik3r5', 'Vav1', 'Tspan6', 'Skap2', 'Pygl', 'Ccdc109b', 'Ccdc28b', 'Plcg2', 'Ly6g6d', 'Alox5', 'Pou2f3', 'Gng13', 'Bmx', 'Ptpn18', 'Nebl', 'Limd2', 'Pea15a', 'Tmem176a', 'Smpx', 'Itpr2', 'Il13ra1', 'Siglecf', 'Ffar3', 'Rac2', 'Hmx2', 'Bpgm', 'Inpp5j', 'Ptgs1', 'Aldh2', 'Pik3cg', 'Cd24a', 'Ethe1', 'Inpp5d', 'Krt23', 'Gprc5c', 'Reep5', 'Csk', 'Bcl2l14', 'Tmem141', 'Coprs', 'Tmem176b', '1110007C09Rik', 'Ildr1', 'Galk1', 'Zfp428', 'Rgs2', 'Inpp5b', 'Gnai2', 'Pla2g4a', 'Acot7', 'Rbm38', 'Gga2', 'Myo1b', 'Adh1', 'Bub3', 'Sec14l1', 'Asah1', 'Ppp3ca', 'Agt', 'Gimap1', 'Krt18', 'Pim3', '2210016L21Rik', 'Tmem9', 'Lima1', 'Fam221a', 'Nt5c3', 'Atp2a3', 'Mlip', 'Vdac3', 'Ccdc23', 'Tmem45b', 'Cd47', 'Lect2', 'Pla2g16', 'Mocs2', 'Arpc5', 'Ndufaf3']"
   ]
  },
  {
   "cell_type": "code",
   "execution_count": null,
   "metadata": {},
   "outputs": [],
   "source": [
    "cell_annotation = sc.tl.marker_gene_overlap(adata, marker_genes, key='rank_genes_r0.5')\n",
    "cell_annotation"
   ]
  },
  {
   "cell_type": "markdown",
   "metadata": {},
   "source": [
    "We can also visualize the marker gene overlap as a fraction of the total marker genes, and then plot this as a heatmap for simpler cell identity annotation."
   ]
  },
  {
   "cell_type": "code",
   "execution_count": null,
   "metadata": {},
   "outputs": [],
   "source": [
    "cell_annotation_norm = sc.tl.marker_gene_overlap(adata, marker_genes, key='rank_genes_r0.5', normalize='reference')\n",
    "sb.heatmap(cell_annotation_norm, cbar=False, annot=True)"
   ]
  },
  {
   "cell_type": "markdown",
   "metadata": {},
   "source": [
    "Here we look simply at the fraction of known marker genes that are found in the cluster marker gene sets from the rank_genes_groups() function. This allows us to clearly identify tuft cells, enteroendocrine cells, paneth cells, enterocytes, and stem cells.\n",
    "\n",
    "A more rigorous analysis would be to perform an enrichment test. Yet, in this data set the assignment is sufficiently clear so that it is not necessary."
   ]
  },
  {
   "cell_type": "markdown",
   "metadata": {},
   "source": [
    "As we see quite an overlap of Goblet markers in cluster 6, which otherwise seems to contain paneth cells, we will visualize the expression of two markers to show the respective populations.\n",
    "\n",
    "Note that `use_raw=False` is used to visualize batch-corrected data on top of the UMAP layout."
   ]
  },
  {
   "cell_type": "code",
   "execution_count": null,
   "metadata": {},
   "outputs": [],
   "source": [
    "#Define a nice colour map for gene expression\n",
    "colors2 = plt.cm.Reds(np.linspace(0, 1, 128))\n",
    "colors3 = plt.cm.Greys_r(np.linspace(0.7,0.8,20))\n",
    "colorsComb = np.vstack([colors3, colors2])\n",
    "mymap = colors.LinearSegmentedColormap.from_list('my_colormap', colorsComb)"
   ]
  },
  {
   "cell_type": "code",
   "execution_count": null,
   "metadata": {
    "scrolled": false
   },
   "outputs": [],
   "source": [
    "#Defa24 #Tff3\n",
    "sc.pl.umap(adata, color='Defa24', use_raw=False, color_map=mymap)\n",
    "sc.pl.umap(adata, color='Tff3', use_raw=False, color_map=mymap)\n"
   ]
  },
  {
   "cell_type": "markdown",
   "metadata": {},
   "source": [
    "It is evident that the two clusters are distinct, yet goblet cell markers may also be expressed in paneth cells at a lower level."
   ]
  },
  {
   "cell_type": "markdown",
   "metadata": {},
   "source": [
    "To identify clusters 0, 1, and 4, we now look at known marker gene expression. It is possible that a known marker is expressed in a cluster although it is not a marker gene for this cluster given its expression in another cluster is higher. This can be the case especially for progenitor cells. We visualize gene expression on the full, batch-corrected data set in adata.\n",
    "\n",
    "Given the position of clusters 0, 1, and 4 in the UMAP visualization enterocyte and stem cell markers are of particular interest."
   ]
  },
  {
   "cell_type": "code",
   "execution_count": null,
   "metadata": {
    "scrolled": false
   },
   "outputs": [],
   "source": [
    "# Check expression of enterocyte markers\n",
    "#Collate all enterocyte markers and get the gene IDs in the data set\n",
    "ids_entprox = np.in1d(adata.var_names, marker_genes['Enterocyte (Proximal)'])\n",
    "ids_entdist = np.in1d(adata.var_names, marker_genes['Enterocyte (Distal)'])\n",
    "ids_ent = np.logical_or(ids_entprox, ids_entdist)\n",
    "\n",
    "#Calculate the mean expression of enterocyte markers\n",
    "adata.obs['Enterocyte_marker_expr'] = adata.X[:,ids_ent].mean(1)\n",
    "\n",
    "#Plot enterocyte expression\n",
    "sc.pl.violin(adata, 'Enterocyte_marker_expr', groupby='louvain_r0.5')\n",
    "sc.pl.umap(adata, color='Enterocyte_marker_expr', color_map=mymap)\n"
   ]
  },
  {
   "cell_type": "code",
   "execution_count": null,
   "metadata": {
    "scrolled": false
   },
   "outputs": [],
   "source": [
    "#Early enterocyte marker - Arg2\n",
    "sc.pl.umap(adata, color='Arg2', use_raw=False, color_map=mymap)\n",
    "\n",
    "sc.pl.violin(adata, groupby='louvain_r0.5', keys='Arg2', use_raw=False)\n",
    "\n",
    "sc.pl.diffmap(adata, components=['6,9'], color='Arg2', use_raw=False, color_map=mymap)\n",
    "sc.pl.diffmap(adata, components=['6,9'], color='louvain_r0.5')"
   ]
  },
  {
   "cell_type": "markdown",
   "metadata": {},
   "source": [
    "The violin plots show that enterocyte marker expression is slightly higher in clusters 1 and 4 compared to other clusters except for the enterocyte cluster 5. For cluster 4 this is particular noticeable in Arg2 expression, which is an enterocyte marker that can already be measured at early stages of differentiation.\n",
    "\n",
    "The diffusion map with Arg2 expression visualized confirms that clusters 1 and 4 are between stem cells and enterocytes and are positioned where Arg2 expression is present. Cluster 0, on the other hand seems to be a little separated from the enterocyte trajectory."
   ]
  },
  {
   "cell_type": "code",
   "execution_count": null,
   "metadata": {},
   "outputs": [],
   "source": [
    "sc.pl.violin(adata, 'mt_frac', groupby='louvain_r0.5')\n",
    "sc.pl.violin(adata, 'log_counts', groupby='louvain_r0.5')"
   ]
  },
  {
   "cell_type": "markdown",
   "metadata": {},
   "source": [
    "We looked at technical covariates to confirm the 'stressed' phenotype of cluster 4 to differentiate clusters 1 and 4."
   ]
  },
  {
   "cell_type": "code",
   "execution_count": null,
   "metadata": {
    "scrolled": false
   },
   "outputs": [],
   "source": [
    "#Check individual stem markers\n",
    "stem_genes = adata.var_names[np.in1d(adata.var_names, marker_genes['Stem'])]\n",
    "sc.pl.umap(adata, color=stem_genes[:3], title=stem_genes[:3], color_map=mymap)\n",
    "sc.pl.umap(adata, color=stem_genes[3:], title=stem_genes[3:], color_map=mymap)"
   ]
  },
  {
   "cell_type": "code",
   "execution_count": null,
   "metadata": {},
   "outputs": [],
   "source": [
    "#Check stem marker expression\n",
    "adata.obs['Stem_marker_expr'] = adata[:,stem_genes].X.mean(1)\n",
    "\n",
    "sc.pl.violin(adata, 'Stem_marker_expr', groupby='louvain_r0.5')\n",
    "sc.pl.umap(adata, color='Stem_marker_expr', color_map=mymap)\n"
   ]
  },
  {
   "cell_type": "markdown",
   "metadata": {},
   "source": [
    "Clusters 0 and 1 show more stem-like expression patterns compared to clusters 4. Together with the cell-cycle signature seen in a previous plot, cluster 0 shows a proliferative signature, and thus points towards transit amplifying cells. \n",
    "\n",
    "Clusters 1 and 4 have heightened enterocyte markers, but are more stem-like than enterocytes. They likely consist of enterocyte progenitors (EPs).\n",
    "\n",
    "Cluster 1 appears to represent an earlier stage of EP than cluster 4 given the diffusion map, and the enterocyte marker expression levels. It may consist of a mixture of Stem cells and EPs."
   ]
  },
  {
   "cell_type": "markdown",
   "metadata": {},
   "source": [
    "The identified cell types are renamed in the full data set."
   ]
  },
  {
   "cell_type": "code",
   "execution_count": null,
   "metadata": {},
   "outputs": [],
   "source": [
    "#Categories to rename\n",
    "adata.obs['louvain_r0.5'].cat.categories"
   ]
  },
  {
   "cell_type": "code",
   "execution_count": null,
   "metadata": {},
   "outputs": [],
   "source": [
    "adata.rename_categories('louvain_r0.5', ['TA', 'EP (early)', 'Stem', 'Goblet', 'EP (stress)', 'Enterocyte', 'Paneth', 'Enteroendocrine', 'Tuft'])"
   ]
  },
  {
   "cell_type": "code",
   "execution_count": null,
   "metadata": {},
   "outputs": [],
   "source": [
    "adata.obs['louvain_r0.5'].value_counts()"
   ]
  },
  {
   "cell_type": "code",
   "execution_count": null,
   "metadata": {
    "scrolled": false
   },
   "outputs": [],
   "source": [
    "sc.pl.umap(adata, color='louvain_r0.5', size=15, legend_loc='on data')"
   ]
  },
  {
   "cell_type": "markdown",
   "metadata": {},
   "source": [
    "<a id=\"Subclustering\"></a>"
   ]
  },
  {
   "cell_type": "markdown",
   "metadata": {},
   "source": [
    "## 3.3 Subclustering"
   ]
  },
  {
   "cell_type": "markdown",
   "metadata": {},
   "source": [
    "To build on the basis clustering, we can now subcluster parts of the data to identify substructure within the identified cell types. Here, we subcluster the 'Enterocyte' population to see if we can find distal and proximal enterocyte clusters which were obtained in the (Haber et al. 2018) paper."
   ]
  },
  {
   "cell_type": "markdown",
   "metadata": {},
   "source": [
    "Subclustering is normally performed at a lower resolution than on the entire dataset given that clustering is more sensitive when performed on a small subset of the data.\n",
    "\n",
    "[Timing: 57.2s]"
   ]
  },
  {
   "cell_type": "code",
   "execution_count": null,
   "metadata": {
    "scrolled": false
   },
   "outputs": [],
   "source": [
    "#Subcluster enterocytes\n",
    "sc.tl.louvain(adata, restrict_to=('louvain_r0.5', ['Enterocyte']), resolution=0.2, key_added='louvain_r0.5_entero_sub')"
   ]
  },
  {
   "cell_type": "code",
   "execution_count": null,
   "metadata": {},
   "outputs": [],
   "source": [
    "#Show the new clustering\n",
    "if 'louvain_r0.5_entero_sub_colors' in adata.uns:\n",
    "    del adata.uns['louvain_r0.5_entero_sub_colors']\n",
    "\n",
    "sc.pl.umap(adata, color='louvain_r0.5_entero_sub', palette=sc.pl.palettes.godsnot_64)\n",
    "sc.pl.umap(adata, color='region', palette=sc.pl.palettes.godsnot_64)"
   ]
  },
  {
   "cell_type": "markdown",
   "metadata": {},
   "source": [
    "The subclustering has identified four subclusters of enterocytes. Plots of the the intestinal regions show that proximal (duodenum and jejunum) and distal (ileum) enterocytes have been separated in some clusters.\n",
    "\n",
    "Marker genes are now computed to verify this observation quantitatively."
   ]
  },
  {
   "cell_type": "code",
   "execution_count": null,
   "metadata": {},
   "outputs": [],
   "source": [
    "#Get the new marker genes\n",
    "sc.tl.rank_genes_groups(adata, groupby='louvain_r0.5_entero_sub', key_added='rank_genes_r0.5_entero_sub')"
   ]
  },
  {
   "cell_type": "code",
   "execution_count": null,
   "metadata": {
    "scrolled": false
   },
   "outputs": [],
   "source": [
    "#Plot the new marker genes\n",
    "sc.pl.rank_genes_groups(adata, key='rank_genes_r0.5_entero_sub', groups=['Enterocyte,0','Enterocyte,1','Enterocyte,2'], fontsize=12)"
   ]
  },
  {
   "cell_type": "markdown",
   "metadata": {},
   "source": [
    "To visualize that the markers genes we detect are indeed more highly expressed in our cluster compared to background gene expression, we will now plot the last 10 marker genes (numbers 91-100) that we detect per cluster.\n",
    "\n",
    "We do this to check that there are indeed at least 100 valid marker genes for each cluster, and we don't just detect noise."
   ]
  },
  {
   "cell_type": "code",
   "execution_count": null,
   "metadata": {
    "scrolled": true
   },
   "outputs": [],
   "source": [
    "entero_clusts = [clust for clust in adata.obs['louvain_r0.5_entero_sub'].cat.categories if clust.startswith('Enterocyte')]\n",
    "\n",
    "for clust in entero_clusts:\n",
    "    sc.pl.rank_genes_groups_violin(adata, use_raw=True, key='rank_genes_r0.5_entero_sub', groups=[clust], gene_names=adata.uns['rank_genes_r0.5_entero_sub']['names'][clust][90:100])"
   ]
  },
  {
   "cell_type": "markdown",
   "metadata": {},
   "source": [
    "These genes appear up-regulated in our cluster. We will now test for overlap with known distal and proximal markers, and assess how strong the enterocyte markers are expressed in the subclusters."
   ]
  },
  {
   "cell_type": "code",
   "execution_count": null,
   "metadata": {},
   "outputs": [],
   "source": [
    "#Subset marker gene dictionary to only check for enterocyte markers\n",
    "marker_genes_entero = {k: marker_genes[k] for k in marker_genes if k.startswith('Enterocyte')}"
   ]
  },
  {
   "cell_type": "code",
   "execution_count": null,
   "metadata": {},
   "outputs": [],
   "source": [
    "#Find marker overlap\n",
    "sc.tl.marker_gene_overlap(adata, marker_genes_entero, key='rank_genes_r0.5_entero_sub', normalize='reference')"
   ]
  },
  {
   "cell_type": "code",
   "execution_count": null,
   "metadata": {},
   "outputs": [],
   "source": [
    "#Check enterocyte marker expression\n",
    "sc.pl.violin(adata[adata.obs['louvain_r0.5']=='Enterocyte'], groupby='louvain_r0.5_entero_sub', keys='Enterocyte_marker_expr')"
   ]
  },
  {
   "cell_type": "code",
   "execution_count": null,
   "metadata": {
    "scrolled": true
   },
   "outputs": [],
   "source": [
    "#Visualize some enterocyte markers\n",
    "entero_genes = ['Alpi', 'Apoa1', 'Apoa4', 'Fabp1', 'Arg2']\n",
    "sc.pl.umap(adata, color=entero_genes[:3], title=entero_genes[:3], color_map=mymap)\n",
    "sc.pl.umap(adata, color=entero_genes[3:], title=entero_genes[3:], color_map=mymap)"
   ]
  },
  {
   "cell_type": "code",
   "execution_count": null,
   "metadata": {},
   "outputs": [],
   "source": [
    "sc.pl.diffmap(adata, color='louvain_r0.5_entero_sub', components='3,7')"
   ]
  },
  {
   "cell_type": "markdown",
   "metadata": {},
   "source": [
    "Marker gene expression and overlap show that Enterocyte cluster 0 contains distal, and cluster 1 contains proximal enterocytes. Total enterocyte marker expression in the violin plot identifies clusters 0 and 1 as immature distal and immature proximal enterocytes respectively, while the 'Enterocyte,2' cluster contains mature enterocytes from both proximal and distal populations.\n",
    "\n",
    "Assuming that the diffusion map and Umap reprentations show a differentiation trajectory from stem cells to enterocytes, this provides further support for our labelling of immature and mature enterocyte populations."
   ]
  },
  {
   "cell_type": "code",
   "execution_count": null,
   "metadata": {},
   "outputs": [],
   "source": [
    "tmp = adata.obs['louvain_r0.5_entero_sub'].cat.categories\n",
    "\n",
    "tmp = ['Enterocyte imm. (Distal)' if item == 'Enterocyte,0' else item for item in tmp]\n",
    "tmp = ['Enterocyte imm. (Proximal)' if item == 'Enterocyte,1' else item for item in tmp]\n",
    "tmp = ['Enterocyte mature' if item == 'Enterocyte,2' else item for item in tmp]\n",
    "\n",
    "\n",
    "adata.rename_categories('louvain_r0.5_entero_sub', tmp)"
   ]
  },
  {
   "cell_type": "markdown",
   "metadata": {},
   "source": [
    "To see if we can separate mature enterocytes further into proximal and distal regions, we can iteratively subcluster."
   ]
  },
  {
   "cell_type": "code",
   "execution_count": null,
   "metadata": {},
   "outputs": [],
   "source": [
    "#Subcluster mature enterocytes\n",
    "sc.tl.louvain(adata, restrict_to=('louvain_r0.5_entero_sub', ['Enterocyte mature']), resolution=0.25, key_added='louvain_r0.5_entero_mat_sub')"
   ]
  },
  {
   "cell_type": "code",
   "execution_count": null,
   "metadata": {},
   "outputs": [],
   "source": [
    "#Show the new clustering\n",
    "if 'louvain_r0.5_entero_mat_sub_colors' in adata.uns:\n",
    "    del adata.uns['louvain_r0.5_entero_mat_sub_colors']\n",
    "\n",
    "sc.pl.umap(adata, color='louvain_r0.5_entero_mat_sub', palette=sc.pl.palettes.godsnot_64)"
   ]
  },
  {
   "cell_type": "code",
   "execution_count": null,
   "metadata": {},
   "outputs": [],
   "source": [
    "#Get the new marker genes\n",
    "sc.tl.rank_genes_groups(adata, groupby='louvain_r0.5_entero_mat_sub', key_added='rank_genes_r0.5_entero_mat_sub')"
   ]
  },
  {
   "cell_type": "code",
   "execution_count": null,
   "metadata": {},
   "outputs": [],
   "source": [
    "#Plot the new marker genes\n",
    "sc.pl.rank_genes_groups(adata, key='rank_genes_r0.5_entero_mat_sub', groups=['Enterocyte mature,0','Enterocyte mature,1'], fontsize=12)"
   ]
  },
  {
   "cell_type": "code",
   "execution_count": null,
   "metadata": {
    "scrolled": true
   },
   "outputs": [],
   "source": [
    "entero_mat_clusts = [clust for clust in adata.obs['louvain_r0.5_entero_mat_sub'].cat.categories if clust.startswith('Enterocyte mature')]\n",
    "\n",
    "for clust in entero_mat_clusts:\n",
    "    sc.pl.rank_genes_groups_violin(adata, use_raw=True, key='rank_genes_r0.5_entero_mat_sub', groups=[clust], gene_names=adata.uns['rank_genes_r0.5_entero_mat_sub']['names'][clust][90:100])"
   ]
  },
  {
   "cell_type": "code",
   "execution_count": null,
   "metadata": {},
   "outputs": [],
   "source": [
    "#Find marker overlap\n",
    "sc.tl.marker_gene_overlap(adata, marker_genes_entero, key='rank_genes_r0.5_entero_mat_sub', normalize='reference')"
   ]
  },
  {
   "cell_type": "markdown",
   "metadata": {},
   "source": [
    "This separation of mature enterocytes has worked to a certain extent based on marker gene overlap. 'Enterocyte mature,0' appear to be distal mature enterocytes and 'Enterocyte mature,1' appear to be more proximal mature enterocytes (although more mixed than the distal cluster)."
   ]
  },
  {
   "cell_type": "markdown",
   "metadata": {},
   "source": [
    "It gets increasingly difficult to evaluate separated distal and proximal enterocytes based on marker genes. It appears that mature enterocytes share more otherwise distal and proximal markers than immature or intermediate enterocytes. A further complication is that we have partially removed the differences in the proximal and distal enterocyte populations via batch correction. This explains why clustering is not separating enterocytes between proximal and distal populations as well."
   ]
  },
  {
   "cell_type": "code",
   "execution_count": null,
   "metadata": {},
   "outputs": [],
   "source": [
    "tmp = adata.obs['louvain_r0.5_entero_mat_sub'].cat.categories\n",
    "\n",
    "tmp = ['Enterocyte mat. (Distal)' if item == 'Enterocyte mature,0' else item for item in tmp]\n",
    "tmp = ['Enterocyte mat. (Proximal)' if item == 'Enterocyte mature,1' else item for item in tmp]\n",
    "\n",
    "adata.rename_categories('louvain_r0.5_entero_mat_sub', tmp)"
   ]
  },
  {
   "cell_type": "markdown",
   "metadata": {},
   "source": [
    "For simplicity we will rename our final clustering 'louvain_final'"
   ]
  },
  {
   "cell_type": "code",
   "execution_count": null,
   "metadata": {},
   "outputs": [],
   "source": [
    "adata.obs['louvain_final'] = adata.obs['louvain_r0.5_entero_mat_sub']"
   ]
  },
  {
   "cell_type": "code",
   "execution_count": null,
   "metadata": {
    "scrolled": false
   },
   "outputs": [],
   "source": [
    "sc.pl.umap(adata, color='louvain_final', palette=sc.pl.palettes.default_64, legend_loc='on data')"
   ]
  },
  {
   "cell_type": "code",
   "execution_count": null,
   "metadata": {
    "scrolled": false
   },
   "outputs": [],
   "source": [
    "adata.obs['louvain_final'].value_counts()"
   ]
  },
  {
   "cell_type": "markdown",
   "metadata": {},
   "source": [
    "<a id=\"Compositions\"></a>"
   ]
  },
  {
   "cell_type": "markdown",
   "metadata": {},
   "source": [
    "## 3.4 Compositional analysis"
   ]
  },
  {
   "cell_type": "markdown",
   "metadata": {},
   "source": [
    "While it is not straightforward to test whether cell-type compositions have change between conditions (see main paper), we can visualize shifts in cellular densities between conditions. Here we visualize the densities of distal and proximal intestinal cells.\n",
    "\n",
    "[Timing: 11.7s]"
   ]
  },
  {
   "cell_type": "code",
   "execution_count": null,
   "metadata": {},
   "outputs": [],
   "source": [
    "#Define a variable that stores proximal and distal labels\n",
    "adata.obs['prox_dist'] = ['Distal' if reg=='Il' else 'Proximal' for reg in adata.obs['region']]"
   ]
  },
  {
   "cell_type": "code",
   "execution_count": null,
   "metadata": {},
   "outputs": [],
   "source": [
    "sc.tl.embedding_density(adata, basis='umap', groupby='prox_dist')"
   ]
  },
  {
   "cell_type": "code",
   "execution_count": null,
   "metadata": {},
   "outputs": [],
   "source": [
    "adata.obs['prox_dist'].value_counts()\n",
    "sc.pl.embedding_density(adata, basis='umap', key='umap_density_prox_dist', group='Proximal')\n",
    "sc.pl.embedding_density(adata, basis='umap', key='umap_density_prox_dist', group='Distal')"
   ]
  },
  {
   "cell_type": "markdown",
   "metadata": {},
   "source": [
    "It appears that proximal intestinal cells have higher proportions of stem cells, enterocyte progenitors, and transit amplifying cells, while distal intestinal cells have high proportions of enterocytes and goblet cells. Although this analysis was not performed in the publication (Haber et al., Nature 2018), the latter observation is supported by the literature (Barker, van de Wetering, and Clevers, Genes & Development 2008). \n",
    "\n",
    "We should note that only relative proportions can be visually compared. The number of cells in each sample should not be taken into account as this is a parameter which is not indicative of absolute cell numbers in the intestinal epithelium, but rather related to the experimental design."
   ]
  },
  {
   "cell_type": "markdown",
   "metadata": {},
   "source": [
    "<a id=\"TI\"></a>"
   ]
  },
  {
   "cell_type": "markdown",
   "metadata": {},
   "source": [
    "## 3.5 Trajectory inference and pseudotime analysis"
   ]
  },
  {
   "cell_type": "markdown",
   "metadata": {},
   "source": [
    "As our data set contains differentiation processes, we can investigate the differentiation trajectories in the data. This analysis is centred around the concept of 'pseudotime'. In pseudotime analysis a latent variable is inferred based on which the cells are ordered. This latent variable is supposed to measure the differentiation state along a trajectory.\n",
    "\n",
    "Pseudotime analysis is complicated when there are multiple trajectories in the data. In this case, the trajectory structure in the data must first be found before pseudotime can be inferred along each trajectory. The analysis is then called 'trajectory inference'.\n",
    "\n",
    "Once the pseudotime variable is inferred, we can test for genes that vary continuously along pseudotime. These genes are seen as being associated with the trajectory, and may play a regulatory role in the potential differentiation trajectory that the analysis found."
   ]
  },
  {
   "cell_type": "markdown",
   "metadata": {},
   "source": [
    "Here, we measure the trajectory from stem cells to enterocytes, which was also studied in the Haber et al. paper. We also investigate which genes vary along pseudotime.\n",
    "\n",
    "Based on a recent comparison of pseudotime methods [Saelens et al., 2018], we have selected the top performing 'Slingshot', 'Monocle2', and 'Diffusion Pseudotime (DPT)'. Three methods were chosen as trajectory inference is a complex problem which is not yet solved. Different methods perform well on different types of trajectories. For example, 'Slingshot' was the top performer for simple bifurcating and multifurcating trajectories; 'Monocle2' performed best for complex tree structures, and 'DPT' performed well in bifurcating trajectories and was used in the Haber et al paper from which we took this dataset. As the complexity of trajectories are generally not known, it is adviseable to compare trajectory inference outputs.\n",
    "\n",
    "[Timing: 63min 42s; Timings for each method given in subsections]"
   ]
  },
  {
   "cell_type": "code",
   "execution_count": null,
   "metadata": {
    "scrolled": false
   },
   "outputs": [],
   "source": [
    "adata.obs['louvain_final'].value_counts()"
   ]
  },
  {
   "cell_type": "markdown",
   "metadata": {},
   "source": [
    "We first subset the data to include only Stem cells, Enterocyte Progenitor cells (EP), Transit Amplifying cells (TA), and the Enterocyte subclusters. After subsetting it is important to recalculate the dimensionality reduction methods such as PCA, and diffusion maps, as the variability of the subsetted data set will be projected onto different basis vectors.\n",
    "\n",
    "Note that we subset the data to include only HVGs. Trajectory inference, and especially measuring gene expression changes over pseudotime can be a computationally expensive process, thus we often work with reduced gene sets that are informative of the variance in the data, such as HVGs."
   ]
  },
  {
   "cell_type": "code",
   "execution_count": null,
   "metadata": {},
   "outputs": [],
   "source": [
    "#Subsetting to relevant clusters\n",
    "clusters_to_include = [g for g in adata.obs['louvain_final'].cat.categories if (g.startswith('Enterocyte') or g.startswith('TA') or g.startswith('Stem') or g.startswith('EP'))]\n",
    "adata_ent = adata[np.isin(adata.obs['louvain_final'], clusters_to_include),:].copy()\n",
    "\n",
    "#Subset to highly variable genes\n",
    "sc.pp.highly_variable_genes(adata_ent, flavor='cell_ranger', n_top_genes=4000, subset=True)"
   ]
  },
  {
   "cell_type": "markdown",
   "metadata": {},
   "source": [
    "As we have subsetted the data to include only cell types that we assume are of interest, we recalculate the dimension reduction algorithms on this data. This ensures that for example the first few PCs capture only the variance in this data and not variance in parts of the full data set we have filtered out."
   ]
  },
  {
   "cell_type": "code",
   "execution_count": null,
   "metadata": {
    "scrolled": false
   },
   "outputs": [],
   "source": [
    "#Recalculating PCA for subset\n",
    "sc.pp.pca(adata_ent, svd_solver='arpack')\n",
    "sc.pl.pca(adata_ent)\n",
    "sc.pl.pca_variance_ratio(adata_ent)"
   ]
  },
  {
   "cell_type": "markdown",
   "metadata": {},
   "source": [
    "Trajectory inference is often performed on PCA-reduced data, as is the case for Slingshot and Monocle2. To assess how many principal components (PCs) should be included in the low-dimensional representation we can use the 'elbow method'. This method involves looking for the 'elbow' in the plot of the variance ratio explained per PC. Above we can see the elbow at PC7. Thus the first seven PCs are included in the slingshot data."
   ]
  },
  {
   "cell_type": "code",
   "execution_count": null,
   "metadata": {},
   "outputs": [],
   "source": [
    "adata_ent.obsm['X_pca'] = adata_ent.obsm['X_pca'][:,0:7]"
   ]
  },
  {
   "cell_type": "markdown",
   "metadata": {},
   "source": [
    "<a id=\"Slingshot\"></a>"
   ]
  },
  {
   "cell_type": "markdown",
   "metadata": {},
   "source": [
    "### 3.5.1 Slingshot"
   ]
  },
  {
   "cell_type": "markdown",
   "metadata": {},
   "source": [
    "Slingshot is written in R. The integration of R in this notebook is again achieved via the rpy2 interface. We use a specifically developed package called `anndata2ri` (https://www.github.com/flying-sheep/anndata2ri), that takes care of the conversion from an AnnData object to SingleCellExperiment object in R. It should be noted that the convention for scRNA-seq data matrix storage in R is opposite to python. In R the expression matrix is stored as genes x cells rather than cells x genes. Thus, the matrix must be transposed before being input into the R function. This is already taken care of by `anndata2ri`.\n",
    "\n",
    "We are loading the normalized, log-transformed, and batch-corrected data as we want to minimize technical variation in the inferred trajectories.\n",
    "\n",
    "Implementation note:\n",
    "- this section closely follows the online Slingshot tutorial\n",
    "\n",
    "[Timing: 20min 11s out of 63min 42s]"
   ]
  },
  {
   "cell_type": "code",
   "execution_count": null,
   "metadata": {},
   "outputs": [],
   "source": [
    "%%R -i adata_ent\n",
    "\n",
    "#Plot 1\n",
    "colour_map = brewer.pal(20,'Set1')\n",
    "par(xpd=TRUE)\n",
    "par(mar=c(4.5,5.5,2,7))\n",
    "plot(reducedDims(adata_ent)$PCA[,1], reducedDims(adata_ent)$PCA[,2], col=colour_map[colData(adata_ent)$louvain_final], bty='L', xlab='PC1', ylab='PC2')\n",
    "legend(x=12, y=12, legend=unique(colData(adata_ent)$louvain_final), fill=colour_map[as.integer(unique(colData(adata_ent)$louvain_final))])\n",
    "\n",
    "print(\"1:\")\n",
    "adata_ent_start <- slingshot(adata_ent, clusterLabels = 'louvain_final', reducedDim = 'PCA', start.clus='Stem')\n",
    "print(SlingshotDataSet(adata_ent_start))\n",
    "\n",
    "print(\"\")\n",
    "print(\"2:\")\n",
    "adata_ent_startend <- slingshot(adata_ent, clusterLabels = 'louvain_final', reducedDim = 'PCA', start.clus='Stem', end.clus=c('Enterocyte mat. (Proximal)', 'Enterocyte mat. (Distal)'))\n",
    "print(SlingshotDataSet(adata_ent_startend))\n",
    "\n",
    "print(\"\")\n",
    "print(\"3:\")\n",
    "adata_ent_simple_startend <- slingshot(adata_ent, clusterLabels = 'louvain_r0.5', reducedDim = 'PCA', start.clus='Stem', end.clus='Enterocyte')\n",
    "print(SlingshotDataSet(adata_ent_simple_startend))"
   ]
  },
  {
   "cell_type": "markdown",
   "metadata": {},
   "source": [
    "Here we output three inferred sets of trajectories and a plot of how the data look on a two principal component representation. The plot shows that the differentiation from stem to enterocytes is broadly captured within the first two PCs. However, it is not clear whether proximal and distal enterocyte fates are separated.\n",
    "\n",
    "The inferred trajectories can be seen in the 'lineages:' output. In the first trajectory, no endpoints are fixed and only the 'Stem' cell compartment is fixed as a starting point; the second trajectory includes fixed mature proximal and distal enterocytes as endpoints; and the third trajectory is performed over the simpler clustering without enterocyte subtypes.\n",
    "\n",
    "The inferred trajectories show that when no endpoints are fixed, the detected lineage does not distinguish between proximal and distal enterocyte endpoints. It then looks similar to the inferred trajectory without enterocyte subgroups. Trajectory inference with fixed endpoints vastly improves the trajectory and only shows an overlap of immature proximal and distal enterocytes in the distal lineage. This can be easily explained when looking at the PCA plot. In the first two PCs immature proximal and distal enterocytes overlap fully.\n",
    "\n",
    "Furthermore, TA cells cannot be fit into the enterocyte differentiation trajectory in any method. A reason for this may be that the cell-cycle effect is affecting the trajectory inference algorithm. A cell-cycle correction algorithm such as scLVM or simply regressing out the cell cycle may remove this issue. Another possible explanation is that the TA cell cluster is more involved in differentiation towards other cell fates that we have filtered out.\n",
    "\n",
    "The above trajectories can be visualized with Slingshot custom visualization tools."
   ]
  },
  {
   "cell_type": "markdown",
   "metadata": {},
   "source": [
    "Implementation note:\n",
    "- In the next step we don't have to input `adata_ent`, `adata_ent_startend`, or `adata_ent_simple_startend`, as these are still available from the computation in code cell 79. In fact, as `adata_ent_startend` is not a SingleCellExperiment object, but a SlingshotObject, data will be lost when outputting this object back into python with `anndata2ri`."
   ]
  },
  {
   "cell_type": "code",
   "execution_count": null,
   "metadata": {
    "scrolled": false
   },
   "outputs": [],
   "source": [
    "%%R\n",
    "\n",
    "#Plot of lineage 1\n",
    "colors <- colorRampPalette(brewer.pal(11,'Spectral')[-6])(100)\n",
    "plot(reducedDims(adata_ent_startend)$PCA[,c(1,2)], col = colors[cut(adata_ent_startend$slingPseudotime_1,breaks=100)], pch=16, asp = 1, xlab='PC1', ylab='PC2')\n",
    "lines(slingCurves(adata_ent_startend)$curve1, lwd=2)\n",
    "\n",
    "#Plot of lineage 2\n",
    "colors <- colorRampPalette(brewer.pal(11,'Spectral')[-6])(100)\n",
    "plot(reducedDims(adata_ent_startend)$PCA[,c(1,2)], col = colors[cut(adata_ent_startend$slingPseudotime_2,breaks=100)], pch=16, asp = 1, xlab='PC1', ylab='PC2')\n",
    "lines(slingCurves(adata_ent_startend)$curve2, lwd=2)\n",
    "\n",
    "#Plot of lineages with clusters visualized\n",
    "par(xpd=TRUE)\n",
    "plot(reducedDims(adata_ent_startend)$PCA[,c(1,2)], col = brewer.pal(11,'Set1')[adata_ent$louvain_final], pch=16, asp = 1, bty='L', xlab='PC1', ylab='PC2')\n",
    "lines(SlingshotDataSet(adata_ent_startend), lwd=2, type='lineages')\n",
    "legend(x=10, y=20, legend=unique(colData(adata_ent)$louvain_final), fill=brewer.pal(11,'Set1')[as.integer(unique(colData(adata_ent)$louvain_final))])\n",
    "\n",
    "#Plot of simpler clustering\n",
    "plot(reducedDims(adata_ent_simple_startend)$PCA[,c(1,2)], col = colors[cut(adata_ent_simple_startend$slingPseudotime_1,breaks=100)], pch=16, asp = 1, xlab='PC1', ylab='PC2')\n",
    "lines(SlingshotDataSet(adata_ent_simple_startend), lwd=2)"
   ]
  },
  {
   "cell_type": "markdown",
   "metadata": {},
   "source": [
    "These plots show the lineages inferred by Slingshot. The first three plots show the lineages inferred when fixing start and end points, and the final plot shows the lineages on the clustering without enterocyte subclusters. The first, second, and fourth plots are coloured by the first pseudotime variable in the first or second lineages. As TA cells are not in these inferred lineages, TA cells are not shown in these plots. \n",
    "\n",
    "We can see that the immature enterocyte cluster centres overlap on the first two PCs which explains the difficulty of separating the two lineages. Furthermore, the placement of the 'EP (stress)' and 'TA' clusters in the second plot suggests that PC2 may have captured cell cycle variability, as these clusters show a stronger cell cycle signature than other clusters."
   ]
  },
  {
   "cell_type": "markdown",
   "metadata": {},
   "source": [
    "Note that the performance of Slingshot will rely on the clustering that was input. For example, while the expected trajectory from stem cells to enterocytes is found with coarse clustering, higher resolution subclusters that resolve proximal and distal enterocyte populations only partially render clearly separated proximal and distal enterocyte trajectories. This can have several reasons including batch over-correction removing the biological difference; a lack of resolution in precursor states that do not allow for higher resolution trajectories; or simply an insufficient difference in the transcriptome between proximal and distal enterocytes.\n",
    "\n",
    "Furthermore, as mentioned above cell cycle is informative for cluster identification, however it may interfere with trajectory analysis."
   ]
  },
  {
   "cell_type": "markdown",
   "metadata": {},
   "source": [
    "<a id=\"Slingshot_nbc\"></a>"
   ]
  },
  {
   "cell_type": "markdown",
   "metadata": {},
   "source": [
    "### 3.5.2 Non-batch-corrected slingshot"
   ]
  },
  {
   "cell_type": "markdown",
   "metadata": {},
   "source": [
    "To assess one of the possible methods to improve our trajectory inference, we perform Slingshot on non-batch corrected data. As mentioned earlier, our batch and biological covariates are overlapping. Thus, by correcting for batch in our data we are also regressing out some biological differences between proximal and distal enterocytes.\n",
    "\n",
    "To perform the analysis on non-batch-corrected data we must subset on the data stored in the .raw attribute in the AnnData object and then recalculate highly variable genes and redo dimensionality reduction.\n",
    "\n",
    "[Timing: 22min 58s out of 63min 42s]"
   ]
  },
  {
   "cell_type": "code",
   "execution_count": null,
   "metadata": {},
   "outputs": [],
   "source": [
    "#Subsetting data set - non-batch corrected\n",
    "cell_mask = np.isin(adata.obs['louvain_final'], clusters_to_include)\n",
    "adata_ent_nbc = sc.AnnData(X = adata.raw.X[cell_mask,:])\n",
    "adata_ent_nbc.obs = adata.obs[cell_mask]\n",
    "adata_ent_nbc.var = adata.var.copy()\n",
    "\n",
    "#Subset to highly variable genes\n",
    "sc.pp.highly_variable_genes(adata_ent_nbc, flavor='cell_ranger', n_top_genes=4000, subset=True)"
   ]
  },
  {
   "cell_type": "code",
   "execution_count": null,
   "metadata": {
    "scrolled": false
   },
   "outputs": [],
   "source": [
    "#Recalculating PCA for subset\n",
    "sc.pp.pca(adata_ent_nbc, svd_solver='arpack')\n",
    "sc.pl.pca(adata_ent_nbc)\n",
    "sc.pl.pca_variance_ratio(adata_ent_nbc)"
   ]
  },
  {
   "cell_type": "markdown",
   "metadata": {},
   "source": [
    "By the 'elbow method' seven PCs appear interesting in this data set."
   ]
  },
  {
   "cell_type": "code",
   "execution_count": null,
   "metadata": {},
   "outputs": [],
   "source": [
    "adata_ent_nbc.obsm['X_pca'] = adata_ent_nbc.obsm['X_pca'][:,0:7]"
   ]
  },
  {
   "cell_type": "code",
   "execution_count": null,
   "metadata": {
    "scrolled": false
   },
   "outputs": [],
   "source": [
    "%%R -i adata_ent_nbc\n",
    "\n",
    "#Plot 1\n",
    "colour_map = brewer.pal(20,'Set1')\n",
    "par(xpd=TRUE)\n",
    "par(mar=c(4.5,5.5,2,11))\n",
    "plot(reducedDims(adata_ent_nbc)$PCA[,1], reducedDims(adata_ent_nbc)$PCA[,2], col=colour_map[colData(adata_ent_nbc)$louvain_final], bty='L', xlab='PC1', ylab='PC2')\n",
    "legend(x=24.5, y=0, legend=unique(colData(adata_ent_nbc)$louvain_final), fill=colour_map[as.integer(unique(colData(adata_ent_nbc)$louvain_final))])\n",
    "\n",
    "#First trajectory: only Stem cells set as root cells\n",
    "print(\"1:\")\n",
    "adata_ent_start_nbc <- slingshot(adata_ent_nbc, clusterLabels = 'louvain_final', reducedDim = 'PCA', start.clus='Stem')\n",
    "print(SlingshotDataSet(adata_ent_start_nbc))\n",
    "\n",
    "#Second trajectory: Stem cells as root cells and mature enterocytes as end clusters\n",
    "print(\"\")\n",
    "print(\"2:\")\n",
    "adata_ent_startend_nbc <- slingshot(adata_ent_nbc, clusterLabels = 'louvain_final', reducedDim = 'PCA', start.clus='Stem', end.clus=c('Enterocyte mat. (Proximal)', 'Enterocyte mat. (Distal)'))\n",
    "print(SlingshotDataSet(adata_ent_startend_nbc))\n",
    "\n",
    "#Third trajectory: Stem cells as root cells and enterocytes as end cluster, non-subclustered data\n",
    "print(\"\")\n",
    "print(\"3:\")\n",
    "adata_ent_simple_startend_nbc <- slingshot(adata_ent_nbc, clusterLabels = 'louvain_r0.5', reducedDim = 'PCA', start.clus='Stem', end.clus='Enterocyte')\n",
    "print(SlingshotDataSet(adata_ent_simple_startend_nbc))"
   ]
  },
  {
   "cell_type": "markdown",
   "metadata": {},
   "source": [
    "Implementation note: \n",
    "- inputs `adata_ent_startend_nbc` and `adata_ent_simple_startend_nbc` are available from the computation in code cell [84]"
   ]
  },
  {
   "cell_type": "code",
   "execution_count": null,
   "metadata": {
    "scrolled": false
   },
   "outputs": [],
   "source": [
    "%%R\n",
    "\n",
    "colors <- colorRampPalette(brewer.pal(11,'Spectral')[-6])(100)\n",
    "\n",
    "#Plot of lineage 1\n",
    "plot(reducedDims(adata_ent_startend_nbc)$PCA[,c(1,2)], \n",
    "     col = colors[cut(adata_ent_startend_nbc$slingPseudotime_1,breaks=100)], \n",
    "     pch=16, asp = 1, xlab='PC1', ylab='PC2')\n",
    "lines(slingCurves(adata_ent_startend_nbc)$curve1, lwd=2)\n",
    "\n",
    "#Plot of lineage 2\n",
    "plot(reducedDims(adata_ent_startend_nbc)$PCA[,c(1,2)], \n",
    "     col = colors[cut(adata_ent_startend_nbc$slingPseudotime_2,breaks=100)], \n",
    "     pch=16, asp = 1, xlab='PC1', ylab='PC2')\n",
    "lines(slingCurves(adata_ent_startend_nbc)$curve2, lwd=2)\n",
    "\n",
    "#Combined plot\n",
    "plot(reducedDims(adata_ent_startend_nbc)$PCA[,c(1,2)], col = 'grey', \n",
    "     pch=16, asp = 1, size=0.8, xlab='PC1', ylab='PC2')\n",
    "points(reducedDims(adata_ent_startend_nbc)$PCA[,c(1,2)], \n",
    "       col = colors[cut(adata_ent_startend_nbc$slingPseudotime_1,breaks=100)], \n",
    "       pch=16, size=1)\n",
    "lines(slingCurves(adata_ent_startend_nbc)$curve1, lwd=2)\n",
    "lines(slingCurves(adata_ent_startend_nbc)$curve2, lwd=2)\n",
    "\n",
    "#Plot of lineages with clusters visualized\n",
    "par(xpd=TRUE)\n",
    "par(mar=c(4.5,5.5,4,1))\n",
    "plot(reducedDims(adata_ent_startend_nbc)$PCA[,c(1,2)], \n",
    "     col = brewer.pal(11,'Set1')[adata_ent_startend_nbc$louvain_final], \n",
    "     pch=16, asp = 1, bty='L', xlab='PC1', ylab='PC2')\n",
    "lines(SlingshotDataSet(adata_ent_startend_nbc), lwd=2, type='lineages')\n",
    "legend(x=6, y=20, legend=unique(colData(adata_ent_nbc)$louvain_final), fill=brewer.pal(11,'Set1')[as.integer(unique(colData(adata_ent_nbc)$louvain_final))])\n",
    "\n",
    "#Plot of simpler clustering\n",
    "plot(reducedDims(adata_ent_simple_startend_nbc)$PCA[,c(1,2)], \n",
    "     col = colors[cut(adata_ent_simple_startend_nbc$slingPseudotime_1,breaks=100)], \n",
    "     pch=16, asp = 1, xlab='PC1', ylab='PC2')\n",
    "lines(SlingshotDataSet(adata_ent_simple_startend_nbc), lwd=2)"
   ]
  },
  {
   "cell_type": "markdown",
   "metadata": {},
   "source": [
    "Using non-batch-corrected data the proximal and distal enterocyte lineages can nearly be separated as expected. The proximal immature enterocytes are still associated with both trajectories. This may be due to imperfect cluster annotation. Indeed, proximal immature enterocytes shows a strong overlap with distal markers as well. The immature proximal enterocyte cluster may contain also late enterocyte progenitors.\n",
    "\n",
    "While we do not see an improvement in the inferred trajectories over the batch-corrected data trajectories, we do see a clear separation between distal and proximal immature enterocytes in the PCA plot. As we will see in the 'Metastable states' section, batch-corrected data does result the expected trajectory there."
   ]
  },
  {
   "cell_type": "markdown",
   "metadata": {},
   "source": [
    "<a id=\"Monocle\"></a>"
   ]
  },
  {
   "cell_type": "markdown",
   "metadata": {
    "collapsed": true
   },
   "source": [
    "### 3.5.3 Monocle2"
   ]
  },
  {
   "cell_type": "markdown",
   "metadata": {},
   "source": [
    "The monocle toolbox is one of the most popular trajectory inference toolboxes in the field. It has been shown to perform particularly well on complex trajectories. Although we only have a simple bi- or multifurcating trajectory here we use Monocle2 to confirm the obtained trajectory.\n",
    "\n",
    "Monocle2 is not as much a standalone trajectory inference method, than a trajectory inference toolbox. This toolbox includes preprocessing steps and a dimensionality reduction function. It is designed in such a way that integrating preprocessed data into the data structure is non-trivial. This is likely by intent to not interfere with the optimized pipeline. Thus, we use Monocle2 on our data set from the raw data. Our cluster labels are later overlayed onto the Monocle2 output to compare the trajectory with expectations.\n",
    "\n",
    "Implementation note:\n",
    "- this section closely follows the monocle 2 tutorial\n",
    "\n",
    "[Timing: 20min 11s out of 63min 42s]"
   ]
  },
  {
   "cell_type": "code",
   "execution_count": null,
   "metadata": {},
   "outputs": [],
   "source": [
    "#Preprocessing for monocle\n",
    "data_mat_mon = adata.layers['counts'].T\n",
    "var_mon=adata.var.copy()\n",
    "obs_mon=adata.obs.copy()"
   ]
  },
  {
   "cell_type": "code",
   "execution_count": null,
   "metadata": {
    "scrolled": false
   },
   "outputs": [],
   "source": [
    "%%R -i data_mat_mon -i obs_mon -i var_mon\n",
    "gc()\n",
    "#Set up the CellDataSet data structure\n",
    "pd <- AnnotatedDataFrame(data = obs_mon)\n",
    "fd <- AnnotatedDataFrame(data = var_mon)\n",
    "colnames(data_mat_mon) <- rownames(pd)\n",
    "rownames(data_mat_mon) <- rownames(fd)\n",
    "ie_regions_cds <- newCellDataSet(cellData=data_mat_mon, phenoData=pd, featureData=fd, expressionFamily=negbinomial.size())\n",
    "\n",
    "#Normalize the count data\n",
    "ie_regions_cds <- estimateSizeFactors(ie_regions_cds)\n",
    "\n",
    "#Calculate dispersions to filter for highly variable genes\n",
    "ie_regions_cds <- estimateDispersions(ie_regions_cds)\n",
    "\n",
    "\n",
    "#Filter for Stem, EP, TA, and Enterocytes\n",
    "cell_types = as.character(pData(ie_regions_cds)$louvain_final)\n",
    "cell_mask = rep(FALSE, length(cell_types))\n",
    "cells_to_keep = c(\"Stem\", \"EP\", \"TA\", \"Enterocyte\")\n",
    "for (item in cells_to_keep) {cell_mask = cell_mask | startsWith(cell_types, item)}\n",
    "print(\"Number of cells after filtering:\")\n",
    "print(sum(cell_mask))\n",
    "print(\"\")\n",
    "\n",
    "#Filter highly variable genes from our analysis\n",
    "hvg_mask = fData(ie_regions_cds)$highly_variable\n",
    "ie_regions_cds <- ie_regions_cds[hvg_mask, cell_mask]\n",
    "\n",
    "#Do dimensionality reduction\n",
    "ie_regions_cds <- reduceDimension(ie_regions_cds, norm_method = 'vstExprs', reduction_method='DDRTree', verbose = F, max_components = 7)\n",
    "\n",
    "#Run for the first time to get the ordering\n",
    "ie_regions_cds <- orderCells(ie_regions_cds)\n",
    "\n",
    "#Find the correct root state the corresponds to the 'Stem' cluster\n",
    "tab1 <- table(pData(ie_regions_cds)$State, pData(ie_regions_cds)$louvain_final)\n",
    "id = which(colnames(tab1) == 'Stem')\n",
    "root_name = names(which.max(tab1[,id]))\n",
    "\n",
    "#Run a second time to get the correct root state that overlaps with Stem cells\n",
    "ie_regions_cds <- orderCells(ie_regions_cds, root_state=root_name)"
   ]
  },
  {
   "cell_type": "markdown",
   "metadata": {},
   "source": [
    "Implementation note: \n",
    "- input `ie_regions_cds` is available from the computation in code cell [87]"
   ]
  },
  {
   "cell_type": "code",
   "execution_count": null,
   "metadata": {},
   "outputs": [],
   "source": [
    "%%R -w 1000 -h 800\n",
    "\n",
    "#Get a nice colour map\n",
    "custom_colour_map = brewer.pal(length(unique(pData(ie_regions_cds)$louvain_final)),'Paired')\n",
    "\n",
    "#Find the correct root state that coresponds to the 'Stem' cluster\n",
    "tab1 <- table(pData(ie_regions_cds)$State, pData(ie_regions_cds)$louvain_final)\n",
    "id = which(colnames(tab1) == 'Stem')\n",
    "root_name = names(which.max(tab1[,id]))\n",
    "\n",
    "# Visualize with our cluster labels\n",
    "options(repr.plot.width=5, repr.plot.height=4)\n",
    "plot_complex_cell_trajectory(ie_regions_cds, color_by = 'louvain_final', show_branch_points = T, \n",
    "                             cell_size = 2, cell_link_size = 1, root_states = c(root_name)) +\n",
    "scale_size(range = c(0.2, 0.2)) +\n",
    "theme(legend.position=\"left\", legend.title=element_blank(), legend.text=element_text(size=rel(1.5))) +\n",
    "guides(colour = guide_legend(override.aes = list(size=6))) + \n",
    "scale_color_manual(values = custom_colour_map)"
   ]
  },
  {
   "cell_type": "markdown",
   "metadata": {},
   "source": [
    "Implementation note:\n",
    "- in the following cell input `ie_regions_cds` is available from the computation in code cell [87]"
   ]
  },
  {
   "cell_type": "code",
   "execution_count": null,
   "metadata": {},
   "outputs": [],
   "source": [
    "%%R -w 600 -h 800\n",
    "\n",
    "#Visualize pseudotime found\n",
    "options(repr.plot.width=5, repr.plot.height=4)\n",
    "plot_cell_trajectory(ie_regions_cds, color_by=\"Pseudotime\")"
   ]
  },
  {
   "cell_type": "markdown",
   "metadata": {},
   "source": [
    "Monocle2 finds a more complex branching compared to Slingshot. The trajectories off branching points 2 and 5 reflect the biology found by Slingshot best, and take up a lot of the pseudotime covariate. These trajectories loosely separate distal and proximal enterocyte trajectories, although mature enterocytes seem to be assigned more to the distal trajectory. This is a similar behavious to Slingshot without defined endpoints. Furthermore, 'TA' is separated into a different branch by branching point 2, as in Slingshot.\n",
    "\n",
    "The 'Stem', 'EP (early)', and 'EP (stress)' clusters have been separated into several branches. This separation may indicate that a heterogeneity in these clusters beyond the labels we have assigned. As we have filtered out several cell-types some of these branches may represent differentiation trajectories towards other mature cell fates. An alternative explanation for the detected lineage heterogeneity is that monocle has picked up on cell-cycle effects (especially noticeable in 'EP (early)' and 'EP (stress)' clusters), which it cannot reconcile with the acyclic tree structure it is fitting.\n",
    "\n",
    "Given that we have passed Monocle2 a comparatively simple trajectory inference problem, the observed performance is not unexpected. Monocle2 has been found to perform better on more complex topologies."
   ]
  },
  {
   "cell_type": "markdown",
   "metadata": {},
   "source": [
    "<a id=\"DPT\"></a>"
   ]
  },
  {
   "cell_type": "markdown",
   "metadata": {},
   "source": [
    "### 3.5.4 Diffusion Pseudotime (DPT)"
   ]
  },
  {
   "cell_type": "markdown",
   "metadata": {},
   "source": [
    "Finally, we include Diffusion Pseudotime in the analysis to further support the found trajectories. Diffusion pseudotime is integrated into scanpy and is therefore easy to use with the current setup.\n",
    "\n",
    "DPT is based on diffusion maps, thus a diffusion map representation must be calculated prior to pseudotime inference. This in turn is based on a KNN graph embedding obtained from `sc.pp.neighbors()`.\n",
    "\n",
    "[Timing: 3.05s out of 63min 42s]"
   ]
  },
  {
   "cell_type": "code",
   "execution_count": null,
   "metadata": {
    "scrolled": true
   },
   "outputs": [],
   "source": [
    "sc.pp.neighbors(adata_ent)\n",
    "sc.tl.diffmap(adata_ent)"
   ]
  },
  {
   "cell_type": "code",
   "execution_count": null,
   "metadata": {},
   "outputs": [],
   "source": [
    "sc.pl.diffmap(adata_ent, components='1,2', color='louvain_final')\n",
    "sc.pl.diffmap(adata_ent, components='1,3', color='louvain_final')"
   ]
  },
  {
   "cell_type": "markdown",
   "metadata": {},
   "source": [
    "Looking at the first three diffusion components (DCs) we can see that DC3 separates the proximal and distal enterocyte trajectories.\n",
    "\n",
    "In DPT we must assign a root cell to infer pseudotime. In the plots we can observe that the most appropriate root will be the Stem cell with the minimum DC1, or DC3 value, or the maximum DC2 value."
   ]
  },
  {
   "cell_type": "markdown",
   "metadata": {},
   "source": [
    "Note that 'DC3' is stored in `adata_ent.obsm['X_diffmap'][:,3]` as the 0-th column is the steady-state solution, which is non-informative in diffusion maps."
   ]
  },
  {
   "cell_type": "code",
   "execution_count": null,
   "metadata": {},
   "outputs": [],
   "source": [
    "#Find the stem cell with the highest DC3 value to act as root for the diffusion pseudotime and compute DPT\n",
    "stem_mask = np.isin(adata_ent.obs['louvain_final'], 'Stem')\n",
    "max_stem_id = np.argmin(adata_ent.obsm['X_diffmap'][stem_mask,3])\n",
    "root_id = np.arange(len(stem_mask))[stem_mask][max_stem_id]\n",
    "adata_ent.uns['iroot'] = root_id\n",
    "\n",
    "#Compute dpt\n",
    "sc.tl.dpt(adata_ent)"
   ]
  },
  {
   "cell_type": "code",
   "execution_count": null,
   "metadata": {},
   "outputs": [],
   "source": [
    "#Visualize pseudotime over differentiation\n",
    "sc.pl.diffmap(adata_ent, components='1,3', color='dpt_pseudotime')"
   ]
  },
  {
   "cell_type": "markdown",
   "metadata": {},
   "source": [
    "<a id=\"Gene_dynamics\"></a>"
   ]
  },
  {
   "cell_type": "markdown",
   "metadata": {},
   "source": [
    "## 3.6 Gene expression dynamics"
   ]
  },
  {
   "cell_type": "markdown",
   "metadata": {},
   "source": [
    "To find genes that describe the differentiation process, we can investigate how gene expression varies across pseudotime in different trajectories. Essentially, we smooth the pseudotime variable and the expression profile of each gene, and fit a curve to the data. In our case, a generalized additive model (gam) performs well.\n",
    "\n",
    "It should be noted that this calculation is the most computationally expensive part of the entire workflow by quite a distance. This process can take up to an hour on a single core depending on computational load. This is approximately half of the time of the entire script.\n",
    "\n",
    "[Timing: 40min 20s]"
   ]
  },
  {
   "cell_type": "markdown",
   "metadata": {},
   "source": [
    "Implementation note:\n",
    "- input `adata_ent_simple_startend` is available from the computation in code cell [79]"
   ]
  },
  {
   "cell_type": "code",
   "execution_count": null,
   "metadata": {
    "scrolled": false
   },
   "outputs": [],
   "source": [
    "%%R\n",
    "\n",
    "#Set the pseudotime variable\n",
    "t <- adata_ent_simple_startend$slingPseudotime_1\n",
    "\n",
    "#Extract the gene expression matrix\n",
    "Y <- assay(adata_ent_simple_startend)\n",
    "\n",
    "# fit a GAM with a loess term for pseudotime\n",
    "#Note: This takes a while\n",
    "gam.pval <- apply(Y,1,function(z){\n",
    "  d <- data.frame(z=z, t=t)\n",
    "  tmp <- gam(z ~ lo(t), data=d)\n",
    "  p <- summary(tmp)[4][[1]][1,5]\n",
    "  p\n",
    "})"
   ]
  },
  {
   "cell_type": "markdown",
   "metadata": {},
   "source": [
    "Implementation note:\n",
    "- inputs `adata_ent_simple_startend` and `gam.pval` are available from the computation in code cells [79] and [94] respectively"
   ]
  },
  {
   "cell_type": "code",
   "execution_count": null,
   "metadata": {
    "scrolled": false
   },
   "outputs": [],
   "source": [
    "%%R -w 600 -h 1200\n",
    "\n",
    "#Select the top 100 most significant genes that change over pseudotime\n",
    "topgenes <- names(sort(gam.pval, decreasing = FALSE))[1:100]\n",
    "heatdata <- assay(adata_ent_simple_startend)[rownames(assay(adata_ent_simple_startend)) %in% topgenes, \n",
    "                        order(t, na.last = NA)]\n",
    "\n",
    "#Scale the data per gene for visualization\n",
    "heatdata <- t(scale(t(heatdata)))\n",
    "\n",
    "#Trimm z-score scale\n",
    "heatdata[heatdata > 3] = 3\n",
    "heatdata[heatdata < -3] = -3\n",
    "\n",
    "#Get cluster assignment\n",
    "heatclus <- adata_ent_simple_startend$louvain_r0.5[order(t, na.last = NA)]\n",
    "\n",
    "#Set up a clusterExperiment data structure for heatmap visualization\n",
    "ce <- ClusterExperiment(heatdata, heatclus, transformation = function(x){x})\n",
    "\n",
    "#Plot the heatmap\n",
    "plotHeatmap(ce, clusterSamplesData = \"orderSamplesValue\", visualizeData = 'transformed', fontsize=15)"
   ]
  },
  {
   "cell_type": "markdown",
   "metadata": {},
   "source": [
    "The above plot shows nicely how the gene expression dynamics change over pseudotime. Further, we can also see that the clusters are not entirely separated over pseudotime (from the bar above the plot). This is especially visible between EP (early) and EP (stress), which is expected given the two clusters are both marked as enterocyte progenitors.\n",
    "\n",
    "In the visualization it should be noted that the absolute expression levels can no longer be compared between genes given the z-score scaling. However, we can see at which points genes are turned on along pseudotime."
   ]
  },
  {
   "cell_type": "markdown",
   "metadata": {},
   "source": [
    "To better interpret the above plot we look for overlaps between genes that change with pseudotime and known enterocyte marker genes."
   ]
  },
  {
   "cell_type": "code",
   "execution_count": null,
   "metadata": {},
   "outputs": [],
   "source": [
    "entero_markers = marker_genes['Enterocyte (Proximal)'] + marker_genes['Enterocyte (Distal)']"
   ]
  },
  {
   "cell_type": "markdown",
   "metadata": {},
   "source": [
    "Implementation note: \n",
    "- input `heatdata` is available from the computation in code cell [95]"
   ]
  },
  {
   "cell_type": "code",
   "execution_count": null,
   "metadata": {},
   "outputs": [],
   "source": [
    "%%R -i entero_markers\n",
    "print(rownames(heatdata)[rownames(heatdata) %in% entero_markers])"
   ]
  },
  {
   "cell_type": "markdown",
   "metadata": {},
   "source": [
    "The gene dynamics show the expected gradual up-regulation of enterocyte markers such as Lct, Mttp, etc. Early markers of enterocytes that are already identifiable in the enterocyte progenitor population can also be identified (Reg3b, Reg3g show elevated levels of expression earlier than other more mature enterocyte markers).\n",
    "\n",
    "The gene expression of ribosomal genes (Rps-genes) that characterize the stem cell populations (see also marker gene plots) is shown to decrease over pseudotime."
   ]
  },
  {
   "cell_type": "markdown",
   "metadata": {},
   "source": [
    "<a id=\"Metastable\"></a>"
   ]
  },
  {
   "cell_type": "markdown",
   "metadata": {},
   "source": [
    "## 3.7 Metastable States"
   ]
  },
  {
   "cell_type": "markdown",
   "metadata": {},
   "source": [
    "In order to detect metastable states across a trajectory we can plot a histogram of the pseudotime variable for one lineage. Here, we plot the density across a non-batch-corrected Slingshot lineage where start and end states were defined. We colour the histogram by the most common cell-type cluster in each pseudotime bin. This shows us which clusters are dominant states along the trajectory.\n",
    "\n",
    "[Timing: 1.01s]"
   ]
  },
  {
   "cell_type": "markdown",
   "metadata": {},
   "source": [
    "Implementation note:\n",
    "- input `adata_ent_startend_nbc` is available from the computation in code cell [84]"
   ]
  },
  {
   "cell_type": "code",
   "execution_count": null,
   "metadata": {
    "scrolled": false
   },
   "outputs": [],
   "source": [
    "%%R\n",
    "\n",
    "pt1 <- adata_ent_startend_nbc$slingPseudotime_1\n",
    "clustDat <- adata_ent_startend_nbc$louvain_final\n",
    "\n",
    "#Subset data to only include cells on lineage 1\n",
    "clustDat <- clustDat[!is.na(pt1)]\n",
    "pt1 <- pt1[!is.na(pt1)]\n",
    "df = data.frame(clusters = clustDat, pt = pt1)\n",
    "\n",
    "#Bin clusters in same way as pseudotime:\n",
    "bin_width = 0.5\n",
    "max_bin = ceiling(max(df$pt)*2)/2\n",
    "df['bins'] = cut(df$pt, breaks=seq(-bin_width/2, max_bin, bin_width))\n",
    "\n",
    "#Find dominant cluster in each bin\n",
    "Mode <- function(x) {\n",
    "  ux <- unique(x)\n",
    "  ux[which.max(tabulate(match(x, ux)))]\n",
    "}\n",
    "\n",
    "dominant_clusters = sapply(levels(df$bins), function(x){Mode(df$clust[df$bins==x])})\n",
    "levels(dominant_clusters) <- c(levels(dominant_clusters), 'None')\n",
    "dominant_clusters[is.na(dominant_clusters)] <- 'None'\n",
    "\n",
    "#Define colour map\n",
    "cmap <- brewer.pal(11,'Set1')\n",
    "\n",
    "#Plot meta-stable states\n",
    "p <- qplot(adata_ent_startend_nbc$slingPseudotime_1, geom='histogram', main='Cellular density over trajectory', xlab='Pseudotime', binwidth=bin_width, fill=I(cmap[dominant_clusters])) +\n",
    "theme_bw() +\n",
    "scale_colour_manual(name=\"Cluster\", values=c('EP (Distal)'=cmap[levels(dominant_clusters)[1]], 'EP (early)'=cmap[levels(dominant_clusters)[2]], EP_early=\"purple\"))\n",
    "print(p)\n",
    "\n",
    "#Plot of lineages with clusters visualized\n",
    "par(xpd=TRUE)\n",
    "par(mar=c(4.5,5.5,2,1))\n",
    "plot(reducedDims(adata_ent_startend_nbc)$PCA[,c(1,2)], col = brewer.pal(11,'Set1')[adata_ent$louvain_final], pch=16, asp = 1, bty='L', xlab='PC1', ylab='PC2')\n",
    "lines(SlingshotDataSet(adata_ent_startend_nbc), lwd=2, type='lineages')\n",
    "legend(x=10, y=20, legend=unique(colData(adata_ent)$louvain_final), fill=cmap[as.integer(unique(colData(adata_ent)$louvain_final))])"
   ]
  },
  {
   "cell_type": "markdown",
   "metadata": {},
   "source": [
    "The metastable states plot shows two to four density peaks along pseudotime. The first peak is at pseudotime 0. As stem cells are a regenerating population, it makes sense that these represent a stable state at the beginning of the trajectory. The next metastable states are at the transition to the first EP state, and at the immature enterocyte state. Finally we see a stable state represented by mature distal enterocytes.\n",
    "\n",
    "It should be noted that although the proximal immature enterocyte cluster was integrated into the inferred distal enterocyte trajectory (see PCA plot), only in two shallow bins in the trajectory are most cells from the proximal immature enterocyte cluster. This indicates that the inferred trajectory likely only goes through few proximal immature enterocyte cells due to an imperfect clustering. This imperfect clustering can further be seen in the starting state being labelled as 'EP (early)'. This is likely due to an overlap of stem cells and early enterocyte progenitors in the 'EP (early)' cluster."
   ]
  },
  {
   "cell_type": "markdown",
   "metadata": {},
   "source": [
    "Update note:\n",
    "\n",
    "In previous version of this notebook, due to a slightly altered clustering, no immature proximal enterocyte bins were in this plot at all. Furthermore, there was an additional metastable state as the 'EP (stress)' cluster was also included in the trajectory. In this version, due to the stochasticity in the clustering results, it is not."
   ]
  },
  {
   "cell_type": "markdown",
   "metadata": {},
   "source": [
    "<a id=\"PAGA\"></a>"
   ]
  },
  {
   "cell_type": "markdown",
   "metadata": {},
   "source": [
    "## 3.8 Partition-based graph abstraction"
   ]
  },
  {
   "cell_type": "markdown",
   "metadata": {},
   "source": [
    "Partition-based graph abstraction (PAGA) is a method to reconcile clustering and pseudotemporal ordering. It can be applied to an entire dataset and does not assume that there are continuous trajectories connecting all clusters.\n",
    "\n",
    "As PAGA is integrated into scanpy, we can easily run it on the entire data set. Here we run and visualize PAGA with different clustering inputs.\n",
    "\n",
    "[Timing: 1min 50s]"
   ]
  },
  {
   "cell_type": "code",
   "execution_count": null,
   "metadata": {},
   "outputs": [],
   "source": [
    "sc.tl.paga(adata, groups='louvain_final')\n",
    "sc.pl.paga_compare(adata)\n",
    "sc.pl.paga(adata)"
   ]
  },
  {
   "cell_type": "markdown",
   "metadata": {},
   "source": [
    "The close connectivity of enterocyte subclusters shows the similarity of these cells, or may show imperfections in the cluster definitions of immature vs mature and proximal vs distal enterocytes. We could already see overlaps in the marker gene identification. This is particularly the case for the immature proximal enterocyte cluster, which has links to all distal and proximal enterocyte and EP states. This cell-type cluster showed a strong overlap with distal markers as well as proximal markers."
   ]
  },
  {
   "cell_type": "markdown",
   "metadata": {},
   "source": [
    "In the plot we see stronger links between mature enterocyte subclusters and between distal and proximal subclusters respectively. We can interpret this as transcriptional similarity within distal and proximal lineages, and within enterocyte maturation states. This result shows that not all connections in PAGA represent differentiation trajectories, but instead transcriptional similarity between states. Thus, further experiments are required to confirm potential lineage trajectories obtained via PAGA or other trajectory inference methods.\n",
    "\n",
    "To continue, we treat enterocytes as a single cluster."
   ]
  },
  {
   "cell_type": "code",
   "execution_count": null,
   "metadata": {
    "scrolled": false
   },
   "outputs": [],
   "source": [
    "sc.tl.paga(adata, groups='louvain_r0.5')\n",
    "sc.pl.paga_compare(adata)\n",
    "sc.pl.paga(adata)"
   ]
  },
  {
   "cell_type": "markdown",
   "metadata": {},
   "source": [
    "We can do the same visualization on a umap layout."
   ]
  },
  {
   "cell_type": "code",
   "execution_count": null,
   "metadata": {},
   "outputs": [],
   "source": [
    "sc.pl.paga_compare(adata, basis='umap')"
   ]
  },
  {
   "cell_type": "code",
   "execution_count": null,
   "metadata": {
    "scrolled": false
   },
   "outputs": [],
   "source": [
    "fig1, ax1 = plt.subplots()\n",
    "sc.pl.umap(adata, size=40, ax=ax1, show=False)\n",
    "sc.pl.paga(adata, pos=adata.uns['paga']['pos'], show=False, node_size_scale=10, node_size_power=1, ax=ax1, text_kwds={'alpha':0})\n",
    "#plt.savefig('./figures/umap_paga_overlay_gut.pdf', dpi=300, format='pdf')\n",
    "plt.show()"
   ]
  },
  {
   "cell_type": "markdown",
   "metadata": {},
   "source": [
    "Implementation note:\n",
    "- Note that the above plotting function only works when `sc.pl.paga_compare(adata, basis='umap')` is run before. The `sc.pl.paga_compare()` function stores the correct positions in `adata.uns['paga']['pos']` to overlay the PAGA plot with a umap representation. To overlap PAGA with other representation, you can run `sc.pl.paga_compare()` with other `basis` parameters before plotting the combined plot."
   ]
  },
  {
   "cell_type": "markdown",
   "metadata": {},
   "source": [
    "Using the simpler clustering, the PAGA plot shows the expected transition between stem cells to enterocytes that traverses the EP and/or TA cells. Interestingly TA cells are also included meaningfully in this trajectory, although not as expected directly from Stem cells. This is likely because the 'EP (early)' cluster includes stem cells as well as early enterocyte progenitors. Indeed, the connectivities of the 'TA', 'EP (early)' and 'Stem' clusters with other clusters in the dataset indicate that these may all contain stem cells. \n",
    "\n",
    "Furthermore, regressing out the cell cycle effect will likely change how 'TA' cells are included in the trajectory. In this manner trajectory inference and graph abstraction can be iteratively improved."
   ]
  },
  {
   "cell_type": "markdown",
   "metadata": {},
   "source": [
    "A noteworthy result is the separation of absorptative (enterocyte) and secretory (tuft, paneth, enteroendocrine, and goblet) lineages in the intestine. Further iterative improvement can be applied to the secretory lineage region of the graph. For example. the UMAP representation shows a transition between paneth and stem cells which we expect to occur in the data. Paneth cells have more counts per cell than stem cells which can complicate the trajectory inference.\n",
    "\n",
    "We show here how we can improve the inference results by regressing out counts and using non-batch corrected data."
   ]
  },
  {
   "cell_type": "code",
   "execution_count": null,
   "metadata": {},
   "outputs": [],
   "source": [
    "#Create new Anndata object with non-batch corrected data\n",
    "adata_test = adata.copy()\n",
    "adata_test.X = adata.raw.X"
   ]
  },
  {
   "cell_type": "code",
   "execution_count": null,
   "metadata": {},
   "outputs": [],
   "source": [
    "#Regress out counts and redo pre-processing\n",
    "sc.pp.regress_out(adata_test, 'n_counts')\n",
    "sc.pp.pca(adata_test, use_highly_variable=True, svd_solver='arpack')\n",
    "sc.pp.neighbors(adata_test)"
   ]
  },
  {
   "cell_type": "code",
   "execution_count": null,
   "metadata": {},
   "outputs": [],
   "source": [
    "#Recalculate PAGA\n",
    "sc.tl.paga(adata_test, groups='louvain_r0.5')\n",
    "sc.pl.paga_compare(adata_test, basis='umap')\n",
    "sc.pl.paga(adata_test)"
   ]
  },
  {
   "cell_type": "markdown",
   "metadata": {},
   "source": [
    "In the above representation the connection between stem cells and paneth cells has become more evident (thicker line). This is also true for the Goblet, enteroendocrine, and tuft cell connections. These cell clusters appear to share a progenitor cell population as suggested by the UMAP representation."
   ]
  },
  {
   "cell_type": "markdown",
   "metadata": {},
   "source": [
    "As evident by the above results, trajectory inference and PAGA can be iteratively improved to better represent the biology. Knowing when to stop attempting to improve, or assessing when all of the relevant technical covariates have been taken into account can only be achieved with sufficient knowledge of the biological system, experience, and possibly some luck.\n",
    "\n",
    "It should also be noted that while an abstracted graph or an inferred trajectory can help to infer a lineage tree, experimental validation is necessary. Key driving forces in lineage specification might be lowly expressed genes and therefore neglected in the graph or even excluded in the HVG filtering."
   ]
  },
  {
   "cell_type": "markdown",
   "metadata": {},
   "source": [
    "<a id=\"Gene-level\"></a>"
   ]
  },
  {
   "cell_type": "markdown",
   "metadata": {},
   "source": [
    "## 3.9 Gene-level analysis"
   ]
  },
  {
   "cell_type": "markdown",
   "metadata": {},
   "source": [
    "<a id=\"Diff_expr\"></a>"
   ]
  },
  {
   "cell_type": "markdown",
   "metadata": {},
   "source": [
    "### 3.9.1 Differential testing"
   ]
  },
  {
   "cell_type": "markdown",
   "metadata": {},
   "source": [
    "In this section we will test which genes are differentially expressed between regions in the intestinal epithelium. Given the distinction between the proximal and distal regions, we will use the same separation of conditions here. Alternatively one could also test for the difference between the Jejunum and the Ileum versus the duodenum, or test any region pairs."
   ]
  },
  {
   "cell_type": "markdown",
   "metadata": {},
   "source": [
    "We perform differential testing using the MAST package. MAST compared favourably to other methods for scRNA-seq differential expression testing and is a commonly used tool in scRNA-seq analysis.\n",
    "\n",
    "As MAST is only available in R, we again convert our AnnData object into an R object via `anndata2ri`. As opposed to Slingshot, MAST however requires its own data input format instead of the `SingleCellExperiment` object produced by the `anndata2ri` conversion. To run MAST we thus first put the data into the SingleCellExperiment format. We then convert the SCE object into MAST's expected SingleCellAssay (sca) object. \n",
    "\n",
    "Differential expression between conditions is typically performed within cell identity clusters in the single-cell setting. Thus, we subset the full data set into cluster-specific data sets. These cluster subsets are filtered to only include genes that are expressed in the data to reduce the multiple testing burden. Finally we define the model we are testing, run the test, and postprocess the results.\n",
    "\n",
    "[Timing: 8min 4s]"
   ]
  },
  {
   "cell_type": "markdown",
   "metadata": {},
   "source": [
    "Implementation note:\n",
    "- this section is built according to the MAST tutorial"
   ]
  },
  {
   "cell_type": "code",
   "execution_count": null,
   "metadata": {},
   "outputs": [],
   "source": [
    "#Create new Anndata object for use in MAST with non-batch corrected data as before\n",
    "adata_test = adata.copy()\n",
    "adata_test.X = adata.raw.X\n",
    "adata_test.obs['n_genes'] = (adata_test.X > 0).sum(1) # recompute number of genes expressed per cell"
   ]
  },
  {
   "cell_type": "code",
   "execution_count": null,
   "metadata": {
    "scrolled": true
   },
   "outputs": [],
   "source": [
    "%%R -i adata_test -o ent_de -o paneth_de\n",
    "\n",
    "#Convert SingleCellExperiment to SingleCellAssay type as required by MAST\n",
    "sca <- SceToSingleCellAssay(adata_test, class = \"SingleCellAssay\")\n",
    "\n",
    "#Scale Gene detection rate\n",
    "colData(sca)$n_genes = scale(colData(sca)$n_genes)\n",
    "\n",
    "#Create data subsets for paneth and Enterocyte subpopulations\n",
    "sca_ent <- subset(sca, with(colData(sca), louvain_r0.5=='Enterocyte'))\n",
    "sca_paneth <- subset(sca, with(colData(sca), louvain_r0.5=='Paneth'))\n",
    "\n",
    "\n",
    "#Filter out non-expressed genes in the subsets\n",
    "print(\"Dimensions before subsetting:\")\n",
    "print(dim(sca_ent))\n",
    "print(dim(sca_paneth))\n",
    "print(\"\")\n",
    "\n",
    "sca_ent_filt = sca_ent[rowSums(assay(sca_ent)) != 0, ]\n",
    "sca_paneth_filt = sca_paneth[rowSums(assay(sca_paneth)) != 0, ]\n",
    "\n",
    "print(\"Dimensions after subsetting:\")\n",
    "print(dim(sca_ent_filt))\n",
    "print(dim(sca_paneth_filt))\n",
    "\n",
    "\n",
    "#Define & run hurdle model - Enterocytes\n",
    "zlmCond_ent <- zlm(formula = ~prox_dist + donor + n_genes, sca=sca_ent_filt)\n",
    "summaryCond_ent <- summary(zlmCond_ent, doLRT='prox_distProximal')\n",
    "summaryDt_ent <- summaryCond_ent$datatable\n",
    "\n",
    "result_ent <- merge(summaryDt_ent[contrast=='prox_distProximal' & component=='H',.(primerid, `Pr(>Chisq)`)], #P-vals\n",
    "                 summaryDt_ent[contrast=='prox_distProximal' & component=='logFC', .(primerid, coef)],\n",
    "                 by='primerid') #logFC coefficients\n",
    "\n",
    "#Correct for multiple testing (FDR correction) and filtering\n",
    "result_ent[,FDR:=p.adjust(`Pr(>Chisq)`, 'fdr')]\n",
    "ent_de = result_ent[result_ent$FDR<0.01,, drop=F]\n",
    "ent_de = ent_de[order(ent_de$FDR),]\n",
    "\n",
    "\n",
    "#Define & run hurdle model - paneth cells\n",
    "zlmCond_paneth <- zlm(formula = ~prox_dist + donor + n_genes, sca=sca_paneth_filt)\n",
    "summaryCond_paneth <- summary(zlmCond_paneth, doLRT='prox_distProximal')\n",
    "summaryDt_paneth <- summaryCond_paneth$datatable\n",
    "\n",
    "result_paneth <- merge(summaryDt_paneth[contrast=='prox_distProximal' & component=='H',.(primerid, `Pr(>Chisq)`)], #P-vals\n",
    "                 summaryDt_paneth[contrast=='prox_distProximal' & component=='logFC', .(primerid, coef)],\n",
    "                 by='primerid') #logFC coefficients\n",
    "\n",
    "#Correct for multiple testing (FDR correction) and filtering\n",
    "result_paneth[,FDR:=p.adjust(`Pr(>Chisq)`, 'fdr')]\n",
    "paneth_de = result_paneth[result_paneth$FDR<0.01,, drop=F]\n",
    "paneth_de = paneth_de[order(paneth_de$FDR),]"
   ]
  },
  {
   "cell_type": "markdown",
   "metadata": {},
   "source": [
    "MAST implementation details:\n",
    "\n",
    "Here, we test for proximal vs distal effects in paneth cells and enterocytes.\n",
    "\n",
    "In the model (specified and fit with the `zlm()` function), we include the test covariate (proximal vs distal), the donor mouse (M1 or M2), and the number of genes in the cells. The donor mouse covariate is included to account for mouse-specific effects that may confound our results. We can do this here as we have both proximal and distal samples from each mouse, and thus the mouse and test covariate are not confounded. The number of genes is added to fit the technical variability.\n",
    "\n",
    "To test for differences over the `prox_dist` covariate we perform a likelihood ratio test (in the `summary()` function call after fitting the model). To adapt this to your own data, you must figure out what MAST called the one-hot encoded condition variable. It is often the condition variable name, followed by the second category name as in `prox_distProximal`.\n",
    "\n",
    "In post-processing we correct for multiple testing using a Benjamini-Hochberg FDR correction (function `p.adjust()`) and map the Ensembl Gene IDs to gene symbols which are easier to read and interpret."
   ]
  },
  {
   "cell_type": "code",
   "execution_count": null,
   "metadata": {
    "scrolled": true
   },
   "outputs": [],
   "source": [
    "#Show top 20 differentially expressed genes for enterocytes (up- and down-regulated)\n",
    "print(ent_de.shape)\n",
    "ent_de[:20]"
   ]
  },
  {
   "cell_type": "markdown",
   "metadata": {},
   "source": [
    "Here, we use our own code to make a volcano plot of the differential expression data. Please note that you will need to adapt which labels should be moved up or down when applying this code to your own data."
   ]
  },
  {
   "cell_type": "code",
   "execution_count": null,
   "metadata": {
    "scrolled": false
   },
   "outputs": [],
   "source": [
    "#Volcano plot of results\n",
    "ent_de['-logQ'] = -np.log(ent_de['FDR'])\n",
    "lowqval_de = ent_de.loc[ent_de['-logQ'] > 200]\n",
    "other_de = ent_de.loc[ent_de['-logQ'] < 200]\n",
    "\n",
    "fig, ax = plt.subplots()\n",
    "sb.regplot(other_de['coef'], other_de['-logQ'], fit_reg=False, scatter_kws={'s':6})\n",
    "sb.regplot(lowqval_de['coef'], lowqval_de['-logQ'], fit_reg=False, scatter_kws={'s':6})\n",
    "ax.set_xlabel(\"log2 FC\", fontsize=20)\n",
    "ax.set_ylabel(\"-log Q-value\", fontsize=20)\n",
    "ax.tick_params(labelsize=15)\n",
    "\n",
    "# Label names and positions\n",
    "x = [i-0.2 for i in lowqval_de['coef']]\n",
    "y = [i+10 for i in lowqval_de['-logQ']]\n",
    "labels = lowqval_de['primerid']\n",
    "\n",
    "# Show only some labels to avoid overcrowding the figure\n",
    "to_remove = np.where([i < 230 for i in y])[0]\n",
    "labels = [\"\" if i in to_remove else lab for i,lab in enumerate(labels) ]\n",
    "\n",
    "#Move up two labels\n",
    "y = [y[i]+10 if txt == 'Krt8' else y[i] for i,txt in enumerate(labels)]\n",
    "y = [y[i]+20 if txt == 'Cd9' else y[i] for i,txt in enumerate(labels)]\n",
    "\n",
    "#Move down one label\n",
    "y = [y[i]-20 if txt == 'Phgr1' else y[i] for i,txt in enumerate(labels)]\n",
    "\n",
    "for i,txt in enumerate(labels):\n",
    "    ax.annotate(txt, (x[i], y[i]))\n",
    "plt.show()"
   ]
  },
  {
   "cell_type": "markdown",
   "metadata": {},
   "source": [
    "We find strongly differentially expressed genes in enterocytes of the distal and proximal intestinal epithelium. We can use this data to potentially find new markers for proximal or distal enterocytes in a wild-type data set. Here, we confirm our restults are correct based on the known markers from the Haber et al., 2018 paper."
   ]
  },
  {
   "cell_type": "code",
   "execution_count": null,
   "metadata": {},
   "outputs": [],
   "source": [
    "#See overlaps with markers expected for proximal and distal enterocytes\n",
    "prox_de_set = set(ent_de['primerid'][ent_de['coef'] > 0])\n",
    "dist_de_set = set(ent_de['primerid'][ent_de['coef'] < 0])\n",
    "print(\"Fraction of proximal enterocyte markers in up-regulated proximal DE genes: {}\".format(len(prox_de_set.intersection(marker_genes['Enterocyte (Proximal)']))/len(marker_genes['Enterocyte (Proximal)'])))\n",
    "print(\"Fraction of distal enterocyte markers in up-regulated proximal DE genes: {}\".format(len(prox_de_set.intersection(marker_genes['Enterocyte (Distal)']))/len(marker_genes['Enterocyte (Distal)'])))\n",
    "\n",
    "print()\n",
    "print(\"Fraction of proximal enterocyte markers in up-regulated distal DE genes: {}\".format(len(dist_de_set.intersection(marker_genes['Enterocyte (Proximal)']))/len(marker_genes['Enterocyte (Proximal)'])))\n",
    "print(\"Fraction of distal enterocyte markers in up-regulated distal DE genes: {}\".format(len(dist_de_set.intersection(marker_genes['Enterocyte (Distal)']))/len(marker_genes['Enterocyte (Distal)'])))"
   ]
  },
  {
   "cell_type": "markdown",
   "metadata": {},
   "source": [
    "<a id=\"Gene_set\"></a>"
   ]
  },
  {
   "cell_type": "markdown",
   "metadata": {},
   "source": [
    "### 3.9.2 Gene set analysis"
   ]
  },
  {
   "cell_type": "markdown",
   "metadata": {},
   "source": [
    "For the paneth data set we have no literature-derived markers that distinguish distal and proximal regions. Thus, we show a typical analysis approach to understand differential expression signals: functional enrichment. Specifically, we are looking for Gene Ontology Biological Process annotations that are enriched in the set of differentially expressed genes between proximal and distal paneth cells.\n",
    "\n",
    "This analysis is performed with g:profiler, or specifically with Valentine Svensson's python API for the g:profiler webtool. It should be noted that g:profiler's python API is currently being redesigned and thus the old python API (used here) is no longer supported and updated. To use the newest GO data, please check with the g:profiler team.\n",
    "\n",
    "[Timing: 7.35s with g:profiler query taken from cache]"
   ]
  },
  {
   "cell_type": "code",
   "execution_count": null,
   "metadata": {},
   "outputs": [],
   "source": [
    "#Interpretation of differentially expressed genes in paneth cells - g:profiler\n",
    "gp = GProfiler(return_dataframe=True, user_agent='g:GOSt')\n",
    "\n",
    "paneth_enrichment = gp.profile(organism='mmusculus', sources=['GO:BP'], user_threshold=0.05,\n",
    "                               significance_threshold_method='fdr', \n",
    "                               background=adata.var_names.tolist(), \n",
    "                               query=paneth_de['primerid'].tolist())"
   ]
  },
  {
   "cell_type": "code",
   "execution_count": null,
   "metadata": {},
   "outputs": [],
   "source": [
    "#paneth_enrich_results = paneth_enrichment.sort_values('p.value').iloc[:,[2,3,5,6,11]]\n",
    "paneth_enrich_results = paneth_enrichment.set_index('native').sort_values('p_value').iloc[:,[2,5,7,10,1]]"
   ]
  },
  {
   "cell_type": "code",
   "execution_count": null,
   "metadata": {
    "scrolled": true
   },
   "outputs": [],
   "source": [
    "pd.set_option(\"display.max_colwidth\", 800)\n",
    "paneth_enrich_results.iloc[:50,:]"
   ]
  },
  {
   "cell_type": "markdown",
   "metadata": {},
   "source": [
    "Here we find differential expression of immune response GO terms enriched between proximal and distal paneth cells (eg. \"defense response to bacterium\", \"antimicrobial humoral response\", or \"defense response to other organism\"). As paneth cells are involved in innate immune response, these findings are consistent with prior knowledge. Differences between the proximal and distal regions are likely to be found within representative functions of the cell type.\n",
    "\n",
    "It is common to do this analysis with only up- or down-regulated genes depending on which biological hypotheses are investigated. By performing GO term enrichment on the up- and down-regulated genes together we find annotations of biological processes that are differentially expressed between proximal and distal paneth cells, but we cannot say whether one of the two regions particularly up-regulates the genes in a process or down-regulates them. This can only be addressed by separating genes based on log fold change.\n",
    "\n",
    "It should be noted that relative over- or under-expression of genes does not have to map to up- or down-regulation of a biological process. For example, relatively lower expression levels of a pathway inhibitor, will result in an up-regulation of the activity of this pathway, while the opposite is true for low expression of a promoter. Thus, a more detailed investigation is generally necessary to conclude the direction of regulation of a process between conditions."
   ]
  },
  {
   "cell_type": "markdown",
   "metadata": {},
   "source": [
    "We can display the above results in a more appealing way using a dotplot. This plotting scheme is similar to the one in the clusterProfiler R package."
   ]
  },
  {
   "cell_type": "code",
   "execution_count": null,
   "metadata": {
    "scrolled": false
   },
   "outputs": [],
   "source": [
    "from gprofiler_plotting import plot_enrich\n",
    "\n",
    "plot_enrich(paneth_enrich_results)"
   ]
  },
  {
   "cell_type": "markdown",
   "metadata": {},
   "source": [
    "In the above plot the number of differentially expressed genes (DEGs) that share a particular GO term is represented by the size of the datapoint, the color shows the FDR-corrected p-value, and the x-axis is the ratio of genes in the full DEG set that contain the particular annotation."
   ]
  },
  {
   "cell_type": "markdown",
   "metadata": {},
   "source": [
    "<a id=\"Write\"></a>"
   ]
  },
  {
   "cell_type": "markdown",
   "metadata": {},
   "source": [
    "## 3.10 Write to file\n",
    "[Timing: 37s]"
   ]
  },
  {
   "cell_type": "code",
   "execution_count": null,
   "metadata": {},
   "outputs": [],
   "source": [
    "#Write to file\n",
    "adata.write('../data/Haber-et-al_mouse-intestinal-epithelium/Haber_et_al_case_study.h5ad')"
   ]
  },
  {
   "cell_type": "markdown",
   "metadata": {},
   "source": [
    "<a id=\"Summary\"></a>"
   ]
  },
  {
   "cell_type": "markdown",
   "metadata": {},
   "source": [
    "# 4 Summary"
   ]
  },
  {
   "cell_type": "markdown",
   "metadata": {},
   "source": [
    "In this case study we went through the typical steps of an scRNA-seq data analysis workflow. We started with general preprocessing steps, which included cell and gene quality control, normalization, batch correction, selection of highly variable genes, visualization, and cell cycle scoring. In these steps the overall structure of the data is explored and filtered to produce optimal downstream analysis results. In the downstream scRNA-seq analysis section we then used methods to interpret the data and investigate particular parts of it. These steps included clustering and cluster identification via marker genes, trajectory inference, identifying genes that change continuously over trajectories, inferring an abstracted graph to relate clusters and trajectory inference in one visualization, and differential expression over experimental conditions (here sampled intestinal regions).\n",
    "\n",
    "Any individual data analysis script will not always follow all of these steps. For example, trajectory inference may not be relevant where no differentiation processes are captured. Furthermore, a typical analysis will not always traverse the above steps as linearly as shown here. We have attempted to show this by suggesting how one can move back to data preprocessing to improve trajectory inference or PAGA. Indeed, all downstream analyses may require going back to tweak or add preprocessing steps to improve the downstream analysis results.\n",
    "\n",
    "A further aspect we stressed in this case study is that one should take care of which stage of data is being used to perform different analysis steps. Uncorrected, normalized data (or raw counts depending on the tool) are generally used for statistical tests where technical covariates such as batch can be included; corrected data should be used to visually compare results as the human eye will not be able to take into account technical differences that confound the comparison. When computing tests such as differential expression or finding marker genes, it is adviseable to use the full data set that is not restricted to highly variable genes. Taking these considerations into account, and ideally standardizing them across the field, will generate reproducible research."
   ]
  },
  {
   "cell_type": "markdown",
   "metadata": {},
   "source": [
    "<a id=\"Comparison\"></a>"
   ]
  },
  {
   "cell_type": "markdown",
   "metadata": {
    "collapsed": true
   },
   "source": [
    "## 4.1 Comparison with published results"
   ]
  },
  {
   "cell_type": "markdown",
   "metadata": {},
   "source": [
    "To ensure that we have not completely changed the analysis from the (Haber et al., 2018) publication. We briefly show the distribution of cell types that were detected in the data by original authors. This version of the data is obtained from https://www.ncbi.nlm.nih.gov/geo/download/?acc=GSE92332&format=file&file=GSE92332%5FRegional%5FUMIcounts%2Etxt%2Egz."
   ]
  },
  {
   "cell_type": "code",
   "execution_count": null,
   "metadata": {},
   "outputs": [],
   "source": [
    "# Read in data\n",
    "data_file_pub = '../data/Haber-et-al_mouse-intestinal-epithelium/GSE92332_Regional_UMIcounts.txt'\n",
    "\n",
    "adata_pub = sc.read(data_file_pub, cache=True)\n",
    "adata_pub = adata_pub.transpose()"
   ]
  },
  {
   "cell_type": "code",
   "execution_count": null,
   "metadata": {},
   "outputs": [],
   "source": [
    "# Annotate the data sets\n",
    "adata_pub.obs['barcode'] = [a.split('_')[0] for a in adata_pub.obs_names]\n",
    "adata_pub.obs['region'] = [a.split('_')[1] for a in adata_pub.obs_names]\n",
    "adata_pub.obs['sample'] = [a.split('_')[2] for a in adata_pub.obs_names]\n",
    "adata_pub.obs['cell_label'] = [a.split('_')[3] for a in adata_pub.obs_names]"
   ]
  },
  {
   "cell_type": "code",
   "execution_count": null,
   "metadata": {
    "scrolled": true
   },
   "outputs": [],
   "source": [
    "#Cell type annotation from publication\n",
    "print(adata_pub.shape)\n",
    "adata_pub.obs['cell_label'].value_counts()"
   ]
  },
  {
   "cell_type": "code",
   "execution_count": null,
   "metadata": {},
   "outputs": [],
   "source": [
    "#Our cell type labels\n",
    "print(adata.shape)\n",
    "adata.obs['louvain_r0.5'].value_counts()"
   ]
  },
  {
   "cell_type": "markdown",
   "metadata": {
    "collapsed": true
   },
   "source": [
    "In our analysis we have kept 800 more cells than in the publication. This is due to more permissive QC thresholding and likely results in more paneth and more EP cells captured. Furthermore, we have subclustered the Stem cell population from the publication to highlight a cluster that will turn into enterocytes ('EP (early)'). There are also smaller shifts between numbers of enteroendocrine cells, goblet cells, and tuft cellls. In this analysis we have shifted the balance towards assigning more cells to the goblet cell population. \n",
    "\n",
    "Overall, this brief comparison suggests that we have reproduced similar results."
   ]
  }
 ],
 "metadata": {
  "kernelspec": {
   "display_name": "Python 3",
   "language": "python",
   "name": "python3"
  },
  "language_info": {
   "codemirror_mode": {
    "name": "ipython",
    "version": 3
   },
   "file_extension": ".py",
   "mimetype": "text/x-python",
   "name": "python",
   "nbconvert_exporter": "python",
   "pygments_lexer": "ipython3",
   "version": "3.7.3"
  },
  "toc": {
   "base_numbering": "0",
   "nav_menu": {},
   "number_sections": true,
   "sideBar": true,
   "skip_h1_title": false,
   "title_cell": "Table of Contents",
   "title_sidebar": "Contents",
   "toc_cell": false,
   "toc_position": {
    "height": "calc(100% - 180px)",
    "left": "10px",
    "top": "150px",
    "width": "302px"
   },
   "toc_section_display": true,
   "toc_window_display": true
  },
  "varInspector": {
   "cols": {
    "lenName": 16,
    "lenType": 16,
    "lenVar": 40
   },
   "kernels_config": {
    "python": {
     "delete_cmd_postfix": "",
     "delete_cmd_prefix": "del ",
     "library": "var_list.py",
     "varRefreshCmd": "print(var_dic_list())"
    },
    "r": {
     "delete_cmd_postfix": ") ",
     "delete_cmd_prefix": "rm(",
     "library": "var_list.r",
     "varRefreshCmd": "cat(var_dic_list()) "
    }
   },
   "types_to_exclude": [
    "module",
    "function",
    "builtin_function_or_method",
    "instance",
    "_Feature"
   ],
   "window_display": false
  }
 },
 "nbformat": 4,
 "nbformat_minor": 2
}
